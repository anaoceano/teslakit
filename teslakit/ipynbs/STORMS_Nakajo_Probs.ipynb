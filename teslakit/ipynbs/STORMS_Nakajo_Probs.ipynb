{
 "cells": [
  {
   "cell_type": "code",
   "execution_count": 1,
   "metadata": {},
   "outputs": [],
   "source": [
    "#!/usr/bin/env python\n",
    "# -*- coding: utf-8 -*-\n",
    "\n",
    "# basic import\n",
    "import os\n",
    "import os.path as op\n",
    "import sys\n",
    "sys.path.insert(0, op.dirname(os.getcwd()))\n",
    "\n",
    "# python libs\n",
    "import xarray as xr\n",
    "import numpy as np\n",
    "import matplotlib.pyplot as plt\n",
    "plt.rcParams['figure.figsize'] = [18, 8]\n",
    "\n",
    "# tk libs\n",
    "from lib.objs.tkpaths import Site\n",
    "from lib.io.matlab import ReadNakajoMats\n",
    "from lib.util.operations import GetUniqueRows\n",
    "from lib.tcyclone import Extract_Circle, GetStormCategory, \\\n",
    "SortCategoryCount\n",
    "\n",
    "\n",
    "# --------------------------------------\n",
    "# Site paths and parameters\n",
    "site = Site('KWAJALEIN')\n",
    "\n",
    "DB = site.pc.DB                        # common database\n",
    "ST = site.pc.site                      # site database\n",
    "PR = site.params                       # site parameters\n",
    "\n",
    "# input files\n",
    "p_nakajo_mats = DB.tcs.nakajo_mats\n",
    "\n",
    "# output files\n",
    "p_probs_synth = ST.tcs.probs_synth\n",
    "\n",
    "# wave point lon, lat, and radius for TC selection\n",
    "pnt_lon = float(PR.WAVES.point_longitude)\n",
    "pnt_lat = float(PR.WAVES.point_latitude)\n",
    "r1 = float(PR.TCS.r1)                   # bigger one\n",
    "r2 = float(PR.TCS.r2)                   # smaller one\n"
   ]
  },
  {
   "cell_type": "code",
   "execution_count": 2,
   "metadata": {},
   "outputs": [
    {
     "name": "stderr",
     "output_type": "stream",
     "text": [
      "/usr/local/lib/python2.7/site-packages/ipykernel_launcher.py:11: FutureWarning: The inplace argument has been deprecated and will be removed in xarray 0.12.0.\n",
      "  # This is added back by InteractiveShellApp.init_path()\n"
     ]
    },
    {
     "name": "stdout",
     "output_type": "stream",
     "text": [
      "\n",
      "Extracting Synthetic TCs from Nakajo database...\n",
      " Lon = 167.50º , Lat = 9.75º\n",
      " R1  =  14.00º , R2  =   4.00º\n"
     ]
    },
    {
     "name": "stderr",
     "output_type": "stream",
     "text": [
      "/usr/local/lib/python2.7/site-packages/numpy/core/fromnumeric.py:83: RuntimeWarning: invalid value encountered in reduce\n",
      "  return ufunc.reduce(obj, axis, dtype, out, **passkwargs)\n"
     ]
    },
    {
     "name": "stdout",
     "output_type": "stream",
     "text": [
      "<xarray.Dataset>\n",
      "Dimensions:              (storm: 61898)\n",
      "Coordinates:\n",
      "  * storm                (storm) int64 5 8 14 50 ... 999974 999982 999986 999990\n",
      "Data variables:\n",
      "    category             (storm) int64 1 4 2 2 1 0 0 0 1 5 ... 1 2 1 1 4 0 2 2 1\n",
      "    inside_pressure_min  (storm) float64 983.2 932.8 965.7 ... 968.4 975.2 992.4\n",
      "    inside_pos           (storm) object [61 62 63 64 65 66 67 68 69 70 71 72 73 74 75 76 77 78 79 80 81 82 83 84\n",
      " 85 86] ... [ 0  1  2  3  4  5  6  7  8  9 10 11 12 13 14 15 16 17]\n",
      "    inside_pressure      (storm) object [991.98583 991.81708 991.41019 990.96488 990.61428 990.41208 990.09207\n",
      " 989.73297 989.71549 989.4566  989.51435 989.22639 988.65958 988.79692\n",
      " 988.61231 988.16172 988.14866 987.9042  987.85809 987.54766 986.45411\n",
      " 986.06667 985.17192 984.62584 983.67912 983.23432] ... [1007.5     1007.22777 1006.14697 1004.80279 1003.26299 1002.80732\n",
      " 1000.48049  998.02579  997.22962  996.52729  995.96678  996.13626\n",
      "  995.89496  996.85364  996.83482  996.48428  992.99994  992.3655 ]\n",
      "Attributes:\n",
      "    point_lon:  167.5\n",
      "    point_r:    14.0\n",
      "    point_lat:  9.75\n",
      "\n",
      "<xarray.Dataset>\n",
      "Dimensions:              (storm: 12749)\n",
      "Coordinates:\n",
      "  * storm                (storm) int64 5 296 299 387 ... 999877 999982 999986\n",
      "Data variables:\n",
      "    category             (storm) int64 1 3 1 1 2 4 0 2 0 0 ... 2 3 2 1 1 0 2 0 1\n",
      "    inside_pressure_min  (storm) float64 988.1 963.0 998.7 ... 1.007e+03 998.5\n",
      "    inside_pos           (storm) object [71 72 73 74 75 76 77] ... [ 0  1  2  3  4  5  6  7  8  9 10 11 12 13 14]\n",
      "    inside_pressure      (storm) object [989.51435 989.22639 988.65958 988.79692 988.61231 988.16172 988.14866] ... [1001.4     1001.71649 1000.46141 1001.56834 1001.25722 1001.92674\n",
      " 1002.12245 1001.9846  1002.15152 1001.95949 1002.03358 1001.83816\n",
      " 1000.84977  998.50035  999.04421]\n",
      "Attributes:\n",
      "    point_lon:  167.5\n",
      "    point_r:    4.0\n",
      "    point_lat:  9.75\n"
     ]
    }
   ],
   "source": [
    "# --------------------------------------\n",
    "# read each nakajo simulation pack from .mat custom files \n",
    "xds_Nakajo = ReadNakajoMats(p_nakajo_mats)\n",
    "\n",
    "# rename lon,lat variables \n",
    "xds_Nakajo.rename(\n",
    "    {\n",
    "        'ylon_TC':'lon',\n",
    "        'ylat_TC':'lat',\n",
    "        'yCPRES':'pressure',\n",
    "    }, inplace=True)\n",
    "\n",
    "\n",
    "# Extract synthetic TCs at 2 radius to get category change \n",
    "print(\n",
    "'\\nExtracting Synthetic TCs from Nakajo database...\\n \\\n",
    "Lon = {0:.2f}º , Lat = {1:.2f}º\\n \\\n",
    "R1  = {2:6.2f}º , R2  = {3:6.2f}º'.format(\n",
    "    pnt_lon, pnt_lat, r1, r2)\n",
    ")\n",
    "\n",
    "# Extract TCs inside R=14 and positions\n",
    "_, xds_in_r1 = Extract_Circle(\n",
    "    xds_Nakajo, pnt_lon, pnt_lat, r1)\n",
    "\n",
    "# Extract TCs inside R=4 and positions\n",
    "_, xds_in_r2 = Extract_Circle(\n",
    "    xds_Nakajo, pnt_lon, pnt_lat, r2)\n",
    "\n",
    "print xds_in_r1\n",
    "print ''\n",
    "print xds_in_r2\n"
   ]
  },
  {
   "cell_type": "code",
   "execution_count": 3,
   "metadata": {},
   "outputs": [
    {
     "name": "stdout",
     "output_type": "stream",
     "text": [
      "\n",
      "Calculating Syntethic TCs category-change probabilities...\n",
      "<xarray.Dataset>\n",
      "Dimensions:                  (category: 6)\n",
      "Coordinates:\n",
      "  * category                 (category) int64 0 1 2 3 4 5\n",
      "Data variables:\n",
      "    category_change_sum      (category) int64 19762 18114 3676 4090 1740 1767\n",
      "    category_change_count    (category, category) int64 1809 1288 273 ... 0 985\n",
      "    category_change_probs    (category, category) float64 0.08386 ... 0.252\n",
      "    category_nochange_probs  (category) float64 0.9161 0.8766 ... 0.4258 0.4521\n",
      "    category_change_cumsum   (category, category) float64 0.08386 ... 0.5479\n",
      "\n",
      "Syntethic TCs category-change stored at:\n",
      "/Users/ripollcab/Projects/TESLA-kit/source/teslakit/data/sites/KWAJALEIN/TCs/TCs_synth_ProbsChange.nc\n"
     ]
    }
   ],
   "source": [
    "print('\\nCalculating Syntethic TCs category-change probabilities...')\n",
    "\n",
    "# Get min pressure and storm category inside both circles\n",
    "n_storms = len(xds_in_r1.storm)\n",
    "categ_r1r2 = np.empty((n_storms, 2))\n",
    "for i in range(len(xds_in_r1.storm)):\n",
    "\n",
    "    # min pressure inside R1\n",
    "    storm_in_r1 = xds_in_r1.isel(storm=[i])\n",
    "    storm_id = storm_in_r1.storm.values[0]\n",
    "    storm_cat_r1 = storm_in_r1.category\n",
    "\n",
    "    # min pressure inside R2\n",
    "    if storm_id in xds_in_r2.storm.values[:]:\n",
    "        storm_in_r2 = xds_in_r2.sel(storm=[storm_id])\n",
    "        storm_cat_r2 = storm_in_r2.category\n",
    "    else:\n",
    "        storm_cat_r2 = 9  # no category \n",
    "\n",
    "    # store categories\n",
    "    categ_r1r2[i,:] = [storm_cat_r1, storm_cat_r2]\n",
    "\n",
    "\n",
    "# count category changes and sort it\n",
    "categ_count = GetUniqueRows(categ_r1r2)\n",
    "categ_count = SortCategoryCount(categ_count)\n",
    "\n",
    "# calculate probability\n",
    "m_count = np.reshape(categ_count[:,2], (6,-1)).T\n",
    "m_sum = np.sum(m_count,axis=0)\n",
    "\n",
    "probs = m_count.astype(float)/m_sum.astype(float)\n",
    "probs_cs = np.cumsum(probs, axis=0)\n",
    "\n",
    "# store output using xarray\n",
    "xds_categ_cp = xr.Dataset(\n",
    "    {\n",
    "        'category_change_count': (('category','category'), m_count[:-1,:]),\n",
    "        'category_change_sum': (('category'), m_count[-1,:]),\n",
    "        'category_change_probs': (('category','category'), probs[:-1,:]),\n",
    "        'category_nochange_probs': (('category'), probs[-1,:]),\n",
    "        'category_change_cumsum': (('category','category'), probs_cs[:-1,:]),\n",
    "    },\n",
    "    coords = {\n",
    "        'category': [0,1,2,3,4,5]\n",
    "    }\n",
    ")\n",
    "xds_categ_cp.to_netcdf(p_probs_synth)\n",
    "print xds_categ_cp\n",
    "print('\\nSyntethic TCs category-change stored at:\\n{0}'.format(p_probs_synth))\n"
   ]
  },
  {
   "cell_type": "code",
   "execution_count": 31,
   "metadata": {},
   "outputs": [
    {
     "data": {
      "image/png": "[encoded data removed]",
      "text/plain": [
       "<Figure size 1296x576 with 2 Axes>"
      ]
     },
     "metadata": {
      "needs_background": "light"
     },
     "output_type": "display_data"
    }
   ],
   "source": [
    "# plot category change probabilities\n",
    "cp = xds_categ_cp.category_change_probs.values[:]\n",
    "cs = xds_categ_cp.category.values[:]\n",
    "\n",
    "fig, axes = plt.subplots()\n",
    "axes.set_title('Category change probabilities')\n",
    "axes.set_xlabel('category')\n",
    "axes.set_ylabel('category')\n",
    "pc=axes.pcolor(cp)\n",
    "fig.colorbar(pc)\n",
    "\n",
    "plt.show()\n"
   ]
  },
  {
   "cell_type": "code",
   "execution_count": null,
   "metadata": {},
   "outputs": [],
   "source": []
  }
 ],
 "metadata": {
  "kernelspec": {
   "display_name": "Python 2",
   "language": "python",
   "name": "python2"
  },
  "language_info": {
   "codemirror_mode": {
    "name": "ipython",
    "version": 2
   },
   "file_extension": ".py",
   "mimetype": "text/x-python",
   "name": "python",
   "nbconvert_exporter": "python",
   "pygments_lexer": "ipython2",
   "version": "2.7.10"
  }
 },
 "nbformat": 4,
 "nbformat_minor": 2
}
