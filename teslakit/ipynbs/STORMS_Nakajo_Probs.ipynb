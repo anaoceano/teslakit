{
 "cells": [
  {
   "cell_type": "code",
   "execution_count": 1,
   "metadata": {},
   "outputs": [],
   "source": [
    "#!/usr/bin/env python\n",
    "# -*- coding: utf-8 -*-\n",
    "\n",
    "# basic import\n",
    "import os\n",
    "import os.path as op\n",
    "import sys\n",
    "sys.path.insert(0, op.dirname(os.getcwd()))\n",
    "\n",
    "# python libs\n",
    "import xarray as xr\n",
    "import numpy as np\n",
    "import matplotlib.pyplot as plt\n",
    "plt.rcParams['figure.figsize'] = [18, 8]\n",
    "\n",
    "# tk libs\n",
    "from lib.objs.tkpaths import Site\n",
    "from lib.io.matlab import ReadNakajoMats\n",
    "from lib.util.operations import GetUniqueRows\n",
    "from lib.tcyclone import Extract_Circle_Nakajo, SortCategoryCount\n",
    "\n",
    "\n",
    "# --------------------------------------\n",
    "# Site paths and parameters\n",
    "site = Site('KWAJALEIN')\n",
    "\n",
    "DB = site.pc.DB                        # common database\n",
    "ST = site.pc.site                      # site database\n",
    "PR = site.params                       # site parameters\n",
    "\n",
    "# input files\n",
    "p_nakajo_mats = DB.TCs.nakajo_mats\n",
    "\n",
    "# output files\n",
    "p_probs_synth = ST.TCs.probs_synth\n",
    "\n",
    "# wave point lon, lat, and radius for TC selection\n",
    "pnt_lon = float(PR.WAVES.point_longitude)\n",
    "pnt_lat = float(PR.WAVES.point_latitude)\n",
    "r1 = float(PR.TCS.r1)                   # bigger one\n",
    "r2 = float(PR.TCS.r2)                   # smaller one\n"
   ]
  },
  {
   "cell_type": "code",
   "execution_count": 6,
   "metadata": {},
   "outputs": [
    {
     "name": "stdout",
     "output_type": "stream",
     "text": [
      "\n",
      "Extracting Synthetic TCs from Nakajo database...\n",
      " Lon = 167.50º , Lat = 9.75º\n",
      " R1  =  14.00º , R2  =   4.00º\n"
     ]
    },
    {
     "name": "stderr",
     "output_type": "stream",
     "text": [
      "/Users/nico/Projects/TESLA-kit/source/venv/lib/python2.7/site-packages/numpy/core/fromnumeric.py:83: RuntimeWarning: invalid value encountered in reduce\n",
      "  return ufunc.reduce(obj, axis, dtype, out, **passkwargs)\n"
     ]
    },
    {
     "name": "stdout",
     "output_type": "stream",
     "text": [
      "<xarray.Dataset>\n",
      "Dimensions:       (storm: 61)\n",
      "Coordinates:\n",
      "  * storm         (storm) int64 5 8 14 50 52 53 54 ... 892 915 926 936 988 995\n",
      "Data variables:\n",
      "    category      (storm) int64 1 4 3 2 1 0 0 0 2 1 5 ... 3 1 1 1 0 4 3 1 0 1 1\n",
      "    pressure_min  (storm) float64 983.2 932.8 960.5 ... 1.007e+03 994.3 995.3\n",
      "Attributes:\n",
      "    point_lon:  167.5\n",
      "    point_r:    14.0\n",
      "    point_lat:  9.75\n",
      "\n",
      "<xarray.Dataset>\n",
      "Dimensions:       (storm: 12)\n",
      "Coordinates:\n",
      "  * storm         (storm) int64 5 296 299 387 611 612 623 636 670 846 892 915\n",
      "Data variables:\n",
      "    category      (storm) int64 1 3 1 1 2 4 0 2 0 0 1 1\n",
      "    pressure_min  (storm) float64 988.1 961.0 998.7 ... 1.006e+03 992.9 994.5\n",
      "Attributes:\n",
      "    point_lon:  167.5\n",
      "    point_r:    4.0\n",
      "    point_lat:  9.75\n"
     ]
    }
   ],
   "source": [
    "# --------------------------------------\n",
    "# read each nakajo simulation pack from .mat custom files \n",
    "xds_Nakajo = ReadNakajoMats(p_nakajo_mats)\n",
    "\n",
    "# TODO QUITAR\n",
    "xds_Nakajo = xds_Nakajo.isel(storm=slice(1,1000))\n",
    "\n",
    "\n",
    "# dictionary with needed variable names\n",
    "d_vns = {\n",
    "    'longitude':'ylon_TC',\n",
    "    'latitude':'ylat_TC',\n",
    "    'pressure':'yCPRES',\n",
    "}\n",
    "\n",
    "\n",
    "# Extract synthetic TCs at 2 radius to get category change \n",
    "print(\n",
    "'\\nExtracting Synthetic TCs from Nakajo database...\\n \\\n",
    "Lon = {0:.2f}º , Lat = {1:.2f}º\\n \\\n",
    "R1  = {2:6.2f}º , R2  = {3:6.2f}º'.format(\n",
    "    pnt_lon, pnt_lat, r1, r2)\n",
    ")\n",
    "\n",
    "# Extract TCs inside R=14 and positions\n",
    "_, xds_in_r1 = Extract_Circle_Nakajo(\n",
    "    xds_Nakajo, pnt_lon, pnt_lat, r1, d_vns)\n",
    "\n",
    "# Extract TCs inside R=4 and positions\n",
    "_, xds_in_r2 = Extract_Circle_Nakajo(\n",
    "    xds_Nakajo, pnt_lon, pnt_lat, r2, d_vns)\n",
    "\n",
    "print(xds_in_r1)\n",
    "print('')\n",
    "print(xds_in_r2)\n"
   ]
  },
  {
   "cell_type": "code",
   "execution_count": 10,
   "metadata": {},
   "outputs": [
    {
     "name": "stdout",
     "output_type": "stream",
     "text": [
      "\n",
      "Calculating Syntethic TCs category-change probabilities...\n",
      "<xarray.Dataset>\n",
      "Dimensions:                  (category: 6)\n",
      "Coordinates:\n",
      "  * category                 (category) int64 0 1 2 3 4 5\n",
      "Data variables:\n",
      "    category_change_sum      (category) int64 ...\n",
      "    category_change_count    (category, category) int64 ...\n",
      "    category_change_probs    (category, category) float64 ...\n",
      "    category_nochange_probs  (category) float64 ...\n",
      "    category_change_cumsum   (category, category) float64 ...\n",
      "\n",
      "Syntethic TCs category-change stored at:\n",
      "/Users/nico/Projects/TESLA-kit/source/teslakit/data/sites/KWAJALEIN/TCs/TCs_synth_ProbsChange.nc\n"
     ]
    }
   ],
   "source": [
    "print('\\nCalculating Syntethic TCs category-change probabilities...')\n",
    "\n",
    "# Get min pressure and storm category inside both circles\n",
    "n_storms = len(xds_in_r1.storm)\n",
    "categ_r1r2 = np.empty((n_storms, 2))\n",
    "for i in range(len(xds_in_r1.storm)):\n",
    "\n",
    "    # min pressure inside R1\n",
    "    storm_in_r1 = xds_in_r1.isel(storm=[i])\n",
    "    storm_id = storm_in_r1.storm.values[0]\n",
    "    storm_cat_r1 = storm_in_r1.category\n",
    "\n",
    "    # min pressure inside R2\n",
    "    if storm_id in xds_in_r2.storm.values[:]:\n",
    "        storm_in_r2 = xds_in_r2.sel(storm=[storm_id])\n",
    "        storm_cat_r2 = storm_in_r2.category\n",
    "    else:\n",
    "        storm_cat_r2 = 9  # no category \n",
    "\n",
    "    # store categories\n",
    "    categ_r1r2[i,:] = [storm_cat_r1, storm_cat_r2]\n",
    "\n",
    "\n",
    "# count category changes and sort it\n",
    "categ_count = GetUniqueRows(categ_r1r2)\n",
    "categ_count = SortCategoryCount(categ_count)\n",
    "\n",
    "# calculate probability\n",
    "m_count = np.reshape(categ_count[:,2], (6,-1)).T\n",
    "m_sum = np.sum(m_count,axis=0)\n",
    "\n",
    "probs = m_count.astype(float)/m_sum.astype(float)\n",
    "probs_cs = np.cumsum(probs, axis=0)\n",
    "\n",
    "# store output using xarray\n",
    "xds_categ_cp = xr.Dataset(\n",
    "    {\n",
    "        'category_change_count': (('category','category'), m_count[:-1,:]),\n",
    "        'category_change_sum': (('category'), m_count[-1,:]),\n",
    "        'category_change_probs': (('category','category'), probs[:-1,:]),\n",
    "        'category_nochange_probs': (('category'), probs[-1,:]),\n",
    "        'category_change_cumsum': (('category','category'), probs_cs[:-1,:]),\n",
    "    },\n",
    "    coords = {\n",
    "        'category': [0,1,2,3,4,5]\n",
    "    }\n",
    ")\n",
    "xds_categ_cp.to_netcdf(p_probs_synth)\n",
    "print(xds_categ_cp)\n",
    "print('\\nSyntethic TCs category-change stored at:\\n{0}'.format(p_probs_synth))\n"
   ]
  },
  {
   "cell_type": "code",
   "execution_count": 11,
   "metadata": {},
   "outputs": [
    {
     "data": {
      "image/png": "[encoded data removed]",
      "text/plain": [
       "<Figure size 432x288 with 2 Axes>"
      ]
     },
     "metadata": {
      "needs_background": "light"
     },
     "output_type": "display_data"
    }
   ],
   "source": [
    "# plot category change probabilities\n",
    "cp = xds_categ_cp.category_change_probs.values[:]\n",
    "cs = xds_categ_cp.category.values[:]\n",
    "\n",
    "fig, axes = plt.subplots()\n",
    "axes.set_title('Category change probabilities')\n",
    "axes.set_xlabel('category')\n",
    "axes.set_ylabel('category')\n",
    "pc=axes.pcolor(cp)\n",
    "fig.colorbar(pc)\n",
    "\n",
    "plt.show()\n"
   ]
  },
  {
   "cell_type": "code",
   "execution_count": null,
   "metadata": {},
   "outputs": [],
   "source": []
  }
 ],
 "metadata": {
  "kernelspec": {
   "display_name": "Python 2",
   "language": "python",
   "name": "python2"
  },
  "language_info": {
   "codemirror_mode": {
    "name": "ipython",
    "version": 2
   },
   "file_extension": ".py",
   "mimetype": "text/x-python",
   "name": "python",
   "nbconvert_exporter": "python",
   "pygments_lexer": "ipython2",
   "version": "2.7.10"
  }
 },
 "nbformat": 4,
 "nbformat_minor": 2
}
