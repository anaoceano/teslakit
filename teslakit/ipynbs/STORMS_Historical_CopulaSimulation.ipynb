{
 "cells": [
  {
   "cell_type": "code",
   "execution_count": 1,
   "metadata": {},
   "outputs": [],
   "source": [
    "#!/usr/bin/env python\n",
    "# -*- coding: utf-8 -*-\n",
    "\n",
    "# basic import\n",
    "import os\n",
    "import os.path as op\n",
    "import sys\n",
    "sys.path.insert(0, op.dirname(os.getcwd()))\n",
    "\n",
    "# python libs\n",
    "import xarray as xr\n",
    "import numpy as np\n",
    "import matplotlib.pyplot as plt\n",
    "plt.rcParams['figure.figsize'] = [18, 8]\n",
    "\n",
    "# tk libs\n",
    "from lib.objs.tkpaths import Site\n",
    "from lib.data_fetcher.STORMS import Download_NOAA_WMO\n",
    "from lib.tcyclone import Extract_Circle\n",
    "from lib.plotting.storms import WorldMap_Storms\n",
    "from lib.statistical import CopulaSimulation\n",
    "\n",
    "\n",
    "# --------------------------------------\n",
    "# Site paths and parameters\n",
    "site = Site('KWAJALEIN')\n",
    "\n",
    "DB = site.pc.DB                        # common database\n",
    "ST = site.pc.site                      # site database\n",
    "PR = site.params                       # site parameters\n",
    "\n",
    "# input files\n",
    "p_hist_r1_params = ST.TCs.hist_r1_params\n",
    "p_hist_r2_params = ST.TCs.hist_r2_params\n",
    "\n",
    "# output files\n",
    "\n",
    "\n",
    "# parameters\n",
    "num_sim_rnd = int(PR.TCS.num_simulate_rnd)\n"
   ]
  },
  {
   "cell_type": "code",
   "execution_count": 2,
   "metadata": {},
   "outputs": [
    {
     "name": "stderr",
     "output_type": "stream",
     "text": [
      "/Users/nico/Projects/TESLA-kit/source/venv3/lib/python3.7/site-packages/scipy/stats/_continuous_distns.py:2247: RuntimeWarning: divide by zero encountered in true_divide\n",
      "  val = val + cnk * (-1) ** ki / (1.0 - c * ki)\n",
      "/Users/nico/Projects/TESLA-kit/source/venv3/lib/python3.7/site-packages/scipy/stats/_distn_infrastructure.py:1035: RuntimeWarning: invalid value encountered in subtract\n",
      "  mu2 = mu2p - mu * mu\n",
      "/Users/nico/Projects/TESLA-kit/source/venv3/lib/python3.7/site-packages/scipy/stats/_distn_infrastructure.py:2316: RuntimeWarning: invalid value encountered in double_scalars\n",
      "  Lhat = muhat - Shat*mu\n"
     ]
    },
    {
     "name": "stdout",
     "output_type": "stream",
     "text": [
      "[[ 15.39983142  21.13264496  95.42802283 120.99241645  33.50607342]\n",
      " [  7.23927484  10.27641394 132.08652886 108.51463555  15.20414207]\n",
      " [  3.43518583   7.75157125 103.03390751 137.02694902  18.00245675]\n",
      " ...\n",
      " [  5.07536586   9.23427729  84.30796711  80.89582397  10.40852508]\n",
      " [ 11.98048369  18.60185825  94.5472342   74.99942097  20.5322163 ]\n",
      " [ 18.80530358  18.15562648 187.8475076  170.21566482  16.26791979]]\n"
     ]
    }
   ],
   "source": [
    "# --------------------------------------\n",
    "# Probabilistic simulation Historical TCs\n",
    "\n",
    "# aux function\n",
    "def FixPareto(var):\n",
    "    'Fix data. It needs to start at 0 for Pareto adjustment '\n",
    "    \n",
    "    mx = np.amax(var)\n",
    "    aux = mx + np.absolute(var - mx)\n",
    "    var_pareto = aux - np.amin(aux) + 0.00001\n",
    "    \n",
    "    return var_pareto\n",
    "\n",
    "\n",
    "# use small radius (4º)\n",
    "xds_TCs_r2_params = xr.open_dataset(p_hist_r2_params)\n",
    "\n",
    "pmean = xds_TCs_r2_params.pressure_mean.values[:]\n",
    "pmin = xds_TCs_r2_params.pressure_min.values[:]\n",
    "gamma = xds_TCs_r2_params.gamma.values[:]\n",
    "delta = xds_TCs_r2_params.delta.values[:]\n",
    "vmean = xds_TCs_r2_params.velocity_mean.values[:]\n",
    "\n",
    "# fix pressure for pareto adjustment (start at 0)\n",
    "pmean_p = FixPareto(pmean)\n",
    "pmin_p = FixPareto(pmin)\n",
    "\n",
    "# join storm parameters for copula simulation\n",
    "storm_params = np.column_stack(\n",
    "    (pmean_p, pmin_p, gamma, delta, vmean)\n",
    ")\n",
    "    \n",
    "# statistical simulate PCs using copulas \n",
    "kernels = ['GPareto', 'GPareto', 'ECDF', 'ECDF', 'ECDF']\n",
    "storm_params_sim = CopulaSimulation(storm_params, kernels, num_sim_rnd)\n",
    "\n",
    "print(storm_params_sim)\n"
   ]
  },
  {
   "cell_type": "code",
   "execution_count": null,
   "metadata": {},
   "outputs": [],
   "source": []
  }
 ],
 "metadata": {
  "kernelspec": {
   "display_name": "teslakit3",
   "language": "python",
   "name": "teslakit3"
  },
  "language_info": {
   "codemirror_mode": {
    "name": "ipython",
    "version": 3
   },
   "file_extension": ".py",
   "mimetype": "text/x-python",
   "name": "python",
   "nbconvert_exporter": "python",
   "pygments_lexer": "ipython3",
   "version": "3.7.2"
  }
 },
 "nbformat": 4,
 "nbformat_minor": 2
}
