{
 "cells": [
  {
   "cell_type": "code",
   "execution_count": 1,
   "metadata": {},
   "outputs": [],
   "source": [
    "#!/usr/bin/env python\n",
    "# -*- coding: utf-8 -*-\n",
    "\n",
    "# basic import\n",
    "import os\n",
    "import os.path as op\n",
    "import sys\n",
    "sys.path.insert(0, op.dirname(os.getcwd()))\n",
    "\n",
    "# python libs\n",
    "import xarray as xr\n",
    "import numpy as np\n",
    "import matplotlib.pyplot as plt\n",
    "plt.rcParams['figure.figsize'] = [18, 8]\n",
    "\n",
    "# tk libs\n",
    "from lib.objs.tkpaths import Site\n",
    "from lib.data_fetcher.STORMS import Download_NOAA_WMO\n",
    "from lib.tcyclone import Extract_Circle\n",
    "from lib.plotting.storms import WorldMap_Storms\n",
    "from lib.statistical import CopulaSimulation\n",
    "\n",
    "\n",
    "# --------------------------------------\n",
    "# Site paths and parameters\n",
    "site = Site('KWAJALEIN')\n",
    "\n",
    "DB = site.pc.DB                        # common database\n",
    "ST = site.pc.site                      # site database\n",
    "PR = site.params                       # site parameters\n",
    "\n",
    "# input files\n",
    "p_hist_r1_params = ST.TCs.hist_r1_params\n",
    "p_hist_r2_params = ST.TCs.hist_r2_params\n",
    "\n",
    "# output files\n",
    "\n",
    "\n",
    "# parameters\n",
    "num_sim_rnd = int(PR.TCS.num_simulate_rnd)\n"
   ]
  },
  {
   "cell_type": "code",
   "execution_count": 2,
   "metadata": {},
   "outputs": [
    {
     "name": "stderr",
     "output_type": "stream",
     "text": [
      "/Users/nico/Projects/TESLA-kit/source/venv/lib/python2.7/site-packages/scipy/stats/_continuous_distns.py:2159: RuntimeWarning: divide by zero encountered in true_divide\n",
      "  val = val + cnk * (-1) ** ki / (1.0 - c * ki)\n",
      "/Users/nico/Projects/TESLA-kit/source/venv/lib/python2.7/site-packages/scipy/stats/_distn_infrastructure.py:1037: RuntimeWarning: invalid value encountered in subtract\n",
      "  mu2 = mu2p - mu * mu\n",
      "/Users/nico/Projects/TESLA-kit/source/venv/lib/python2.7/site-packages/scipy/stats/_distn_infrastructure.py:2305: RuntimeWarning: invalid value encountered in double_scalars\n",
      "  Lhat = muhat - Shat*mu\n"
     ]
    },
    {
     "name": "stdout",
     "output_type": "stream",
     "text": [
      "[[  3.23680017   5.63380063 131.64109519 108.80871369  10.9522145 ]\n",
      " [  3.34354316   5.89821671  95.16691596  43.55848468  10.26151061]\n",
      " [  9.55767157   8.87719544 115.46993866 123.47460107  14.32354307]\n",
      " ...\n",
      " [  4.09162149   6.47690828  99.99258517 120.70615841  31.87056064]\n",
      " [ 21.90802782  25.56931047 122.85397059 143.54537571  20.9059737 ]\n",
      " [ 28.94321392  42.95905921 123.99197379 174.10046484  18.01790098]]\n"
     ]
    }
   ],
   "source": [
    "# --------------------------------------\n",
    "# Probabilistic simulation Historical TCs\n",
    "\n",
    "# aux function\n",
    "def FixPareto(var):\n",
    "    'Fix data. It needs to start at 0 for Pareto adjustment '\n",
    "    \n",
    "    mx = np.amax(var)\n",
    "    aux = mx + np.absolute(var - mx)\n",
    "    var_pareto = aux - np.amin(aux) + 0.00001\n",
    "    \n",
    "    return var_pareto\n",
    "\n",
    "\n",
    "# use small radius (4º)\n",
    "xds_TCs_r2_params = xr.open_dataset(p_hist_r2_params)\n",
    "\n",
    "pmean = xds_TCs_r2_params.pressure_mean.values[:]\n",
    "pmin = xds_TCs_r2_params.pressure_min.values[:]\n",
    "gamma = xds_TCs_r2_params.gamma.values[:]\n",
    "delta = xds_TCs_r2_params.delta.values[:]\n",
    "vmean = xds_TCs_r2_params.velocity_mean.values[:]\n",
    "\n",
    "# fix pressure for pareto adjustment (start at 0)\n",
    "pmean_p = FixPareto(pmean)\n",
    "pmin_p = FixPareto(pmin)\n",
    "\n",
    "# join storm parameters for copula simulation\n",
    "storm_params = np.column_stack(\n",
    "    (pmean_p, pmin_p, gamma, delta, vmean)\n",
    ")\n",
    "    \n",
    "# statistical simulate PCs using copulas \n",
    "kernels = ['GPareto', 'GPareto', 'ECDF', 'ECDF', 'ECDF']\n",
    "storm_params_sim = CopulaSimulation(storm_params, kernels, num_sim_rnd)\n",
    "\n",
    "print(storm_params_sim)\n"
   ]
  },
  {
   "cell_type": "code",
   "execution_count": null,
   "metadata": {},
   "outputs": [],
   "source": []
  }
 ],
 "metadata": {
  "kernelspec": {
   "display_name": "Python 2",
   "language": "python",
   "name": "python2"
  },
  "language_info": {
   "codemirror_mode": {
    "name": "ipython",
    "version": 2
   },
   "file_extension": ".py",
   "mimetype": "text/x-python",
   "name": "python",
   "nbconvert_exporter": "python",
   "pygments_lexer": "ipython2",
   "version": "2.7.10"
  }
 },
 "nbformat": 4,
 "nbformat_minor": 2
}
