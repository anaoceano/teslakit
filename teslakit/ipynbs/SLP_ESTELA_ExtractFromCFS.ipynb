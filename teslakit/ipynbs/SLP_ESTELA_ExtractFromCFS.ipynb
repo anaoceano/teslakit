{
 "cells": [
  {
   "cell_type": "code",
   "execution_count": 3,
   "metadata": {},
   "outputs": [],
   "source": [
    "#!/usr/bin/env python\n",
    "# -*- coding: utf-8 -*-\n",
    "\n",
    "# basic import\n",
    "import os\n",
    "import os.path as op\n",
    "import sys\n",
    "sys.path.insert(0, op.dirname(os.getcwd()))\n",
    "\n",
    "# tk libs\n",
    "from lib.objs.tkpaths import Site\n",
    "from lib.io.cfs import ReadSLP\n",
    "\n",
    "\n",
    "# --------------------------------------\n",
    "# Site paths and parameters\n",
    "site = Site('KWAJALEIN')\n",
    "\n",
    "DB = site.pc.DB                            # common database\n",
    "ST = site.pc.site                          # site database\n",
    "PR = site.params                           # site parameters\n",
    "\n",
    "# input files\n",
    "p_DB_cfs_prmsl = DB.CFS.cfs_prmsl\n",
    "\n",
    "# output files\n",
    "p_site_SLP =  ST.ESTELA.slp\n",
    "\n",
    "# SLP extraction coordinates \n",
    "lat1 = float(PR.SLP.lat1)\n",
    "lat2 = float(PR.SLP.lat2)\n",
    "lon1 = float(PR.SLP.lon1)\n",
    "lon2 = float(PR.SLP.lon2)\n",
    "resample = int(PR.SLP.resample)  # 2º resolution\n"
   ]
  },
  {
   "cell_type": "code",
   "execution_count": null,
   "metadata": {},
   "outputs": [],
   "source": [
    "# --------------------------------------\n",
    "# load predictor data (SLP) from CFSR and save to .nc \n",
    "\n",
    "print('\\nReading SLP data from CFS_prmsl database...')\n",
    "xds_SLP_site = ReadSLP(\n",
    "    p_DB_cfs_prmsl,\n",
    "    lat1, lat2, lon1, lon2, resample,\n",
    "    p_save=p_site_SLP)\n"
   ]
  }
 ],
 "metadata": {
  "kernelspec": {
   "display_name": "teslakit",
   "language": "python",
   "name": "teslakit"
  },
  "language_info": {
   "codemirror_mode": {
    "name": "ipython",
    "version": 2
   },
   "file_extension": ".py",
   "mimetype": "text/x-python",
   "name": "python",
   "nbconvert_exporter": "python",
   "pygments_lexer": "ipython2",
   "version": "2.7.10"
  }
 },
 "nbformat": 4,
 "nbformat_minor": 2
}
