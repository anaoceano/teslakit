{
 "cells": [
  {
   "cell_type": "code",
   "execution_count": 1,
   "metadata": {},
   "outputs": [],
   "source": [
    "#!/usr/bin/env python\n",
    "# -*- coding: utf-8 -*-\n",
    "\n",
    "# common\n",
    "import os\n",
    "import os.path as op\n",
    "import ast\n",
    "import pickle\n",
    "import sys\n",
    "sys.path.insert(0, op.dirname(os.getcwd()))\n",
    "\n",
    "# pip\n",
    "import numpy as np\n",
    "import xarray as xr\n",
    "from datetime import datetime\n",
    "\n",
    "# DEV: override installed teslakit\n",
    "import sys\n",
    "sys.path.insert(0,'../../')\n",
    "\n",
    "# tk \n",
    "from teslakit.project_site import Site\n",
    "\n",
    "\n",
    "# --------------------------------------\n",
    "# Create new teslakit project Site\n",
    "\n",
    "data_folder = r'/Users/nico/Projects/TESLA-kit/TeslaKit/data'\n",
    "site = Site(data_folder, 'KWAJALEIN')\n",
    "\n",
    "# Create empty folders\n",
    "site.MakeDirs()\n"
   ]
  },
  {
   "cell_type": "code",
   "execution_count": 2,
   "metadata": {},
   "outputs": [],
   "source": [
    "# --------------------------------------\n",
    "# Required external input files:\n",
    "\n",
    "# 01_SST_AnnualWeatherTypes\n",
    "#    - DB.SST.hist_pacific                # SST Pacific area 'SST_1854_2017_Pacific.nc'\n",
    "\n",
    "# 02_MJO_ALR_Simulation\n",
    "#    - DB.MJO.hist                        # historical MJO (teslakit_downloader)\n",
    "\n",
    "# 03_STORMS_Historical_ExtractRadius\n",
    "#    - DB.TCs.noaa                        # NOAA WMO TCs (teslakit_downloader)\n",
    "\n",
    "# 04_STORMS_Historical_CopulaSimulation_MDA\n",
    "\n",
    "# 05_STORMS_Historical_RBFs_Interpolation\n",
    "\n",
    "# 06_STORMS_CategoryChange_Probs\n",
    "#    - DB.TCs.nakajo_mats                 # Nakajo synthetic TCs\n",
    "\n",
    "# 07_WAVES_CalculateFamilies_RemoveTCs\n",
    "#    - ST.WAVES.partitions_p1             # waves partitions data (GOW)\n",
    "\n",
    "# 08_SLP_ESTELA_PCA_KMArg\n",
    "#    - ST.WAVES.partitions_p1             # waves partitions data (GOW)\n",
    "#    - ST.ESTELA.coastmat                 # estela coast (.mat)\n",
    "#    - ST.ESTELA.estelamat                # estela data (.mat)\n",
    "#    - ST.ESTELA.gowpoint                 # gow point (.mat)\n",
    "#    - ST.ESTELA.slp                      # site slp data (.nc) extracted from CFS\n",
    "\n",
    "# 09_SLP_ESTELA_ALR_Covariates\n",
    "#    - DB.MJO.hist                        # historical MJO (teslakit_downloader)\n",
    "\n",
    "\n",
    "# 10_Climate_Emulator\n"
   ]
  },
  {
   "cell_type": "code",
   "execution_count": 3,
   "metadata": {},
   "outputs": [],
   "source": [
    "# --------------------------------------\n",
    "# Files Summary\n",
    "\n",
    "# each site folder contains two .ini files:\n",
    "# - files.ini       a list of all the files that will be generated or read by teslakit project\n",
    "# - parameters.ini  a list of all the parameters that will be used at teslakit calculations\n",
    "\n",
    "# about required external files:\n",
    "# many of the files in files.ini are generated while calculating a teslakit project, but waves partitions point and \n",
    "# ESTELA are required as external output\n",
    "#\n",
    "# remaining external input are: Pacific SST historical, MJO historical, NOAA WMO TCs and Nakajo synthetic TCs\n",
    "\n"
   ]
  }
 ],
 "metadata": {
  "kernelspec": {
   "display_name": "teslakit",
   "language": "python",
   "name": "teslakit"
  },
  "language_info": {
   "codemirror_mode": {
    "name": "ipython",
    "version": 3
   },
   "file_extension": ".py",
   "mimetype": "text/x-python",
   "name": "python",
   "nbconvert_exporter": "python",
   "pygments_lexer": "ipython3",
   "version": "3.7.2"
  }
 },
 "nbformat": 4,
 "nbformat_minor": 2
}
