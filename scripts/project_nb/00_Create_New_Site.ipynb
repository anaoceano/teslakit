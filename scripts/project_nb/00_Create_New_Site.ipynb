{
 "cells": [
  {
   "cell_type": "code",
   "execution_count": 1,
   "metadata": {},
   "outputs": [],
   "source": [
    "#!/usr/bin/env python\n",
    "# -*- coding: utf-8 -*-\n",
    "\n",
    "# common\n",
    "import os\n",
    "import os.path as op\n",
    "import ast\n",
    "import pickle\n",
    "import sys\n",
    "sys.path.insert(0, op.dirname(os.getcwd()))\n",
    "\n",
    "# pip\n",
    "import numpy as np\n",
    "import xarray as xr\n",
    "from datetime import datetime\n",
    "\n",
    "# tk \n",
    "from teslakit.project_site import Site\n",
    "\n",
    "\n",
    "# --------------------------------------\n",
    "# Create new teslakit project Site\n",
    "\n",
    "site_name = 'KWAJALEIN_TEST'\n",
    "site = Site(site_name)\n",
    "\n",
    "# Create empty folders\n",
    "site.MakeDirs()\n"
   ]
  },
  {
   "cell_type": "code",
   "execution_count": 2,
   "metadata": {},
   "outputs": [],
   "source": [
    "# --------------------------------------\n",
    "# set files.ini and parameters.ini files\n",
    "\n",
    "\n",
    "# External input files:\n",
    "#\n",
    "# 01_SST_AnnualWeatherTypes\n",
    "#    - DB.SST.hist_pacific                # SST Pacific area 'SST_1854_2017_Pacific.nc'\n",
    "# 02_MJO_ALR_Simulation\n",
    "#    - DB.MJO.hist                        # historical MJO (teslakit_downloader)\n",
    "# 03_STORMS_Historical_ExtractRadius\n",
    "#    - DB.TCs.noaa                        # NOAA WMO TCs (teslakit_downloader)\n",
    "# 04_STORMS_Historical_CopulaSimulation_MDA\n",
    "# 05_STORMS_Historical_RBFs_Interpolation\n",
    "#    - ST.TCs.mda_r2_simulations          # TCs MDA Selection numerical solved simulations\n",
    "# 06_STORMS_CategoryChange_Probs\n",
    "#    - DB.TCs.nakajo_mats                 # Nakajo synthetic TCs\n",
    "# 07_WAVES_CalculateFamilies_RemoveTCs\n",
    "#    - ST.WAVES.partitions_p1             # waves partitions data (GOW)\n",
    "# 08_SLP_ESTELA_PCA_KMArg\n",
    "#    - ST.WAVES.partitions_p1             # waves partitions data (GOW)\n",
    "#    - ST.ESTELA.coastmat                 # estela coast (.mat)\n",
    "#    - ST.ESTELA.estelamat                # estela data (.mat)\n",
    "#    - ST.ESTELA.gowpoint                 # gow point (.mat)\n",
    "#    - ST.ESTELA.slp                      # site slp data (.nc) extracted from CFS\n",
    "# 09_SLP_ESTELA_ALR_Covariates\n",
    "# 10_Climate_Emulator\n"
   ]
  },
  {
   "cell_type": "code",
   "execution_count": 3,
   "metadata": {},
   "outputs": [],
   "source": [
    "# --------------------------------------\n",
    "# TODO: use teslakit_downloader for getting all needed data\n",
    "\n",
    "# download mjo \n",
    "# download noaa wmo TCs\n",
    "\n",
    "# TODO: extraer estela \n",
    "\n",
    "# TODO: listar archivos manuales\n"
   ]
  }
 ],
 "metadata": {
  "kernelspec": {
   "display_name": "teslakit3",
   "language": "python",
   "name": "teslakit3"
  },
  "language_info": {
   "codemirror_mode": {
    "name": "ipython",
    "version": 3
   },
   "file_extension": ".py",
   "mimetype": "text/x-python",
   "name": "python",
   "nbconvert_exporter": "python",
   "pygments_lexer": "ipython3",
   "version": "3.7.2"
  }
 },
 "nbformat": 4,
 "nbformat_minor": 2
}
