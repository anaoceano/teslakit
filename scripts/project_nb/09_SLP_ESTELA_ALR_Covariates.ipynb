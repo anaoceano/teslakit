{
 "cells": [
  {
   "cell_type": "code",
   "execution_count": 1,
   "metadata": {},
   "outputs": [],
   "source": [
    "#!/usr/bin/env python\n",
    "# -*- coding: utf-8 -*-\n",
    "\n",
    "# common\n",
    "import os\n",
    "import os.path as op\n",
    "\n",
    "# pip\n",
    "import numpy as np\n",
    "import xarray as xr\n",
    "#import matplotlib.pyplot as plt\n",
    "#plt.rcParams['figure.figsize'] = [18, 8]\n",
    "\n",
    "# DEV: override installed teslakit\n",
    "import sys\n",
    "sys.path.insert(0, op.join(os.path.abspath(''), '..', '..'))\n",
    "\n",
    "# teslakit \n",
    "from teslakit.database import Database\n",
    "from teslakit.alr import ALR_WRP\n",
    "\n",
    "from teslakit.custom_dateutils import xds_reindex_daily as xr_daily\n",
    "from teslakit.custom_dateutils import xds_common_dates_daily as xcd_daily\n",
    "from teslakit.custom_dateutils import xds2datetime as x2d\n"
   ]
  },
  {
   "cell_type": "code",
   "execution_count": 2,
   "metadata": {},
   "outputs": [],
   "source": [
    "# --------------------------------------\n",
    "# Teslakit database\n",
    "\n",
    "p_data = r'/Users/nico/Projects/TESLA-kit/TeslaKit/data'\n",
    "db = Database(p_data)\n",
    "\n",
    "# set site\n",
    "db.SetSite('TESTNEW')\n"
   ]
  },
  {
   "cell_type": "code",
   "execution_count": 3,
   "metadata": {},
   "outputs": [],
   "source": [
    "# --------------------------------------\n",
    "# load data and set parameters\n",
    "\n",
    "xds_MJO_fit = db.Load_MJO_hist()       # historical MJO\n",
    "xds_KMA_fit = db.Load_ESTELA_KMA()     # ESTELA + TCs Predictor\n",
    "xds_PCs = db.Load_SST_PCA()            # SST PCs (annual)\n",
    "\n",
    "xds_MJO_sim = db.Load_MJO_sim()        # MJO simulation (daily)\n",
    "xds_PCs_sim = db.Load_SST_PCs_sim_d()  # SST PCs simulation (daily)\n",
    "\n",
    "# ALR fit parameters\n",
    "alr_num_clusters = 42\n",
    "alr_markov_order = 1\n",
    "alr_seasonality = [2, 4]\n",
    "\n",
    "# ALR simulation\n",
    "n_sim = 1\n"
   ]
  },
  {
   "cell_type": "code",
   "execution_count": 4,
   "metadata": {},
   "outputs": [
    {
     "name": "stdout",
     "output_type": "stream",
     "text": [
      "<xarray.Dataset>\n",
      "Dimensions:             (n_clusters: 36, n_components: 11668, n_features: 432)\n",
      "Dimensions without coordinates: n_clusters, n_components, n_features\n",
      "Data variables:\n",
      "    bmus                (n_components) int32 ...\n",
      "    cenEOFs             (n_clusters, n_features) float64 ...\n",
      "    centroids           (n_clusters, n_features) float64 ...\n",
      "    group_size          (n_clusters) int64 ...\n",
      "    sorted_order        (n_clusters) int64 ...\n",
      "    sorted_bmus         (n_components) int64 ...\n",
      "    sorted_cenEOFs      (n_clusters, n_features) float64 ...\n",
      "    sorted_centroids    (n_clusters, n_features) float64 ...\n",
      "    time                (n_components) datetime64[ns] ...\n",
      "    sorted_bmus_storms  (n_components) int64 ...\n",
      "Attributes:\n",
      "    method:   regression guided\n",
      "    alpha:    0.36\n",
      "\n",
      "<xarray.Dataset>\n",
      "Dimensions:  (time: 14343)\n",
      "Coordinates:\n",
      "  * time     (time) datetime64[ns] 1979-01-01 1979-01-02 ... 2018-04-08\n",
      "Data variables:\n",
      "    phase    (time) int64 ...\n",
      "    rmm1     (time) float64 ...\n",
      "    rmm2     (time) float64 ...\n",
      "    mjo      (time) float64 ...\n",
      "\n",
      "<xarray.Dataset>\n",
      "Dimensions:  (time: 49674)\n",
      "Coordinates:\n",
      "  * time     (time) datetime64[ns] 1880-06-01 1880-06-02 ... 2016-06-01\n",
      "Data variables:\n",
      "    PC1      (time) float64 7.972 7.972 7.972 7.972 ... 55.53 55.53 55.53 -7.664\n",
      "    PC2      (time) float64 1.668 1.668 1.668 1.668 ... 7.856 7.856 7.856 35.98\n",
      "    PC3      (time) float64 -7.23 -7.23 -7.23 -7.23 ... 3.494 3.494 3.494 -9.33\n"
     ]
    }
   ],
   "source": [
    "# --------------------------------------\n",
    "# Data used to FIT ALR model and preprocess: \n",
    "\n",
    "# KMA: bmus (daily)\n",
    "print(xds_KMA_fit)\n",
    "print()\n",
    "\n",
    "# MJO: rmm1, rmm2 (daily)\n",
    "print(xds_MJO_fit)\n",
    "print()\n",
    "\n",
    "# SST: PCs (annual)\n",
    "sst_PCs = xds_PCs.PCs.values[:]\n",
    "xds_PCs_fit = xr.Dataset(\n",
    "    {\n",
    "        'PC1': (('time',), sst_PCs[:,0]),\n",
    "        'PC2': (('time',), sst_PCs[:,1]),\n",
    "        'PC3': (('time',), sst_PCs[:,2]),\n",
    "    },\n",
    "    coords = {'time': xds_PCs.time.values[:]}\n",
    ")\n",
    "\n",
    "# reindex annual data to daily data\n",
    "xds_PCs_fit = xr_daily(xds_PCs_fit)\n",
    "print(xds_PCs_fit)\n"
   ]
  },
  {
   "cell_type": "code",
   "execution_count": 5,
   "metadata": {},
   "outputs": [
    {
     "name": "stdout",
     "output_type": "stream",
     "text": [
      "<xarray.Dataset>\n",
      "Dimensions:  (time: 365243)\n",
      "Coordinates:\n",
      "  * time     (time) object 2020-01-01 00:00:00 ... 3020-01-01 00:00:00\n",
      "Data variables:\n",
      "    mjo      (time) float32 ...\n",
      "    phase    (time) float32 ...\n",
      "    rmm1     (time) float32 ...\n",
      "    rmm2     (time) float32 ...\n",
      "\n",
      "<xarray.Dataset>\n",
      "Dimensions:  (time: 365243)\n",
      "Coordinates:\n",
      "  * time     (time) object 2020-06-01 00:00:00 ... 3020-06-01 00:00:00\n",
      "Data variables:\n",
      "    PC1      (time) float32 ...\n",
      "    PC2      (time) float32 ...\n",
      "    PC3      (time) float32 ...\n"
     ]
    }
   ],
   "source": [
    "# --------------------------------------\n",
    "# Data used to SIMULATE ALR model and preprocess\n",
    "\n",
    "# MJO: rmm1, rmm2 (daily data)\n",
    "print(xds_MJO_sim)\n",
    "print()\n",
    "\n",
    "# SST: PCs (daily data)\n",
    "print(xds_PCs_sim)\n"
   ]
  },
  {
   "cell_type": "code",
   "execution_count": 6,
   "metadata": {},
   "outputs": [
    {
     "name": "stdout",
     "output_type": "stream",
     "text": [
      "<xarray.Dataset>\n",
      "Dimensions:    (n_covariates: 5, time: 11668)\n",
      "Coordinates:\n",
      "  * time       (time) datetime64[ns] 1979-02-12 1979-02-13 ... 2011-01-22\n",
      "Dimensions without coordinates: n_covariates\n",
      "Data variables:\n",
      "    cov_norm   (time, n_covariates) float64 -0.1621 0.9171 ... -1.384 2.114\n",
      "    cov_names  (n_covariates) <U4 'PC1' 'PC2' 'PC3' 'MJO1' 'MJO2'\n",
      "\n",
      "<xarray.Dataset>\n",
      "Dimensions:     (n_covariates: 5, time: 365091)\n",
      "Coordinates:\n",
      "  * time        (time) object 2020-06-01 2020-06-02 ... 3019-12-31 3020-01-01\n",
      "Dimensions without coordinates: n_covariates\n",
      "Data variables:\n",
      "    cov_values  (time, n_covariates) float32 -13.466496 -6.5152946 ... 1.10329\n"
     ]
    }
   ],
   "source": [
    "# --------------------------------------\n",
    "# Mount covariates matrix\n",
    "\n",
    "# available data:\n",
    "# model fit: xds_KMA_fit, xds_MJO_fit, xds_PCs_fit\n",
    "# model sim: xds_MJO_sim, xds_PCs_sim\n",
    "\n",
    "# bmus fit\n",
    "xds_BMUS_fit = xr.Dataset(\n",
    "    {\n",
    "        'bmus':(('time',), xds_KMA_fit['bmus'].values[:]),\n",
    "    },\n",
    "    coords = {'time': xds_KMA_fit.time.values[:]}\n",
    ")\n",
    "\n",
    "# covariates_fit\n",
    "d_covars_fit = xcd_daily([xds_MJO_fit, xds_PCs_fit, xds_BMUS_fit])\n",
    "\n",
    "# KMA dates\n",
    "xds_BMUS_fit = xds_BMUS_fit.sel(time=slice(d_covars_fit[0],d_covars_fit[-1]))\n",
    "\n",
    "# PCs covars \n",
    "cov_PCs = xds_PCs_fit.sel(time=slice(d_covars_fit[0],d_covars_fit[-1]))\n",
    "cov_1 = cov_PCs.PC1.values.reshape(-1,1)\n",
    "cov_2 = cov_PCs.PC2.values.reshape(-1,1)\n",
    "cov_3 = cov_PCs.PC3.values.reshape(-1,1)\n",
    "\n",
    "# MJO covars\n",
    "cov_MJO = xds_MJO_fit.sel(time=slice(d_covars_fit[0],d_covars_fit[-1]))\n",
    "cov_4 = cov_MJO.rmm1.values.reshape(-1,1)\n",
    "cov_5 = cov_MJO.rmm2.values.reshape(-1,1)\n",
    "\n",
    "# join covars \n",
    "cov_T = np.hstack((cov_1, cov_2, cov_3, cov_4, cov_5))\n",
    "\n",
    "# normalize\n",
    "cov_norm_fit = (cov_T - cov_T.mean(axis=0)) / cov_T.std(axis=0)\n",
    "xds_cov_fit = xr.Dataset(\n",
    "    {\n",
    "        'cov_norm': (('time','n_covariates'), cov_norm_fit),\n",
    "        'cov_names': (('n_covariates',), ['PC1','PC2','PC3','MJO1','MJO2']),\n",
    "    },\n",
    "    coords = {\n",
    "        'time': d_covars_fit,\n",
    "    }\n",
    ")\n",
    "print(xds_cov_fit)\n",
    "print()\n",
    "\n",
    "\n",
    "# covariates: SIMULATION\n",
    "d_covars_sim = xcd_daily([xds_MJO_sim, xds_PCs_sim])\n",
    "\n",
    "# PCs covar \n",
    "cov_PCs = xds_PCs_sim.sel(time=slice(d_covars_sim[0],d_covars_sim[-1]))\n",
    "cov_1 = cov_PCs.PC1.values.reshape(-1,1)\n",
    "cov_2 = cov_PCs.PC2.values.reshape(-1,1)\n",
    "cov_3 = cov_PCs.PC3.values.reshape(-1,1)\n",
    "\n",
    "# MJO covars\n",
    "cov_MJO = xds_MJO_sim.sel(time=slice(d_covars_sim[0],d_covars_sim[-1]))\n",
    "cov_4 = cov_MJO.rmm1.values.reshape(-1,1)\n",
    "cov_5 = cov_MJO.rmm2.values.reshape(-1,1)\n",
    "\n",
    "# join covars (do not normalize simulation covariates)\n",
    "cov_T_sim = np.hstack((cov_1, cov_2, cov_3, cov_4, cov_5))\n",
    "xds_cov_sim = xr.Dataset(\n",
    "    {\n",
    "        'cov_values': (('time','n_covariates'), cov_T_sim),\n",
    "    },\n",
    "    coords = {\n",
    "        'time': d_covars_sim,\n",
    "    }\n",
    ")\n",
    "print(xds_cov_sim)\n"
   ]
  },
  {
   "cell_type": "code",
   "execution_count": 7,
   "metadata": {},
   "outputs": [
    {
     "name": "stdout",
     "output_type": "stream",
     "text": [
      "ALR bmus (fit) saved at /Users/nico/Projects/TESLA-kit/TeslaKit/data/sites/TESTNEW/ESTELA/alr_w/xds_input.nc\n",
      "\n",
      "Fitting autoregressive logistic model ...\n",
      "Optimization done in 46.77 seconds\n",
      "\n",
      "ALR model saved at /Users/nico/Projects/TESLA-kit/TeslaKit/data/sites/TESTNEW/ESTELA/alr_w/model.sav\n"
     ]
    }
   ],
   "source": [
    "# --------------------------------------\n",
    "# Autoregressive Logistic Regression\n",
    "\n",
    "# available data:\n",
    "# model fit: xds_KMA_fit, xds_cov_sim, num_clusters\n",
    "# model sim: xds_cov_sim, sim_num, sim_years\n",
    "\n",
    "\n",
    "# ALR terms\n",
    "d_terms_settings = {\n",
    "    'mk_order'  : alr_markov_order,\n",
    "    'constant' : True,\n",
    "    'long_term' : False,\n",
    "    'seasonality': (True, alr_seasonality),\n",
    "    'covariates': (True, xds_cov_fit),\n",
    "}\n",
    "\n",
    "# ALR wrapper\n",
    "ALRW = ALR_WRP(db.paths.site.ESTELA.alrw)\n",
    "ALRW.SetFitData(alr_num_clusters, xds_KMA_fit, d_terms_settings)\n",
    "\n",
    "# ALR model fitting\n",
    "ALRW.FitModel(max_iter=50000)\n",
    "    "
   ]
  },
  {
   "cell_type": "code",
   "execution_count": 8,
   "metadata": {},
   "outputs": [],
   "source": [
    "# Plot model p-values and params\n",
    "#ALRW.Report_Fit()\n"
   ]
  },
  {
   "cell_type": "code",
   "execution_count": null,
   "metadata": {},
   "outputs": [
    {
     "name": "stdout",
     "output_type": "stream",
     "text": [
      "ALR model fit   : 1979-02-12T00:00:00.000000000 --- 2011-01-22T00:00:00.000000000\n",
      "ALR model sim   : 2020-06-01 00:00:00 --- 3020-01-01 00:00:00\n",
      "\n",
      "Launching simulations...\n",
      "\n",
      "Sim. Num. 001 |████████████████████████--------------------------| 48.5% Complete\r"
     ]
    }
   ],
   "source": [
    "# --------------------------------------\n",
    "# Autoregressive Logistic Regression - simulate \n",
    "\n",
    "# launch simulation\n",
    "dates_sim = d_covars_sim  # simulation dates\n",
    "\n",
    "xds_alr = ALRW.Simulate(n_sim, dates_sim, xds_cov_sim, progress_bar=True)\n",
    "\n",
    "# Store Daily Weather Types\n",
    "xds_DWT_sim = xds_alr.evbmus_sims.to_dataset()\n",
    "print(xds_DWT_sim)\n",
    "\n",
    "db.Save_ESTELA_DWT_sim(xds_DWT_sim)\n"
   ]
  },
  {
   "cell_type": "code",
   "execution_count": null,
   "metadata": {
    "scrolled": false
   },
   "outputs": [],
   "source": [
    "# show sim report\n",
    "ALRW.Report_Sim()\n"
   ]
  }
 ],
 "metadata": {
  "kernelspec": {
   "display_name": "teslakit",
   "language": "python",
   "name": "teslakit"
  },
  "language_info": {
   "codemirror_mode": {
    "name": "ipython",
    "version": 3
   },
   "file_extension": ".py",
   "mimetype": "text/x-python",
   "name": "python",
   "nbconvert_exporter": "python",
   "pygments_lexer": "ipython3",
   "version": "3.7.2"
  }
 },
 "nbformat": 4,
 "nbformat_minor": 2
}
