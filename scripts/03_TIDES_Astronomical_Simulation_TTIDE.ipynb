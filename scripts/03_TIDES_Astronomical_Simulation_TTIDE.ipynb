{
 "cells": [
  {
   "cell_type": "markdown",
   "metadata": {},
   "source": [
    "\n",
    "... ***CURRENTLY UNDER DEVELOPMENT*** ...\n"
   ]
  },
  {
   "cell_type": "markdown",
   "metadata": {},
   "source": [
    "## Simulate Astronomical Tide using ttide library\n",
    "\n",
    "inputs required: \n",
    "  * Astronomical Tide historical time series at the study site "
   ]
  },
  {
   "cell_type": "code",
   "execution_count": null,
   "metadata": {},
   "outputs": [],
   "source": [
    "#!/usr/bin/env python\n",
    "# -*- coding: utf-8 -*-\n",
    "\n",
    "# basic import\n",
    "import os\n",
    "import os.path as op\n",
    "\n",
    "# python libs\n",
    "import numpy as np\n",
    "import xarray as xr\n",
    "from datetime import datetime, timedelta\n",
    "\n",
    "# custom libs\n",
    "from ttide.t_tide import t_tide\n",
    "from ttide.t_predic import t_predic\n",
    "\n",
    "# https://www.eoas.ubc.ca/~rich/#T_Tide\n",
    "\n",
    "# DEV: override installed teslakit\n",
    "import sys\n",
    "sys.path.insert(0, op.join(os.path.abspath(''), '..', '..', '..'))\n",
    "\n",
    "# teslakit\n",
    "from teslakit.database import Database\n",
    "from teslakit.plotting.tides import Plot_AstronomicalTide, Plot_ValidateTTIDE\n"
   ]
  },
  {
   "cell_type": "markdown",
   "metadata": {},
   "source": [
    "\n",
    "## Database and Site parameters"
   ]
  },
  {
   "cell_type": "code",
   "execution_count": null,
   "metadata": {},
   "outputs": [],
   "source": [
    "# --------------------------------------\n",
    "# Teslakit database\n",
    "\n",
    "p_data = r'/Users/nico/Projects/TESLA-kit/TeslaKit/data'\n",
    "db = Database(p_data)\n",
    "\n",
    "# set site\n",
    "db.SetSite('ROI')\n"
   ]
  },
  {
   "cell_type": "code",
   "execution_count": null,
   "metadata": {},
   "outputs": [],
   "source": [
    "# --------------------------------------\n",
    "# Load astronomical tide historical and set simulation dates\n",
    "\n",
    "_, TIDE_astro = db.Load_TIDE_hist()          # astronomical tide historical data\n",
    "TIDE = TIDE_astro.predicted\n",
    "\n",
    "# Simulation dates\n",
    "d1_sim = np.datetime64('1700-01-01')\n",
    "d2_sim = np.datetime64('2700-01-01')\n"
   ]
  },
  {
   "cell_type": "markdown",
   "metadata": {},
   "source": [
    "\n",
    "## Astronomical Tide"
   ]
  },
  {
   "cell_type": "code",
   "execution_count": null,
   "metadata": {},
   "outputs": [],
   "source": [
    "# --------------------------------------\n",
    "# astronomical tide data\n",
    "\n",
    "# remove tide nanmin\n",
    "TIDE = TIDE - np.nanmin(TIDE)\n",
    "\n",
    "# data length has to be lesser than 18.6 years\n",
    "dt_cut = np.datetime64('1998-06-01')\n",
    "TIDE = TIDE.where(TIDE.time >= dt_cut, drop=True)\n",
    "\n",
    "# Plot astronomical tide\n",
    "time = TIDE.time.values[:]\n",
    "tide = TIDE.values[:]\n",
    "\n",
    "Plot_AstronomicalTide(time, tide);\n"
   ]
  },
  {
   "cell_type": "markdown",
   "metadata": {},
   "source": [
    "\n",
    "## Astronomical Tide - Fitting"
   ]
  },
  {
   "cell_type": "code",
   "execution_count": null,
   "metadata": {},
   "outputs": [],
   "source": [
    "# --------------------------------------\n",
    "# t_tide library - Fit\n",
    "\n",
    "# TODO: ttide ha de se calibrada con un year de datos (no 18.6)\n",
    "lat0 = 9.75\n",
    "d_out = t_tide(TIDE.values, dt=1, lat=np.array(lat0))\n",
    "\n",
    "# variables used for prediction\n",
    "names = d_out['nameu']\n",
    "freq = d_out['fu']\n",
    "tidecon = d_out['tidecon']\n"
   ]
  },
  {
   "cell_type": "code",
   "execution_count": null,
   "metadata": {},
   "outputs": [],
   "source": [
    "# --------------------------------------\n",
    "# t_tide library - Validation\n",
    "\n",
    "d1_val = TIDE.time.values[0]\n",
    "d2_val = TIDE.time.values[-1]\n",
    "date_val = np.arange(d1_val, d2_val, dtype='datetime64[h]')\n",
    "\n",
    "tide_tt = t_predic(\n",
    "    date_val, names, freq, tidecon,\n",
    "    lat=lat0, ltype='nodal')\n",
    "\n",
    "# Plot ttide validation \n",
    "time = TIDE.time.values[:-1]\n",
    "tide = TIDE.values[:-1]\n",
    "tide = tide - np.nanmean(tide)\n",
    "\n",
    "Plot_ValidateTTIDE(time, tide, tide_tt);\n"
   ]
  },
  {
   "cell_type": "markdown",
   "metadata": {},
   "source": [
    "\n",
    "## Astronomical Tide - Prediction"
   ]
  },
  {
   "cell_type": "code",
   "execution_count": null,
   "metadata": {},
   "outputs": [],
   "source": [
    "# --------------------------------------\n",
    "# t_tide library - Prediction\n",
    "\n",
    "date_pred = np.arange(d1_sim, d2_sim + np.timedelta64(1,'h'), dtype='datetime64[h]')\n",
    "atide_pred = t_predic(\n",
    "    date_pred, names, freq, tidecon,\n",
    "    lat=lat0, ltype='nodal')\n",
    "\n",
    "# store data\n",
    "ASTRO_sim = xr.Dataset(\n",
    "    {\n",
    "        'astro'   :(('time',), atide_pred),\n",
    "    },\n",
    "    {'time' : date_pred.astype(datetime)}\n",
    ")\n",
    "\n",
    "print(ASTRO_sim)\n",
    "\n",
    "db.Save_TIDE_sim_astro(ASTRO_sim)\n"
   ]
  },
  {
   "cell_type": "code",
   "execution_count": null,
   "metadata": {},
   "outputs": [],
   "source": [
    "# Plot astronomical tide prediction\n",
    "time = ASTRO_sim.time.values[:]\n",
    "tide = ASTRO_sim.astro.values[:]\n",
    "\n",
    "Plot_AstronomicalTide(time, tide);\n"
   ]
  }
 ],
 "metadata": {
  "kernelspec": {
   "display_name": "Python 3",
   "language": "python",
   "name": "python3"
  },
  "language_info": {
   "codemirror_mode": {
    "name": "ipython",
    "version": 3
   },
   "file_extension": ".py",
   "mimetype": "text/x-python",
   "name": "python",
   "nbconvert_exporter": "python",
   "pygments_lexer": "ipython3",
   "version": "3.7.2"
  }
 },
 "nbformat": 4,
 "nbformat_minor": 2
}
