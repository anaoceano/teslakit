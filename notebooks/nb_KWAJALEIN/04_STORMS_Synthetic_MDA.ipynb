{
 "cells": [
  {
   "cell_type": "markdown",
   "metadata": {},
   "source": [
    "## Nakajo Storms: Selection of representative cases using Maximum Dissimilarity (MaxDiss) algorithm (Camus et al. 2011)\n",
    "\n",
    "inputs required: \n",
    "  * Synthetic TC parameters that affect the site\n",
    "  * number of representative cases to be selected using MaxDiss"
   ]
  },
  {
   "cell_type": "code",
   "execution_count": 1,
   "metadata": {},
   "outputs": [],
   "source": [
    "#!/usr/bin/env python\n",
    "# -*- coding: utf-8 -*-\n",
    "\n",
    "# common\n",
    "import os\n",
    "import os.path as op\n",
    "\n",
    "# pip\n",
    "import xarray as xr\n",
    "import numpy as np\n",
    "\n",
    "# DEV: override installed teslakit\n",
    "import sys\n",
    "sys.path.insert(0, op.join(os.path.abspath(''), '..', '..'))\n",
    "\n",
    "# teslakit\n",
    "from teslakit.database import Database\n",
    "from teslakit.storms import Extract_Circle_Nakajo\n",
    "from teslakit.mda import MaxDiss_Simplified_NoThreshold\n",
    "from teslakit.plotting.storms import Plot_Params_MDA_vs_Sim_scatter\n"
   ]
  },
  {
   "cell_type": "markdown",
   "metadata": {},
   "source": [
    "\n",
    "## Database and Site parameters"
   ]
  },
  {
   "cell_type": "code",
   "execution_count": 2,
   "metadata": {},
   "outputs": [],
   "source": [
    "# --------------------------------------\n",
    "# Teslakit database\n",
    "\n",
    "p_data = r'/Users/nico/Projects/TESLA-kit/TeslaKit/data'\n",
    "db = Database(p_data)\n",
    "\n",
    "# set site\n",
    "db.SetSite('KWAJALEIN')\n"
   ]
  },
  {
   "cell_type": "code",
   "execution_count": 3,
   "metadata": {},
   "outputs": [],
   "source": [
    "# --------------------------------------\n",
    "# load data and set parameters\n",
    "\n",
    "# wave point longitude and latitude\n",
    "pnt_lon = 167.5\n",
    "pnt_lat = 9.75\n",
    "\n",
    "# radius for TCs selection (º)\n",
    "r1 = 14\n",
    "r2 = 4\n",
    "\n",
    "# MDA number of cases\n",
    "num_sel_mda = 1000\n",
    "\n",
    "xds_Nakajo = db.Load_TCs_Nakajo()  # Load Nakajo simulations\n"
   ]
  },
  {
   "cell_type": "code",
   "execution_count": null,
   "metadata": {},
   "outputs": [],
   "source": [
    "# dictionary with needed variable names\n",
    "d_vns = {\n",
    "    'longitude':'ylon_TC',\n",
    "    'latitude':'ylat_TC',\n",
    "    'time': 'yts',\n",
    "    'pressure':'yCPRES',\n",
    "}\n",
    "\n",
    "# Extract TCs inside r2\n",
    "_, xds_TCs_r2_params = Extract_Circle_Nakajo(xds_Nakajo, pnt_lon, pnt_lat, r2, d_vns)\n",
    "\n",
    "print(xds_TCs_r2_params)"
   ]
  },
  {
   "cell_type": "markdown",
   "metadata": {},
   "source": [
    "\n",
    "## Historical TCs - MaxDiss classification"
   ]
  },
  {
   "cell_type": "code",
   "execution_count": null,
   "metadata": {},
   "outputs": [],
   "source": [
    "# --------------------------------------\n",
    "# MaxDiss classification\n",
    "\n",
    "# get simulated parameters  \n",
    "pmean_s = xds_TCs_r2_params.pressure_mean.values[:]\n",
    "pmin_s = xds_TCs_r2_params.pressure_min.values[:]\n",
    "gamma_s = xds_TCs_r2_params.gamma.values[:]\n",
    "delta_s = xds_TCs_r2_params.delta.values[:]\n",
    "vmean_s = xds_TCs_r2_params.velocity_mean.values[:]\n",
    "\n",
    "# subset, scalar and directional indexes\n",
    "data_mda = np.column_stack((pmean_s, pmin_s, vmean_s, delta_s, gamma_s))\n",
    "ix_scalar = [0,1,2]\n",
    "ix_directional = [3,4]\n",
    "\n",
    "# remove storms with nan values \n",
    "data_mda = data_mda[~np.isnan(data_mda).any(axis=1)]\n",
    "\n",
    "# TODO: remove gamma == 0 ?\n",
    "# TODO: remove bad storms at Extract_Circle_Nakajo\n",
    "\n",
    "# MDA\n",
    "centroids = MaxDiss_Simplified_NoThreshold(\n",
    "    data_mda, num_sel_mda, ix_scalar, ix_directional \n",
    ")\n",
    "\n",
    "\n",
    "# store MDA storms - parameters \n",
    "xds_TCs_r2_MDA_params = xr.Dataset(\n",
    "    {\n",
    "        'pressure_mean':(('storm'), centroids[:,0]),\n",
    "        'pressure_min':(('storm'), centroids[:,1]),\n",
    "        'velocity_mean':(('storm'), centroids[:,2]),\n",
    "        'delta':(('storm'), centroids[:,3]),\n",
    "        'gamma':(('storm'), centroids[:,4]),\n",
    "    },\n",
    "    coords = {\n",
    "        'storm':(('storm'), np.arange(num_sel_mda))    \n",
    "    },\n",
    ")\n",
    "print(xds_TCs_r2_MDA_params)\n",
    "\n",
    "db.Save_TCs_r2_mda_params(xds_TCs_r2_MDA_params)\n"
   ]
  },
  {
   "cell_type": "code",
   "execution_count": null,
   "metadata": {},
   "outputs": [],
   "source": [
    "# Historical vs Simulated: scatter plot parameters\n",
    "Plot_Params_MDA_vs_Sim_scatter(xds_TCs_r2_MDA_params, xds_TCs_r2_params)\n"
   ]
  },
  {
   "cell_type": "markdown",
   "metadata": {},
   "source": [
    "## Nakajo TCs (MDA centroids) Waves Simulation\n",
    "\n",
    "Waves data is generated by numerically simulating selected storms. \n",
    "\n",
    "This methodology is not included inside teslakit python library.\n",
    "\n",
    "This step needs to be done before continuing with notebook 05\n"
   ]
  },
  {
   "cell_type": "code",
   "execution_count": null,
   "metadata": {},
   "outputs": [],
   "source": []
  }
 ],
 "metadata": {
  "kernelspec": {
   "display_name": "Python 3",
   "language": "python",
   "name": "python3"
  },
  "language_info": {
   "codemirror_mode": {
    "name": "ipython",
    "version": 3
   },
   "file_extension": ".py",
   "mimetype": "text/x-python",
   "name": "python",
   "nbconvert_exporter": "python",
   "pygments_lexer": "ipython3",
   "version": "3.7.2"
  }
 },
 "nbformat": 4,
 "nbformat_minor": 2
}
