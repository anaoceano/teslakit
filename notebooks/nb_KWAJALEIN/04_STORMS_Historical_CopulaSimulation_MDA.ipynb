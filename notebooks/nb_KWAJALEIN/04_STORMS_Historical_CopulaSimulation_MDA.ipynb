{
 "cells": [
  {
   "cell_type": "code",
   "execution_count": 1,
   "metadata": {},
   "outputs": [],
   "source": [
    "#!/usr/bin/env python\n",
    "# -*- coding: utf-8 -*-\n",
    "\n",
    "# common\n",
    "import os\n",
    "import os.path as op\n",
    "\n",
    "# pip\n",
    "import xarray as xr\n",
    "import numpy as np\n",
    "\n",
    "# DEV: override installed teslakit\n",
    "import sys\n",
    "sys.path.insert(0, op.join(os.path.abspath(''), '..', '..'))\n",
    "\n",
    "# teslakit\n",
    "from teslakit.database import Database\n",
    "from teslakit.statistical import CopulaSimulation\n",
    "from teslakit.mda import MaxDiss_Simplified_NoThreshold\n"
   ]
  },
  {
   "cell_type": "code",
   "execution_count": 2,
   "metadata": {},
   "outputs": [],
   "source": [
    "# --------------------------------------\n",
    "# Teslakit database\n",
    "\n",
    "p_data = r'/Users/nico/Projects/TESLA-kit/TeslaKit/data'\n",
    "db = Database(p_data)\n",
    "\n",
    "# set site\n",
    "db.SetSite('TESTNEW')\n"
   ]
  },
  {
   "cell_type": "code",
   "execution_count": 3,
   "metadata": {},
   "outputs": [],
   "source": [
    "# --------------------------------------\n",
    "# load data and set parameters\n",
    "\n",
    "_, xds_TCs_r2_params = db.Load_TCs_r2()  # TCs parameters inside radius 2\n",
    "\n",
    "# TCs random generation and MDA parameters\n",
    "num_sim_rnd = 100000\n",
    "num_sel_mda = 1000\n"
   ]
  },
  {
   "cell_type": "code",
   "execution_count": 4,
   "metadata": {
    "scrolled": false
   },
   "outputs": [
    {
     "name": "stdout",
     "output_type": "stream",
     "text": [
      "<xarray.Dataset>\n",
      "Dimensions:        (storm: 100000)\n",
      "Coordinates:\n",
      "  * storm          (storm) int64 0 1 2 3 4 5 ... 99995 99996 99997 99998 99999\n",
      "Data variables:\n",
      "    pressure_mean  (storm) float64 1.013e+03 1.016e+03 ... 1.012e+03 1.029e+03\n",
      "    pressure_min   (storm) float64 1.014e+03 1.02e+03 ... 1.011e+03 1.032e+03\n",
      "    gamma          (storm) float64 122.8 120.8 109.5 93.56 ... 122.6 99.67 95.65\n",
      "    delta          (storm) float64 106.0 170.9 128.7 37.11 ... 149.1 44.26 82.77\n",
      "    velocity_mean  (storm) float64 8.995 13.17 25.21 14.96 ... 13.81 20.7 6.622\n"
     ]
    }
   ],
   "source": [
    "# --------------------------------------\n",
    "# Probabilistic simulation Historical TCs\n",
    "\n",
    "# aux function\n",
    "def FixPareto(var):\n",
    "    'Fix data. It needs to start at 0 for Pareto adjustment '\n",
    "    var = var.astype(float)\n",
    "    mx = np.amax(var)\n",
    "    aux = mx + np.absolute(var - mx)\n",
    "    var_pareto = aux - np.amin(aux) + 0.00001\n",
    "    \n",
    "    return var_pareto, np.amin(aux)\n",
    "\n",
    "\n",
    "# use small radius parameters (4º)\n",
    "pmean = xds_TCs_r2_params.pressure_mean.values[:]\n",
    "pmin = xds_TCs_r2_params.pressure_min.values[:]\n",
    "gamma = xds_TCs_r2_params.gamma.values[:]\n",
    "delta = xds_TCs_r2_params.delta.values[:]\n",
    "vmean = xds_TCs_r2_params.velocity_mean.values[:]\n",
    "\n",
    "# fix pressure for pareto adjustment (start at 0)\n",
    "pmean_p, auxmin_pmean = FixPareto(pmean)\n",
    "pmin_p, auxmin_pmin = FixPareto(pmin)\n",
    "\n",
    "# join storm parameters for copula simulation\n",
    "storm_params = np.column_stack(\n",
    "    (pmean_p, pmin_p, gamma, delta, vmean)\n",
    ")\n",
    "\n",
    "# statistical simulate PCs using copulas \n",
    "kernels = ['GPareto', 'GPareto', 'ECDF', 'ECDF', 'ECDF']\n",
    "storm_params_sim = CopulaSimulation(storm_params, kernels, num_sim_rnd)\n",
    "\n",
    "# store simulated storms - parameters \n",
    "xds_TCs_r2_sim_params = xr.Dataset(\n",
    "    {\n",
    "        'pressure_mean':(('storm'), storm_params_sim[:,0] + auxmin_pmean),\n",
    "        'pressure_min':(('storm'), storm_params_sim[:,1] + auxmin_pmin),\n",
    "        'gamma':(('storm'), storm_params_sim[:,2]),\n",
    "        'delta':(('storm'), storm_params_sim[:,3]),\n",
    "        'velocity_mean':(('storm'), storm_params_sim[:,4]),\n",
    "    },\n",
    "    coords = {\n",
    "        'storm':(('storm'), np.arange(num_sim_rnd))    \n",
    "    },\n",
    ")\n",
    "print(xds_TCs_r2_sim_params)\n",
    "\n",
    "db.Save_TCs_r2_sim_params(xds_TCs_r2_sim_params)\n"
   ]
  },
  {
   "cell_type": "code",
   "execution_count": 5,
   "metadata": {},
   "outputs": [
    {
     "name": "stdout",
     "output_type": "stream",
     "text": [
      "\n",
      "MaxDiss waves parameters: 100000 --> 1000\n",
      "\n",
      "   MDA centroids: 1000/1000\n",
      "\n",
      "<xarray.Dataset>\n",
      "Dimensions:        (storm: 1000)\n",
      "Coordinates:\n",
      "  * storm          (storm) int64 0 1 2 3 4 5 6 7 ... 993 994 995 996 997 998 999\n",
      "Data variables:\n",
      "    pressure_mean  (storm) float64 1.129e+03 1.011e+03 ... 1.014e+03 1.051e+03\n",
      "    pressure_min   (storm) float64 1.168e+03 1.012e+03 ... 1.013e+03 1.062e+03\n",
      "    gamma          (storm) float64 24.49 10.89 36.21 33.39 ... 24.57 31.17 11.15\n",
      "    delta          (storm) float64 203.0 41.93 223.5 32.39 ... 284.5 285.1 106.3\n",
      "    velocity_mean  (storm) float64 21.01 199.6 111.6 0.0 ... 123.9 155.3 110.3\n"
     ]
    }
   ],
   "source": [
    "# --------------------------------------\n",
    "# MaxDiss classification\n",
    "\n",
    "# get simulated parameters  \n",
    "pmean_s = xds_TCs_r2_sim_params.pressure_mean.values[:]\n",
    "pmin_s = xds_TCs_r2_sim_params.pressure_min.values[:]\n",
    "gamma_s = xds_TCs_r2_sim_params.gamma.values[:]\n",
    "delta_s = xds_TCs_r2_sim_params.delta.values[:]\n",
    "vmean_s = xds_TCs_r2_sim_params.velocity_mean.values[:]\n",
    "\n",
    "# subset, scalar and directional indexes\n",
    "data_mda = np.column_stack((pmean_s, pmin_s, vmean_s, delta_s, gamma_s))\n",
    "ix_scalar = [0,1,2]\n",
    "ix_directional = [3,4]\n",
    "\n",
    "centroids = MaxDiss_Simplified_NoThreshold(\n",
    "    data_mda, num_sel_mda, ix_scalar, ix_directional \n",
    ")\n",
    "\n",
    "\n",
    "# store MDA storms - parameters \n",
    "xds_TCs_r2_MDA_params = xr.Dataset(\n",
    "    {\n",
    "        'pressure_mean':(('storm'), centroids[:,0]),\n",
    "        'pressure_min':(('storm'), centroids[:,1]),\n",
    "        'gamma':(('storm'), centroids[:,2]),\n",
    "        'delta':(('storm'), centroids[:,3]),\n",
    "        'velocity_mean':(('storm'), centroids[:,4]),\n",
    "    },\n",
    "    coords = {\n",
    "        'storm':(('storm'), np.arange(num_sel_mda))    \n",
    "    },\n",
    ")\n",
    "print(xds_TCs_r2_MDA_params)\n",
    "\n",
    "db.Save_TCs_r2_mda_params(xds_TCs_r2_MDA_params)\n"
   ]
  }
 ],
 "metadata": {
  "kernelspec": {
   "display_name": "teslakit",
   "language": "python",
   "name": "teslakit"
  },
  "language_info": {
   "codemirror_mode": {
    "name": "ipython",
    "version": 3
   },
   "file_extension": ".py",
   "mimetype": "text/x-python",
   "name": "python",
   "nbconvert_exporter": "python",
   "pygments_lexer": "ipython3",
   "version": "3.7.2"
  }
 },
 "nbformat": 4,
 "nbformat_minor": 2
}
