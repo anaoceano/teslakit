{
 "cells": [
  {
   "cell_type": "markdown",
   "metadata": {},
   "source": [
    "\n",
    "... ***CURRENTLY UNDER DEVELOPMENT*** ...\n"
   ]
  },
  {
   "cell_type": "markdown",
   "metadata": {},
   "source": [
    "## Climate emulator output generation\n",
    "\n",
    "inputs required: \n",
    "  * historical wave and water level conditions\n",
    "  * emulator output - synthetic wave and water level conditions\n",
    "  \n",
    "in this notebook:\n",
    "  * plot the historical and synthetic values of the analyzed variables\n",
    "  * generation of hourly values of the synthetic time series\n",
    "  \n",
    "  \n"
   ]
  },
  {
   "cell_type": "code",
   "execution_count": null,
   "metadata": {},
   "outputs": [],
   "source": [
    "#!/usr/bin/env python\n",
    "# -*- coding: utf-8 -*-\n",
    "\n",
    "# common\n",
    "import os\n",
    "import os.path as op\n",
    "\n",
    "# pip\n",
    "import numpy as np\n",
    "import xarray as xr\n",
    "from datetime import datetime\n",
    "import matplotlib.pyplot as plt\n",
    "\n",
    "# DEV: override installed teslakit\n",
    "import sys\n",
    "sys.path.insert(0, op.join(os.path.abspath(''), '..', '..', '..'))\n",
    "\n",
    "# teslakit\n",
    "from teslakit.database import Database\n",
    "from teslakit.climate_emulator import Climate_Emulator\n",
    "from teslakit.waves import AWL, Aggregate_WavesFamilies, Intradaily_Hydrograph\n",
    "from teslakit.util.time_operations import xds_limit_dates, repair_times_hourly, add_max_storms_mask\n",
    "\n",
    "from teslakit.plotting.outputs import Plot_Complete\n"
   ]
  },
  {
   "cell_type": "markdown",
   "metadata": {},
   "source": [
    "\n",
    "## Database and Site parameters"
   ]
  },
  {
   "cell_type": "code",
   "execution_count": null,
   "metadata": {},
   "outputs": [],
   "source": [
    "# --------------------------------------\n",
    "# Teslakit database\n",
    "\n",
    "p_data = r'/Users/nico/Projects/TESLA-kit/TeslaKit/data'\n",
    "db = Database(p_data)\n",
    "\n",
    "# set site\n",
    "db.SetSite('ROI')\n",
    "\n",
    "# climate emulator object\n",
    "CE = Climate_Emulator(db.paths.site.EXTREMES.climate_emulator)\n",
    "CE.Load()\n",
    "\n",
    "n_sims_DWTs = 10\n"
   ]
  },
  {
   "cell_type": "markdown",
   "metadata": {
    "scrolled": false
   },
   "source": [
    "\n",
    "## Historical Waves and Climate Data"
   ]
  },
  {
   "cell_type": "code",
   "execution_count": null,
   "metadata": {},
   "outputs": [],
   "source": [
    "# generate historical complete hourly data \n",
    "HIST_C_h = db.Generate_HIST_Complete()\n",
    "\n",
    "# aggregate waves families\n",
    "HIST_C_h = HIST_C_h.drop(['Hs', 'Tp', 'Dir'])\n",
    "WVS_a = Aggregate_WavesFamilies(HIST_C_h)\n",
    "HIST_C_h = xr.merge([HIST_C_h, WVS_a])\n",
    "\n",
    "# set AT reference level (mean at 0)\n",
    "HIST_C_h['AT'] = HIST_C_h['AT'] - np.nanmean(HIST_C_h['AT'])\n",
    "\n",
    "# calculate AWL, TWL and level\n",
    "HIST_C_h['AWL'] = AWL(HIST_C_h['Hs'], HIST_C_h['Tp'])\n",
    "HIST_C_h['TWL'] = HIST_C_h['AWL'] + HIST_C_h['AT'] + HIST_C_h['MMSL']\n",
    "HIST_C_h['level'] = HIST_C_h['AT'] + HIST_C_h['MMSL']\n",
    "\n",
    "# repair times: round to hour and remove duplicates (if any)\n",
    "HIST_C_h = repair_times_hourly(HIST_C_h)\n",
    "\n",
    "# add mask for max_storms times\n",
    "HIST_C_h = add_max_storms_mask(HIST_C_h, CE.WVS_MS.time.values)\n",
    "\n",
    "# store hourly historical data\n",
    "db.Save_HIST_Complete_hourly(HIST_C_h)\n",
    "\n",
    "print(HIST_C_h)\n"
   ]
  },
  {
   "cell_type": "code",
   "execution_count": null,
   "metadata": {
    "scrolled": false
   },
   "outputs": [],
   "source": [
    "# Plot Historical \n",
    "\n",
    "Plot_Complete(HIST_C_h);\n"
   ]
  },
  {
   "cell_type": "markdown",
   "metadata": {},
   "source": [
    "\n",
    "## Simulated Waves and Climate Data"
   ]
  },
  {
   "cell_type": "code",
   "execution_count": null,
   "metadata": {
    "scrolled": false
   },
   "outputs": [],
   "source": [
    "# --------------------------------------\n",
    "# Climate Emulator extremes model output\n",
    "\n",
    "def waves_hourly(CE, n_sims_DWTs, n_sim_ce=0):\n",
    "    '''\n",
    "    Generate hourly simulation output. \n",
    "    \n",
    "    - join DWTs-WVs Climate emulator simulations for all n_sims_DWTs\n",
    "    - aggregate simulated waves storms\n",
    "    - generate hourly hydrographs\n",
    "    \n",
    "    return xarray.Dataset with dims: n_sim (DWTs-WVs), time (hourly)\n",
    "    '''\n",
    "\n",
    "    # iterate simulations\n",
    "    ls_hy = []\n",
    "    for n in range(n_sims_DWTs):\n",
    "        _, TCS_sim, WVS_upd = CE.LoadSim(n_sim = n)    \n",
    "        \n",
    "        # select one Climate Emulator sim. for each DWT sim.\n",
    "        WVS_upd = WVS_upd.isel(n_sim = n_sim_ce)  \n",
    "        TCS_sim = TCS_sim.isel(n_sim = n_sim_ce)\n",
    "        \n",
    "        # aggregate waves families\n",
    "        wvs_agr = Aggregate_WavesFamilies(WVS_upd)\n",
    "        \n",
    "        # calculate intradaily hourly hydrographs for simulated storms\n",
    "        hy = Intradaily_Hydrograph(wvs_agr, TCS_sim)\n",
    "        \n",
    "        # repair times: remove duplicates (if any)\n",
    "        hy = repair_times_hourly(hy)\n",
    "\n",
    "        # add mask for max_storms times\n",
    "        hy = add_max_storms_mask(hy, WVS_upd.time.values)\n",
    "        \n",
    "        ls_hy.append(hy)\n",
    "        \n",
    "    # combine hourly simulations\n",
    "    hy = xr.concat(ls_hy, 'n_sim')\n",
    "\n",
    "    return hy\n",
    "\n",
    "\n",
    "# generate hourly waves using intradaily hydrographs\n",
    "WVS_sim_h = waves_hourly(CE, n_sims_DWTs)  \n",
    "\n",
    "# store hourly simulated waves data\n",
    "db.Save_SIM_Waves_hourly(WVS_sim_h)\n",
    "\n",
    "print(WVS_sim_h)\n"
   ]
  },
  {
   "cell_type": "markdown",
   "metadata": {},
   "source": [
    "\n",
    "## Complete Simulation: load covariates and merge with hourly waves"
   ]
  },
  {
   "cell_type": "code",
   "execution_count": null,
   "metadata": {},
   "outputs": [],
   "source": [
    "# --------------------------------------\n",
    "# Covariates: AWTs, DWTs, MJO, MMSL, AT\n",
    "\n",
    "# generate hourly covariates data\n",
    "CVS_sim_h = db.Generate_SIM_Covariates(total_sims=n_sims_DWTs)\n",
    "\n",
    "# set AT reference level (mean at 0)\n",
    "for s in CVS_sim_h.n_sim:\n",
    "    CVS_sim_h.sel(n_sim=s)['AT'].values[:] = CVS_sim_h.sel(n_sim=s)['AT'] - np.nanmean(CVS_sim_h.sel(n_sim=s)['AT'])\n",
    "\n",
    "# store hourly covariates\n",
    "db.Save_SIM_Covariates_hourly(CVS_sim_h)\n"
   ]
  },
  {
   "cell_type": "code",
   "execution_count": null,
   "metadata": {},
   "outputs": [],
   "source": [
    "# --------------------------------------\n",
    "# Complete simulation output \n",
    "\n",
    "d1, d2 = xds_limit_dates([WVS_sim_h, CVS_sim_h])\n",
    "WVS_sim_h = WVS_sim_h.sel(time = slice(d1, d2))\n",
    "CVS_sim_h = CVS_sim_h.sel(time = slice(d1, d2))\n",
    "\n",
    "# merge all data\n",
    "SIM_C_h = xr.merge([WVS_sim_h, CVS_sim_h])\n",
    "\n",
    "# calculate AWL, TWL and level\n",
    "SIM_C_h['AWL'] = AWL(SIM_C_h['Hs'], SIM_C_h['Tp'])\n",
    "SIM_C_h['TWL'] = SIM_C_h['AWL'] + SIM_C_h['SS'] + SIM_C_h['AT'] + SIM_C_h['MMSL']\n",
    "SIM_C_h['level'] = SIM_C_h['SS'] + SIM_C_h['AT'] + SIM_C_h['MMSL']\n",
    "\n",
    "# store hourly complete data\n",
    "db.Save_SIM_Complete_hourly(SIM_C_h)\n",
    "\n",
    "print(SIM_C_h)\n"
   ]
  },
  {
   "cell_type": "code",
   "execution_count": null,
   "metadata": {
    "scrolled": false
   },
   "outputs": [],
   "source": [
    "# Plot one Simulation \n",
    "\n",
    "Plot_Complete(SIM_C_h.sel(n_sim=0));\n"
   ]
  }
 ],
 "metadata": {
  "kernelspec": {
   "display_name": "Python 3",
   "language": "python",
   "name": "python3"
  },
  "language_info": {
   "codemirror_mode": {
    "name": "ipython",
    "version": 3
   },
   "file_extension": ".py",
   "mimetype": "text/x-python",
   "name": "python",
   "nbconvert_exporter": "python",
   "pygments_lexer": "ipython3",
   "version": "3.7.2"
  }
 },
 "nbformat": 4,
 "nbformat_minor": 2
}
