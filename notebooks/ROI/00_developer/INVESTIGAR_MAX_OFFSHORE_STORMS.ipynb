{
 "cells": [
  {
   "cell_type": "code",
   "execution_count": 1,
   "metadata": {},
   "outputs": [],
   "source": [
    "# --------------------------------------\n",
    "# Teslakit database\n",
    "\n",
    "\n",
    "# common\n",
    "import os\n",
    "import os.path as op\n",
    "\n",
    "# pip\n",
    "import numpy as np\n",
    "import xarray as xr\n",
    "\n",
    "# DEV: override installed teslakit\n",
    "import sys\n",
    "sys.path.insert(0, op.join(os.path.abspath(''), '..', '..', '..'))\n",
    "\n",
    "# teslakit\n",
    "from teslakit.database import Database\n",
    "from teslakit.climate_emulator import Climate_Emulator\n",
    "\n",
    "\n",
    "\n",
    "p_data = r'/home/nicolas/Projects/TESLAKIT/teslakit/data'\n",
    "db = Database(p_data)\n",
    "\n",
    "# set site\n",
    "db.SetSite('ROI')\n",
    "\n",
    "\n",
    "\n",
    "\n"
   ]
  },
  {
   "cell_type": "code",
   "execution_count": 2,
   "metadata": {},
   "outputs": [
    {
     "name": "stdout",
     "output_type": "stream",
     "text": [
      "<xarray.Dataset>\n",
      "Dimensions:      (time: 111040)\n",
      "Coordinates:\n",
      "  * time         (time) datetime64[ns] 1979-01-01 ... 2016-12-31T21:00:00\n",
      "Data variables:\n",
      "    Hs           (time) float64 ...\n",
      "    Tp           (time) float64 ...\n",
      "    Dir          (time) float64 ...\n",
      "    sea_Hs       (time) float64 ...\n",
      "    sea_Tp       (time) float64 ...\n",
      "    sea_Dir      (time) float64 ...\n",
      "    swell_1_Hs   (time) float64 ...\n",
      "    swell_1_Tp   (time) float64 ...\n",
      "    swell_1_Dir  (time) float64 ...\n",
      "    swell_2_Hs   (time) float64 ...\n",
      "    swell_2_Tp   (time) float64 ...\n",
      "    swell_2_Dir  (time) float64 ...\n",
      "    TC_category  (time) float64 ...\n",
      "Attributes:\n",
      "    source:   teslakit_v0.9.1\n"
     ]
    }
   ],
   "source": [
    "# --------------------------------------\n",
    "# Load data for climate emulator fitting: waves partitions and families, KMA, DWT\n",
    "\n",
    "WVS = db.Load_WAVES_hist()      # Historical gow waves point\n",
    "print(WVS)\n",
    "KMA = db.Load_ESTELA_KMA()      # ESTELA predictor KMA\n",
    "\n",
    "# prepare KMA data \n",
    "DWTs_fit = xr.Dataset(\n",
    "    {\n",
    "        'bmus'       : ('time', KMA['sorted_bmus_storms'].values[:] + 1),\n",
    "        'cenEOFs'    : (('n_clusters', 'n_features',), KMA['cenEOFs'].values[:]),\n",
    "    },\n",
    "    coords = {'time' : KMA['time'].values[:]}\n",
    ")\n",
    "\n",
    "\n",
    "# --------------------------------------\n",
    "# Load data for climate emulator simulation: ESTELA DWT and TCs (MU, TAU) \n",
    "\n",
    "DWTs_sim = db.Load_ESTELA_DWT_sim()\n",
    "\n",
    "TCs_params = db.Load_TCs_r2_sim_params()    # TCs parameters (copula generated) \n",
    "TCs_RBFs = db.Load_TCs_sim_r2_rbf_output()  # TCs numerical_IH-RBFs_interpolation output\n",
    "\n",
    "probs_TCs =  db.Load_TCs_probs_synth()      # TCs synthetic probabilities\n",
    "pchange_TCs = probs_TCs['category_change_cumsum'].values[:]\n",
    "\n",
    "l_mutau_wt = db.Load_MU_TAU_hydrograms()   # MU - TAU intradaily hidrographs for each WWT\n",
    "MU_WT = np.array([x.MU.values[:] for x in l_mutau_wt])  # MU and TAU numpy arrays\n",
    "TAU_WT = np.array([x.TAU.values[:] for x in l_mutau_wt])"
   ]
  },
  {
   "cell_type": "code",
   "execution_count": 9,
   "metadata": {},
   "outputs": [
    {
     "data": {
      "text/plain": [
       "[<matplotlib.lines.Line2D at 0x7f202006da90>]"
      ]
     },
     "execution_count": 9,
     "metadata": {},
     "output_type": "execute_result"
    },
    {
     "data": {
      "image/png": "[encoded data removed]",
      "text/plain": [
       "<Figure size 432x288 with 1 Axes>"
      ]
     },
     "metadata": {
      "needs_background": "light"
     },
     "output_type": "display_data"
    }
   ],
   "source": [
    "from teslakit.waves import Aggregate_WavesFamilies\n",
    "\n",
    "# Misterio resuelto:\n",
    "# hay dos variables Hs, Tp, Dir por error\n",
    "# 1- una viene con los datos input de oleaje (vienen las familias y ya agregados)\n",
    "# 2- el otro Hs, Tp, Dir sale de agregar con nuestra formula, ya sea cuadrática o tp máx energy\n",
    "\n",
    "# ------ > No son exactamente los mismos valores < ------\n",
    "\n",
    "\n",
    "# Error encontrado:\n",
    "# con el 1 calculaba AWL y máximos por tormenta para el ajuste del emulador climático\n",
    "# mientras que todo teslakit usa el 2\n",
    "\n",
    "\n",
    "# Historical gow waves point     <-- CLIMATE EMULATOR SE AJUSTA CON ESTA HS Y TP, que viene guardada en el input\n",
    "WVS = db.Load_WAVES_hist()   \n",
    "\n",
    "# Agregamos las familias         <-- ABSOLUTAMENTE TODO EL RESTO DEL CODIGO USA LA HS Y TP DE AGREGAR\n",
    "wa = Aggregate_WavesFamilies(WVS)\n",
    "\n",
    "\n",
    "# ploteo la diferencia entre Hs y Hs_agregada\n",
    "D = wa.Hs-WVS.Hs\n",
    "D.plot()"
   ]
  },
  {
   "cell_type": "code",
   "execution_count": 14,
   "metadata": {},
   "outputs": [
    {
     "name": "stdout",
     "output_type": "stream",
     "text": [
      "[3.31571 3.45728 3.38221 ... 2.10452 2.11363 2.1952 ]\n"
     ]
    }
   ],
   "source": [
    "print(WVS.Hs.values[:])"
   ]
  },
  {
   "cell_type": "code",
   "execution_count": 10,
   "metadata": {},
   "outputs": [
    {
     "data": {
      "text/plain": [
       "[<matplotlib.lines.Line2D at 0x7f2020070ad0>]"
      ]
     },
     "execution_count": 10,
     "metadata": {},
     "output_type": "execute_result"
    },
    {
     "data": {
      "image/png": "[encoded data removed]",
      "text/plain": [
       "<Figure size 432x288 with 1 Axes>"
      ]
     },
     "metadata": {
      "needs_background": "light"
     },
     "output_type": "display_data"
    }
   ],
   "source": [
    "# ploteo la diferencia entre Tp y Tp_agregado\n",
    "T = wa.Tp-WVS.Tp\n",
    "T.plot()"
   ]
  },
  {
   "cell_type": "code",
   "execution_count": null,
   "metadata": {},
   "outputs": [],
   "source": [
    "# climate emulator object\n",
    "CE = Climate_Emulator(db.paths.site.EXTREMES.climate_emulator)\n",
    "\n",
    "# Waves and KMA bmus data share time limits\n",
    "WVS_fit = WVS.sel(time = slice(DWTs_fit.time[0], DWTs_fit.time[-1]))\n",
    "\n",
    "# Fit extremes model\n",
    "config = {\n",
    "    'name_fams':       ['sea', 'swell_1', 'swell_2'],\n",
    "    'force_empirical': ['sea_Tp'],\n",
    "}\n",
    "\n",
    "CE.FitExtremes(DWTs_fit, WVS_fit, config)"
   ]
  }
 ],
 "metadata": {
  "kernelspec": {
   "display_name": "Python 3",
   "language": "python",
   "name": "python3"
  },
  "language_info": {
   "codemirror_mode": {
    "name": "ipython",
    "version": 3
   },
   "file_extension": ".py",
   "mimetype": "text/x-python",
   "name": "python",
   "nbconvert_exporter": "python",
   "pygments_lexer": "ipython3",
   "version": "3.7.5"
  }
 },
 "nbformat": 4,
 "nbformat_minor": 2
}
