{
 "cells": [
  {
   "cell_type": "markdown",
   "metadata": {},
   "source": [
    "\n",
    "... ***CURRENTLY UNDER DEVELOPMENT*** ...\n"
   ]
  },
  {
   "cell_type": "markdown",
   "metadata": {},
   "source": [
    "### TODO\n",
    "- CALCULAR LEVEL NEARSHORE PARA HIST Y SIM\n",
    "- GESTIONAR LOS 15 \"CASOS\" HYCREW PARA EL OUTPUT\n",
    "- GESTIONAR LOS 15 CASOS HYCREW X 10 SIMULACIONES TESLAKIT PARA EL OUTPUT\n",
    "- REFACTOR FUNCIONES REPETIDAS HYCREW"
   ]
  },
  {
   "cell_type": "code",
   "execution_count": 1,
   "metadata": {},
   "outputs": [],
   "source": [
    "#!/usr/bin/env python\n",
    "# -*- coding: utf-8 -*-\n",
    "\n",
    "# common\n",
    "import os\n",
    "import os.path as op\n",
    "\n",
    "# pip\n",
    "import numpy as np\n",
    "import pandas as pd\n",
    "import xarray as xr\n",
    "from scipy.interpolate import griddata\n",
    "\n",
    "# DEV: override installed teslakit\n",
    "import sys\n",
    "sys.path.insert(0, op.join(os.path.abspath(''), '..', '..', '..'))\n",
    "\n",
    "# teslakit\n",
    "from teslakit.database import Database\n",
    "from teslakit.rbf import RBF_Interpolation\n",
    "from teslakit.mda import Normalize\n"
   ]
  },
  {
   "cell_type": "markdown",
   "metadata": {},
   "source": [
    "\n",
    "## Database and Site parameters"
   ]
  },
  {
   "cell_type": "code",
   "execution_count": 2,
   "metadata": {},
   "outputs": [],
   "source": [
    "# --------------------------------------\n",
    "# Teslakit database\n",
    "\n",
    "p_data = r'/Users/nico/Projects/TESLA-kit/TeslaKit/data'\n",
    "db = Database(p_data)\n",
    "\n",
    "# set site\n",
    "db.SetSite('ROI')\n",
    "\n",
    "\n",
    "# reef characteristics\n",
    "reef_cs = {\n",
    "    'rslope': 0.0505,\n",
    "    'bslope': 0.1667,\n",
    "    'rwidth': 250,\n",
    "    'cf': 0.0105,\n",
    "}\n",
    "\n",
    "\n",
    "# load Hycreww RBF coefficients and sim. variables min. and max.\n",
    "var_lims, rbf_coeffs = db.Load_HYCREWW()\n"
   ]
  },
  {
   "cell_type": "code",
   "execution_count": 3,
   "metadata": {},
   "outputs": [],
   "source": [
    "# hycreww interpolation \n",
    "def hycreww_runup(var_lims, rbf_coeffs, dset):\n",
    "    '''\n",
    "    Calculates RunUp using hycreww RBFs\n",
    "    \n",
    "    var_lims   - hycreww variables min and max limits\n",
    "    rbf_coeffs - hycreww rbf coefficients\n",
    "    dset       - input dataset (pandas.DataFrame with \"rbf_vns\" columns)\n",
    "    \n",
    "    '''\n",
    "    \n",
    "    # RBF wave conditions \n",
    "    rbf_hs = [1, 1, 1, 2, 2, 2, 3, 3, 3, 4, 4, 4, 5, 5, 5]\n",
    "    rbf_hs_lo = [0.005, 0.025, 0.05, 0.005, 0.025, 0.05, 0.005, 0.025, 0.05, 0.005, 0.025, 0.05, 0.005, 0.025, 0.05 ]\n",
    "    rbf_vns = ['level', 'rslope', 'bslope', 'rwidth', 'cf']\n",
    "    \n",
    "    # RBF parameters\n",
    "    ix_sc = [0, 1, 2, 3, 4]\n",
    "    ix_dr = []\n",
    "    minis = [var_lims[x][0] for x in rbf_vns]\n",
    "    maxis = [var_lims[x][1] for x in rbf_vns]\n",
    "    \n",
    "    # RBF dataset to interpolate\n",
    "    ds_in = dset[rbf_vns]\n",
    "\n",
    "    # normalize data\n",
    "    ds_nm ,_ ,_ = Normalize(ds_in.values, ix_sc, ix_dr, minis=minis, maxis=maxis)\n",
    "\n",
    "    # RBF interpolation (with all cases?)\n",
    "    ru_out = []\n",
    "    for rc in rbf_coeffs:\n",
    "        ro = RBF_Interpolation(rc['constant'], rc['coeff'], rc['nodes'], ds_nm.T)\n",
    "        ru_out.append(ro)\n",
    "    ru_z = np.array(ru_out)\n",
    "    \n",
    "    # RU Linear interpolation (hs, hs_lo -> runup)\n",
    "    RU = []\n",
    "    for c, vn in enumerate(rbf_vns):\n",
    "        vq = griddata((rbf_hs, rbf_hs_lo), ru_z[:,c], (dset['hs'], dset['hs_lo2']), method='linear')\n",
    "        RU.append(vq)\n",
    "        \n",
    "    return RU\n"
   ]
  },
  {
   "cell_type": "markdown",
   "metadata": {},
   "source": [
    "\n",
    "## Hycreww RBF Interpolation: Historical"
   ]
  },
  {
   "cell_type": "code",
   "execution_count": 4,
   "metadata": {},
   "outputs": [
    {
     "name": "stdout",
     "output_type": "stream",
     "text": [
      "                 hs        tp        dir    hs_lo2  level  rslope  bslope  \\\n",
      "time                                                                        \n",
      "1996-01-16  2.54812  13.85190   6.048340  0.008506    0.5  0.0505  0.1667   \n",
      "1996-01-17  3.29111  15.96870   6.711730  0.008266    0.5  0.0505  0.1667   \n",
      "1996-01-18  2.91396  14.51940  32.691399  0.008853    0.5  0.0505  0.1667   \n",
      "1996-01-19  2.26963   8.61673  46.048000  0.019579    0.5  0.0505  0.1667   \n",
      "1996-01-20  2.29604   8.79586  52.621799  0.019008    0.5  0.0505  0.1667   \n",
      "...             ...       ...        ...       ...    ...     ...     ...   \n",
      "2014-01-12  2.10927   9.69291  53.679699  0.014379    0.5  0.0505  0.1667   \n",
      "2014-01-13  2.09039   9.30574  61.769199  0.015461    0.5  0.0505  0.1667   \n",
      "2014-01-14  2.00630   8.58236  60.814800  0.017446    0.5  0.0505  0.1667   \n",
      "2014-01-15  2.53932  10.20110  45.628799  0.015629    0.5  0.0505  0.1667   \n",
      "2014-01-16  2.58802   8.19699  50.468300  0.024670    0.5  0.0505  0.1667   \n",
      "\n",
      "            rwidth      cf     runup  \n",
      "time                                  \n",
      "1996-01-16     250  0.0105  2.742198  \n",
      "1996-01-17     250  0.0105  3.529192  \n",
      "1996-01-18     250  0.0105  3.083934  \n",
      "1996-01-19     250  0.0105  2.065157  \n",
      "1996-01-20     250  0.0105  2.100015  \n",
      "...            ...     ...       ...  \n",
      "2014-01-12     250  0.0105  2.140849  \n",
      "2014-01-13     250  0.0105  2.093585  \n",
      "2014-01-14     250  0.0105  1.977032  \n",
      "2014-01-15     250  0.0105  2.361812  \n",
      "2014-01-16     250  0.0105  2.088375  \n",
      "\n",
      "[6376 rows x 10 columns]\n"
     ]
    }
   ],
   "source": [
    "# Load complete historical data\n",
    "data = db.Load_HIST_Complete_daily()\n",
    "\n",
    "# prepare dataset for hycreww: waves + reef data\n",
    "dset = data[['Hs', 'Tp', 'Dir']].to_dataframe()\n",
    "dset = dset.rename(columns={\"Hs\": \"hs\", \"Tp\": \"tp\", 'Dir':'dir'})\n",
    "dset['hs_lo2'] = dset['hs']/(1.5613*dset['tp']**2)\n",
    "\n",
    "# TODO: en historical no tengo level, no tengo ss, no tengo TWL ni AWL... (?)\n",
    "dset['level']= 0.5  # TODO usar level correcto\n",
    "\n",
    "# add reef characteristics\n",
    "for p in reef_cs.keys():\n",
    "    dset[p] = reef_cs[p]\n",
    "\n",
    "# discard data outside limits\n",
    "for vn in var_lims.keys():\n",
    "    dset = dset[(dset[vn] > var_lims[vn][0]) &(dset[vn] < var_lims[vn][1])]\n",
    "    \n",
    "# calculate runup with hycreww\n",
    "RU = hycreww_runup(var_lims, rbf_coeffs, dset)\n",
    "\n",
    "# store runup \n",
    "dset_out = dset.copy()\n",
    "dset_out['runup'] = dset_out['level'] + RU[0]\n",
    "\n",
    "print(dset_out)\n",
    "\n",
    "# TODO: store 15 RU output with n_rbf dim ?\n"
   ]
  },
  {
   "cell_type": "markdown",
   "metadata": {},
   "source": [
    "\n",
    "## Hycreww RBF Interpolation: Simulation"
   ]
  },
  {
   "cell_type": "code",
   "execution_count": 5,
   "metadata": {},
   "outputs": [
    {
     "name": "stdout",
     "output_type": "stream",
     "text": [
      "                 hs        tp        dir    hs_lo2  level  rslope  bslope  \\\n",
      "time                                                                        \n",
      "1996-01-16  2.54812  13.85190   6.048340  0.008506    0.5  0.0505  0.1667   \n",
      "1996-01-17  3.29111  15.96870   6.711730  0.008266    0.5  0.0505  0.1667   \n",
      "1996-01-18  2.91396  14.51940  32.691399  0.008853    0.5  0.0505  0.1667   \n",
      "1996-01-19  2.26963   8.61673  46.048000  0.019579    0.5  0.0505  0.1667   \n",
      "1996-01-20  2.29604   8.79586  52.621799  0.019008    0.5  0.0505  0.1667   \n",
      "...             ...       ...        ...       ...    ...     ...     ...   \n",
      "2014-01-12  2.10927   9.69291  53.679699  0.014379    0.5  0.0505  0.1667   \n",
      "2014-01-13  2.09039   9.30574  61.769199  0.015461    0.5  0.0505  0.1667   \n",
      "2014-01-14  2.00630   8.58236  60.814800  0.017446    0.5  0.0505  0.1667   \n",
      "2014-01-15  2.53932  10.20110  45.628799  0.015629    0.5  0.0505  0.1667   \n",
      "2014-01-16  2.58802   8.19699  50.468300  0.024670    0.5  0.0505  0.1667   \n",
      "\n",
      "            rwidth      cf     runup  \n",
      "time                                  \n",
      "1996-01-16     250  0.0105  2.742198  \n",
      "1996-01-17     250  0.0105  3.529192  \n",
      "1996-01-18     250  0.0105  3.083934  \n",
      "1996-01-19     250  0.0105  2.065157  \n",
      "1996-01-20     250  0.0105  2.100015  \n",
      "...            ...     ...       ...  \n",
      "2014-01-12     250  0.0105  2.140849  \n",
      "2014-01-13     250  0.0105  2.093585  \n",
      "2014-01-14     250  0.0105  1.977032  \n",
      "2014-01-15     250  0.0105  2.361812  \n",
      "2014-01-16     250  0.0105  2.088375  \n",
      "\n",
      "[6376 rows x 10 columns]\n"
     ]
    },
    {
     "ename": "SystemExit",
     "evalue": "",
     "output_type": "error",
     "traceback": [
      "An exception has occurred, use %tb to see the full traceback.\n",
      "\u001b[0;31mSystemExit\u001b[0m\n"
     ]
    }
   ],
   "source": [
    "# Load complete simulation data\n",
    "data = db.Load_SIM_Complete_daily()\n",
    "data = data.rename_vars({\"Hs\": \"hs\", \"Tp\": \"tp\", 'Dir':'dir'})\n",
    "data['hs_lo2'] = data['hs']/(1.5613*data['tp']**2)\n",
    "\n",
    "\n",
    "# solve all teslakit simulations\n",
    "for s in data.n_sim:\n",
    "    ds = data.sel(n_sim=s).to_dataframe()  # select simulation\n",
    "\n",
    "    # TODO usar level correcto\n",
    "    ds['level']= 0.5  \n",
    "\n",
    "    # add reef characteristics\n",
    "    for p in reef_cs.keys():\n",
    "        ds[p] = reef_cs[p]\n",
    "\n",
    "    # discard data outside limits\n",
    "    for vn in var_lims.keys():\n",
    "        ds = ds[(ds[vn] > var_lims[vn][0]) &(ds[vn] < var_lims[vn][1])]\n",
    "        \n",
    "    # calculate runup with hycreww\n",
    "    RU = hycreww_runup(var_lims, rbf_coeffs, ds) \n",
    "\n",
    "    # store runup \n",
    "    ds_out = ds.copy()\n",
    "    ds_out['runup'] = ds_out['level'] + RU[0]  #! \n",
    "\n",
    "    print(dset_out)\n",
    "    \n",
    "    \n",
    "    # TODO: store 15 RU output with n_rbf dim... for each teslakit simulation?\n",
    "    import sys; sys.exit()\n",
    "    "
   ]
  },
  {
   "cell_type": "code",
   "execution_count": null,
   "metadata": {},
   "outputs": [],
   "source": []
  }
 ],
 "metadata": {
  "kernelspec": {
   "display_name": "Python 3",
   "language": "python",
   "name": "python3"
  },
  "language_info": {
   "codemirror_mode": {
    "name": "ipython",
    "version": 3
   },
   "file_extension": ".py",
   "mimetype": "text/x-python",
   "name": "python",
   "nbconvert_exporter": "python",
   "pygments_lexer": "ipython3",
   "version": "3.7.2"
  }
 },
 "nbformat": 4,
 "nbformat_minor": 2
}
