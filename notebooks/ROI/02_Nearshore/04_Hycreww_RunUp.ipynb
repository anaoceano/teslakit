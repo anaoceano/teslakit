{
 "cells": [
  {
   "cell_type": "markdown",
   "metadata": {},
   "source": [
    "\n",
    "... ***CURRENTLY UNDER DEVELOPMENT*** ...\n"
   ]
  },
  {
   "cell_type": "markdown",
   "metadata": {},
   "source": [
    "### TODO\n",
    "- GESTIONAR LOS 15 \"CASOS\" HYCREW PARA EL OUTPUT\n",
    "- GESTIONAR LOS 15 CASOS HYCREW X 10 SIMULACIONES TESLAKIT PARA EL OUTPUT\n",
    "- REFACTOR FUNCIONES REPETIDAS HYCREW\n",
    "- STORE RUNUP OUTPUT\n"
   ]
  },
  {
   "cell_type": "code",
   "execution_count": 1,
   "metadata": {},
   "outputs": [],
   "source": [
    "#!/usr/bin/env python\n",
    "# -*- coding: utf-8 -*-\n",
    "\n",
    "# common\n",
    "import os\n",
    "import os.path as op\n",
    "\n",
    "# pip\n",
    "import numpy as np\n",
    "import pandas as pd\n",
    "import xarray as xr\n",
    "from scipy.interpolate import griddata\n",
    "\n",
    "# DEV: override installed teslakit\n",
    "import sys\n",
    "sys.path.insert(0, op.join(os.path.abspath(''), '..', '..', '..'))\n",
    "\n",
    "# teslakit\n",
    "from teslakit.database import Database\n",
    "from teslakit.rbf import RBF_Interpolation\n",
    "from teslakit.mda import Normalize\n"
   ]
  },
  {
   "cell_type": "markdown",
   "metadata": {},
   "source": [
    "\n",
    "## Database and Site parameters"
   ]
  },
  {
   "cell_type": "code",
   "execution_count": 2,
   "metadata": {},
   "outputs": [],
   "source": [
    "# --------------------------------------\n",
    "# Teslakit database\n",
    "\n",
    "p_data = r'/Users/nico/Projects/TESLA-kit/TeslaKit/data'\n",
    "db = Database(p_data)\n",
    "\n",
    "# set site\n",
    "db.SetSite('ROI')\n",
    "\n",
    "\n",
    "# reef characteristics\n",
    "reef_cs = {\n",
    "    'rslope': 0.0505,\n",
    "    'bslope': 0.1667,\n",
    "    'rwidth': 250,\n",
    "    'cf': 0.0105,\n",
    "}\n",
    "\n",
    "\n",
    "# load Hycreww RBF coefficients and sim. variables min. and max.\n",
    "var_lims, rbf_coeffs = db.Load_HYCREWW()\n"
   ]
  },
  {
   "cell_type": "code",
   "execution_count": 3,
   "metadata": {},
   "outputs": [],
   "source": [
    "# hycreww interpolation \n",
    "\n",
    "def hycreww_runup(var_lims, rbf_coeffs, dset):\n",
    "    '''\n",
    "    Calculates RunUp using hycreww RBFs (level) and linear interpolation (Runup)\n",
    "    \n",
    "    var_lims   - hycreww variables min and max limits\n",
    "    rbf_coeffs - hycreww rbf coefficients\n",
    "    dset       - input dataset (pandas.DataFrame with \"rbf_vns\" columns)\n",
    "    \n",
    "    '''\n",
    "    \n",
    "    # RBF wave conditions \n",
    "    rbf_hs = [1, 1, 1, 2, 2, 2, 3, 3, 3, 4, 4, 4, 5, 5, 5]\n",
    "    rbf_hs_lo = [0.005, 0.025, 0.05, 0.005, 0.025, 0.05, 0.005, 0.025, 0.05, 0.005, 0.025, 0.05, 0.005, 0.025, 0.05 ]\n",
    "    rbf_vns = ['level', 'rslope', 'bslope', 'rwidth', 'cf']\n",
    "    \n",
    "    # RBF parameters\n",
    "    ix_sc = [0, 1, 2, 3, 4]\n",
    "    ix_dr = []\n",
    "    minis = [var_lims[x][0] for x in rbf_vns]\n",
    "    maxis = [var_lims[x][1] for x in rbf_vns]\n",
    "    \n",
    "    \n",
    "    # add reef characteristics\n",
    "    for p in reef_cs.keys():\n",
    "        dset[p] = reef_cs[p]\n",
    "\n",
    "    # discard data outside limits\n",
    "    for vn in var_lims.keys():\n",
    "        dset = dset[(dset[vn] > var_lims[vn][0]) &(dset[vn] < var_lims[vn][1])]\n",
    "    \n",
    "    \n",
    "    # RBF dataset to interpolate\n",
    "    ds_in = dset[rbf_vns]\n",
    "\n",
    "    # normalize data\n",
    "    ds_nm ,_ ,_ = Normalize(ds_in.values, ix_sc, ix_dr, minis=minis, maxis=maxis)\n",
    "\n",
    "    # RBF interpolation (with all cases?)\n",
    "    ru_out = []\n",
    "    for rc in rbf_coeffs:\n",
    "        ro = RBF_Interpolation(rc['constant'], rc['coeff'], rc['nodes'], ds_nm.T)\n",
    "        ru_out.append(ro)\n",
    "    ru_z = np.array(ru_out)\n",
    "    \n",
    "    # RU Linear interpolation (hs, hs_lo -> runup)\n",
    "    RU = []\n",
    "    for c, vn in enumerate(rbf_vns):\n",
    "        vq = griddata((rbf_hs, rbf_hs_lo), ru_z[:,c], (dset['hs'], dset['hs_lo2']), method='linear')\n",
    "        RU.append(vq)\n",
    "        \n",
    "    # store runup alongside input data\n",
    "    dset_out = dset.copy()\n",
    "    dset_out['runup'] = dset_out['level'] + RU[0]\n",
    "    # TODO: ¿15 RU output? ¿no deberia ser uno tras interpolar? ¿como gestionar esto?\n",
    "    \n",
    "    return dset_out\n"
   ]
  },
  {
   "cell_type": "markdown",
   "metadata": {},
   "source": [
    "\n",
    "## Hycreww RBF Interpolation: Historical"
   ]
  },
  {
   "cell_type": "code",
   "execution_count": 4,
   "metadata": {},
   "outputs": [
    {
     "name": "stdout",
     "output_type": "stream",
     "text": [
      "                  hs        tp         dir     level    hs_lo2  rslope  \\\n",
      "time                                                                     \n",
      "1996-12-09  1.006710  4.752300  158.311005  0.628119  0.028550  0.0505   \n",
      "1999-08-11  1.307120  5.431180  135.128006  0.035807  0.028382  0.0505   \n",
      "2005-08-24  1.021310  4.801500   92.919403  0.001576  0.028374  0.0505   \n",
      "2005-11-11  1.387720  5.902350  100.340004  0.863839  0.025513  0.0505   \n",
      "2013-10-14  1.630730  7.990180  133.785004  0.834181  0.016360  0.0505   \n",
      "...              ...       ...         ...       ...       ...     ...   \n",
      "2013-12-21  1.421666  8.856265   87.065544 -0.047445  0.011609  0.0505   \n",
      "2013-12-26  2.228316  8.585747   75.318932  0.702555  0.019361  0.0505   \n",
      "2013-12-28  2.480173  8.736678   70.589622  0.946555  0.020811  0.0505   \n",
      "2013-12-29  2.178743  7.840980   72.677254  0.920555  0.022698  0.0505   \n",
      "2014-01-06  1.988687  8.287806   61.564789  0.149555  0.018544  0.0505   \n",
      "\n",
      "            bslope  rwidth      cf     runup  \n",
      "time                                          \n",
      "1996-12-09  0.1667     250  0.0105  1.184075  \n",
      "1999-08-11  0.1667     250  0.0105  0.768009  \n",
      "2005-08-24  0.1667     250  0.0105  0.565583  \n",
      "2005-11-11  0.1667     250  0.0105  1.677683  \n",
      "2013-10-14  0.1667     250  0.0105  2.098025  \n",
      "...            ...     ...     ...       ...  \n",
      "2013-12-21  0.1667     250  0.0105  1.187138  \n",
      "2013-12-26  0.1667     250  0.0105  2.243415  \n",
      "2013-12-28  0.1667     250  0.0105  2.590969  \n",
      "2013-12-29  0.1667     250  0.0105  2.320600  \n",
      "2014-01-06  0.1667     250  0.0105  1.572675  \n",
      "\n",
      "[2023 rows x 10 columns]\n"
     ]
    }
   ],
   "source": [
    "# Load complete historical data and nearshore waves\n",
    "data= db.Load_HIST_Complete_daily() \n",
    "waves = db.Load_NEARSHORE_RECONSTRUCTION_HIST_storms()\n",
    "\n",
    "waves = waves.rename_vars({\"Hs\": \"hs\", \"Tp\": \"tp\", 'Dir':'dir'})  # rename vars\n",
    "waves['hs_lo2'] = waves['hs']/(1.5613*waves['tp']**2)             # calc. hs_lo2\n",
    "waves['level'] = data.sel(time=waves.time).level                  # add level\n",
    "\n",
    "\n",
    "# calculate runup with hycreww\n",
    "dset = waves[['hs', 'tp', 'dir', 'level', 'hs_lo2']].to_dataframe()\n",
    "out = hycreww_runup(var_lims, rbf_coeffs, dset)\n",
    "print(out)\n"
   ]
  },
  {
   "cell_type": "markdown",
   "metadata": {},
   "source": [
    "\n",
    "## Hycreww RBF Interpolation: Simulation"
   ]
  },
  {
   "cell_type": "code",
   "execution_count": null,
   "metadata": {},
   "outputs": [],
   "source": [
    "# Load complete simulations data and nearshore waves\n",
    "\n",
    "n_sims_DWT = 10\n",
    "data_list = db.Load_SIM_Complete_storms(n_sims=n_sims_DWT)\n",
    "waves_list = db.Load_NEARSHORE_RECONSTRUCTION_SIM_storms(n_sims=n_sims_DWT)\n",
    "\n",
    "# iterate storms waves simulations\n",
    "for dd, ww in zip(data_list, waves_list):\n",
    "    \n",
    "    ww = ww.rename_vars({\"Hs\": \"hs\", \"Tp\": \"tp\", 'Dir':'dir'})  # rename vars\n",
    "    ww['hs_lo2'] = ww['hs']/(1.5613*ww['tp']**2)                # calc. hs_lo2\n",
    "    ww['level'] = dd.sel(time=ww.time).level                    # add level\n",
    "    \n",
    "\n",
    "    # calculate runup with hycreww\n",
    "    dset = ww[['hs', 'tp', 'dir', 'level', 'hs_lo2']].to_dataframe()\n",
    "    out = hycreww_runup(var_lims, rbf_coeffs, dset)\n",
    "    print(out)\n",
    "    print()\n",
    "\n"
   ]
  },
  {
   "cell_type": "code",
   "execution_count": null,
   "metadata": {},
   "outputs": [],
   "source": []
  }
 ],
 "metadata": {
  "kernelspec": {
   "display_name": "Python 3",
   "language": "python",
   "name": "python3"
  },
  "language_info": {
   "codemirror_mode": {
    "name": "ipython",
    "version": 3
   },
   "file_extension": ".py",
   "mimetype": "text/x-python",
   "name": "python",
   "nbconvert_exporter": "python",
   "pygments_lexer": "ipython3",
   "version": "3.7.2"
  }
 },
 "nbformat": 4,
 "nbformat_minor": 2
}
