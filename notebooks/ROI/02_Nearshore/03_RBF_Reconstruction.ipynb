{
 "cells": [
  {
   "cell_type": "markdown",
   "metadata": {},
   "source": [
    "\n",
    "... ***CURRENTLY UNDER DEVELOPMENT*** ...\n"
   ]
  },
  {
   "cell_type": "code",
   "execution_count": 1,
   "metadata": {},
   "outputs": [],
   "source": [
    "#!/usr/bin/env python\n",
    "# -*- coding: utf-8 -*-\n",
    "\n",
    "# common\n",
    "import os\n",
    "import os.path as op\n",
    "\n",
    "# pip\n",
    "import numpy as np\n",
    "import pandas as pd\n",
    "import xarray as xr\n",
    "\n",
    "# DEV: override installed teslakit\n",
    "import sys\n",
    "sys.path.insert(0, op.join(os.path.abspath(''), '..', '..', '..'))\n",
    "\n",
    "# teslakit\n",
    "from teslakit.database import Database\n",
    "from teslakit.rbf import RBF_Reconstruction, RBF_Validation\n"
   ]
  },
  {
   "cell_type": "markdown",
   "metadata": {},
   "source": [
    "\n",
    "## Database and Site parameters"
   ]
  },
  {
   "cell_type": "code",
   "execution_count": 2,
   "metadata": {},
   "outputs": [
    {
     "name": "stdout",
     "output_type": "stream",
     "text": [
      "remove nan data found at target:\n",
      "         lat       lon  Hsig  Tm02  Dir  Dspr  TPsmoo\n",
      "case                                                 \n",
      "49    9.4165  167.4679   0.0   NaN  NaN   NaN     NaN\n"
     ]
    }
   ],
   "source": [
    "# --------------------------------------\n",
    "# Teslakit database\n",
    "\n",
    "p_data = r'/Users/nico/Projects/TESLA-kit/TeslaKit/data'\n",
    "db = Database(p_data)\n",
    "\n",
    "# set site\n",
    "db.SetSite('ROI')\n",
    "\n",
    "# input files: dataset, subset (MDA classification), and target (SWAN simulations output)\n",
    "\n",
    "# sea \n",
    "wvs_sea_dataset = db.Load_NEARSHORE_FULL_sea()\n",
    "wvs_sea_subset = db.Load_NEARSHORE_MDA_sea()\n",
    "wvs_sea_target = db.Load_NEARSHORE_TARGET_sea()\n",
    "\n",
    "# swells \n",
    "wvs_swell_dataset = db.Load_NEARSHORE_FULL_swell()\n",
    "wvs_swell_subset = db.Load_NEARSHORE_MDA_swell()\n",
    "wvs_swell_target = db.Load_NEARSHORE_TARGET_swell()\n",
    "\n",
    "\n",
    "# remove nans (if any) from data\n",
    "def fix_target_nans(subset, target):\n",
    "    'remove NaN data indexes from subset and target. RBF does not handle NaNs'\n",
    "    \n",
    "    r_nan = target.isnull().any(axis=1)  # find any row with nans\n",
    "\n",
    "    if r_nan.any():\n",
    "        # log\n",
    "        print('remove nan data found at target:')\n",
    "        print(target[r_nan])\n",
    "        \n",
    "        # clean data\n",
    "        target = target[~r_nan]\n",
    "        subset = subset[~r_nan]\n",
    "        \n",
    "    return subset, target\n",
    "\n",
    "wvs_sea_subset, wvs_sea_target = fix_target_nans(wvs_sea_subset, wvs_sea_target)\n",
    "wvs_swell_subset, wvs_swell_target = fix_target_nans(wvs_swell_subset, wvs_swell_target)\n",
    "\n",
    "\n",
    "# ensure dataset and subset have same variables and column order\n",
    "vns_ds = ['hs', 'tp', 'dir']\n",
    "wvs_sea_dataset = wvs_sea_dataset[vns_ds].values\n",
    "wvs_sea_subset = wvs_sea_subset[vns_ds].values\n",
    "wvs_swell_dataset = wvs_swell_dataset[vns_ds].values\n",
    "wvs_swell_subset = wvs_swell_subset[vns_ds].values\n",
    "\n",
    "\n",
    "# select target variables\n",
    "vns_tgt = ['Hsig', 'TPsmoo', 'Dir']\n",
    "wvs_sea_target = wvs_sea_target[vns_tgt].values\n",
    "wvs_swell_target = wvs_swell_target[vns_tgt].values\n",
    "\n"
   ]
  },
  {
   "cell_type": "code",
   "execution_count": 3,
   "metadata": {},
   "outputs": [],
   "source": [
    "# RBF settings\n",
    "\n",
    "# subset - scalar / directional indexes\n",
    "ix_scalar_subset = [0,1]      # scalar (hs, tp)\n",
    "ix_directional_subset = [2]   # directional (dir)\n",
    "\n",
    "# target - scalar / directional indexes\n",
    "ix_scalar_target = [0,1]      # scalar (Hsig, Tpsmoo, Dir)\n",
    "ix_directional_target = [2]   # directional (Dir)\n"
   ]
  },
  {
   "cell_type": "markdown",
   "metadata": {},
   "source": [
    "\n",
    "## RBF Reconstruct SEA Waves"
   ]
  },
  {
   "cell_type": "code",
   "execution_count": 4,
   "metadata": {},
   "outputs": [
    {
     "name": "stdout",
     "output_type": "stream",
     "text": [
      "ix_scalar: 0,  optimization: 48.37 | interpolation: 51.28\n",
      "ix_scalar: 1,  optimization: 86.70 | interpolation: 50.92\n",
      "ix_directional: 2,  optimization: 102.84 | interpolation: 113.55\n",
      "            Hsig    TPsmoo         Dir\n",
      "0       0.208115  2.429508  101.707861\n",
      "1       0.265490  2.606427   92.338007\n",
      "2       0.290903  2.989002  114.112774\n",
      "3       0.573906  5.413579  112.642724\n",
      "4       0.347916  3.074125  106.282561\n",
      "...          ...       ...         ...\n",
      "389576  0.288512  2.783956  104.232569\n",
      "389577  0.216576  2.300218   83.985624\n",
      "389578  0.349989  2.931648   93.273763\n",
      "389579  0.669135  9.223054  108.896141\n",
      "389580  0.271511  2.646362   96.297690\n",
      "\n",
      "[389581 rows x 3 columns]\n"
     ]
    }
   ],
   "source": [
    "# --------------------------------------\n",
    "# RBF Interpolation\n",
    "\n",
    "sea_recon = RBF_Reconstruction(\n",
    "    wvs_sea_subset, ix_scalar_subset, ix_directional_subset,\n",
    "    wvs_sea_target, ix_scalar_target, ix_directional_target,\n",
    "    wvs_sea_dataset)\n",
    "\n",
    "# store it as pandas dataframe\n",
    "df_sea_recon = pd.DataFrame(data=sea_recon, columns=vns_tgt)\n",
    "print(df_sea_recon)\n",
    "\n",
    "# store data\n",
    "db.Save_NEARSHORE_RECONSTRUCTION_sea(df_sea_recon)\n",
    "\n",
    "\n",
    "# TODO: add scatter plot for RBF validation\n"
   ]
  },
  {
   "cell_type": "code",
   "execution_count": 5,
   "metadata": {},
   "outputs": [
    {
     "name": "stdout",
     "output_type": "stream",
     "text": [
      "RBFs Kfold Validation: 1/3\n",
      "ix_scalar: 0,  optimization: 20.67 | interpolation: 0.02\n",
      "ix_scalar: 1,  optimization: 40.40 | interpolation: 0.02\n",
      "ix_directional: 2,  optimization: 42.66 | interpolation: 0.05\n",
      "mean squared error : 9.102885330847544\n",
      "\n",
      "RBFs Kfold Validation: 2/3\n",
      "ix_scalar: 0,  optimization: 16.62 | interpolation: 0.02\n",
      "ix_scalar: 1,  optimization: 43.46 | interpolation: 0.02\n",
      "ix_directional: 2,  optimization: 38.90 | interpolation: 0.04\n",
      "mean squared error : 257.50994829365555\n",
      "\n",
      "RBFs Kfold Validation: 3/3\n",
      "ix_scalar: 0,  optimization: 17.58 | interpolation: 0.02\n",
      "ix_scalar: 1,  optimization: 39.51 | interpolation: 0.02\n",
      "ix_directional: 2,  optimization: 37.69 | interpolation: 0.04\n",
      "mean squared error : 257.22081626526744\n",
      "\n",
      "<xarray.Dataset>\n",
      "Dimensions:             (n_split: 3, test: 167, train: 334)\n",
      "Coordinates:\n",
      "  * n_split             (n_split) int64 0 1 2\n",
      "Dimensions without coordinates: test, train\n",
      "Data variables:\n",
      "    mean_squared_error  (n_split) float64 9.103 257.5 257.2\n",
      "    train_index         (train, n_split) float64 167.0 0.0 0.0 ... nan nan 333.0\n",
      "    test_index          (test, n_split) float64 0.0 167.0 334.0 ... 333.0 nan\n"
     ]
    }
   ],
   "source": [
    "# --------------------------------------\n",
    "# RBF Validation\n",
    "\n",
    "valid_sea = RBF_Validation(\n",
    "    wvs_sea_subset, ix_scalar_subset, ix_directional_subset,\n",
    "    wvs_sea_target, ix_scalar_target, ix_directional_target)\n",
    "\n",
    "print(valid_sea)\n",
    " "
   ]
  },
  {
   "cell_type": "markdown",
   "metadata": {},
   "source": [
    "\n",
    "## RBF Reconstruct SWELL Waves"
   ]
  },
  {
   "cell_type": "code",
   "execution_count": 6,
   "metadata": {},
   "outputs": [
    {
     "name": "stdout",
     "output_type": "stream",
     "text": [
      "ix_scalar: 0,  optimization: 35.78 | interpolation: 266.48\n",
      "ix_scalar: 1,  optimization: 80.31 | interpolation: 276.14\n",
      "ix_directional: 2,  optimization: 78.87 | interpolation: 541.86\n",
      "             Hsig     TPsmoo         Dir\n",
      "0        0.979251   9.754465   13.341103\n",
      "1        0.987271  12.053734  353.093848\n",
      "2        0.995833  15.582940  355.326341\n",
      "3        1.002170  10.874706  331.869214\n",
      "4        0.998977  13.655417  347.461648\n",
      "...           ...        ...         ...\n",
      "2173228  0.993051   8.884842   65.933639\n",
      "2173229  0.995582   7.834524   75.671123\n",
      "2173230  1.003759   9.711813   58.693232\n",
      "2173231  1.002928   6.917088   76.531611\n",
      "2173232  1.012554   7.262348   63.244294\n",
      "\n",
      "[2173233 rows x 3 columns]\n"
     ]
    }
   ],
   "source": [
    "# --------------------------------------\n",
    "# RBF Interpolation\n",
    "\n",
    "swl_recon = RBF_Reconstruction(\n",
    "    wvs_swell_subset, ix_scalar_subset, ix_directional_subset,\n",
    "    wvs_swell_target, ix_scalar_target, ix_directional_target,\n",
    "    wvs_swell_dataset)\n",
    "\n",
    "# store it as pandas dataframe\n",
    "df_swl_recon = pd.DataFrame(data=swl_recon, columns=vns_tgt)\n",
    "print(df_swl_recon)\n",
    "\n",
    "# store data\n",
    "db.Save_NEARSHORE_RECONSTRUCTION_swell(df_swl_recon)\n",
    "\n",
    "\n",
    "# TODO: add scatter plot for RBF validation\n"
   ]
  },
  {
   "cell_type": "code",
   "execution_count": 7,
   "metadata": {},
   "outputs": [
    {
     "name": "stdout",
     "output_type": "stream",
     "text": [
      "RBFs Kfold Validation: 1/3\n",
      "ix_scalar: 0,  optimization: 16.92 | interpolation: 0.02\n",
      "ix_scalar: 1,  optimization: 36.10 | interpolation: 0.02\n",
      "ix_directional: 2,  optimization: 30.91 | interpolation: 0.04\n",
      "mean squared error : 1.2230857213705364\n",
      "\n",
      "RBFs Kfold Validation: 2/3\n",
      "ix_scalar: 0,  optimization: 17.23 | interpolation: 0.02\n",
      "ix_scalar: 1,  optimization: 36.74 | interpolation: 0.02\n",
      "ix_directional: 2,  optimization: 34.11 | interpolation: 0.04\n",
      "mean squared error : 1.225287495847731\n",
      "\n",
      "RBFs Kfold Validation: 3/3\n",
      "ix_scalar: 0,  optimization: 15.68 | interpolation: 0.02\n",
      "ix_scalar: 1,  optimization: 34.48 | interpolation: 0.02\n",
      "ix_directional: 2,  optimization: 34.11 | interpolation: 0.04\n",
      "mean squared error : 0.4157997612855431\n",
      "\n",
      "<xarray.Dataset>\n",
      "Dimensions:             (n_split: 3, test: 167, train: 333)\n",
      "Coordinates:\n",
      "  * n_split             (n_split) int64 0 1 2\n",
      "Dimensions without coordinates: test, train\n",
      "Data variables:\n",
      "    mean_squared_error  (n_split) float64 1.223 1.225 0.4158\n",
      "    train_index         (train, n_split) float64 167.0 0.0 0.0 ... 498.0 332.0\n",
      "    test_index          (test, n_split) float64 0.0 167.0 333.0 ... nan nan\n"
     ]
    }
   ],
   "source": [
    "# --------------------------------------\n",
    "# RBF Validation\n",
    "\n",
    "valid_swl = RBF_Validation(\n",
    "    wvs_swell_subset, ix_scalar_subset, ix_directional_subset,\n",
    "    wvs_swell_target, ix_scalar_target, ix_directional_target)\n",
    "\n",
    "print(valid_swl)\n"
   ]
  },
  {
   "cell_type": "markdown",
   "metadata": {},
   "source": [
    "## Methodology Validation"
   ]
  },
  {
   "cell_type": "code",
   "execution_count": 8,
   "metadata": {},
   "outputs": [],
   "source": [
    "# TODO: validate with buoy?\n"
   ]
  }
 ],
 "metadata": {
  "kernelspec": {
   "display_name": "Python 3",
   "language": "python",
   "name": "python3"
  },
  "language_info": {
   "codemirror_mode": {
    "name": "ipython",
    "version": 3
   },
   "file_extension": ".py",
   "mimetype": "text/x-python",
   "name": "python",
   "nbconvert_exporter": "python",
   "pygments_lexer": "ipython3",
   "version": "3.7.2"
  }
 },
 "nbformat": 4,
 "nbformat_minor": 2
}
