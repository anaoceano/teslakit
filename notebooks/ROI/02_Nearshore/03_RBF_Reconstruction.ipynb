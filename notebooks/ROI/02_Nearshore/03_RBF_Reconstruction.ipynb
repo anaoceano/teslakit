{
 "cells": [
  {
   "cell_type": "markdown",
   "metadata": {},
   "source": [
    "\n",
    "... ***CURRENTLY UNDER DEVELOPMENT*** ...\n"
   ]
  },
  {
   "cell_type": "markdown",
   "metadata": {},
   "source": [
    "### TODO\n",
    "- INTRODUCIR PLOTEO SCA_VAL\n",
    "- PLOT PERIODO RETORNO ANNUAL MAXIMA\n",
    "- VALIDACION VS BOYA AWAC + PLOTEO\n",
    "\n",
    "- RECONSTRUIR LEVEL NEARSHORE!!! (en serie temporal. Tengo swells y seas swan-propagados.)"
   ]
  },
  {
   "cell_type": "code",
   "execution_count": 1,
   "metadata": {},
   "outputs": [],
   "source": [
    "#!/usr/bin/env python\n",
    "# -*- coding: utf-8 -*-\n",
    "\n",
    "# common\n",
    "import os\n",
    "import os.path as op\n",
    "\n",
    "# pip\n",
    "import numpy as np\n",
    "import pandas as pd\n",
    "import xarray as xr\n",
    "\n",
    "# DEV: override installed teslakit\n",
    "import sys\n",
    "sys.path.insert(0, op.join(os.path.abspath(''), '..', '..', '..'))\n",
    "\n",
    "# teslakit\n",
    "from teslakit.database import Database\n",
    "from teslakit.rbf import RBF_Reconstruction, RBF_Validation\n",
    "\n",
    "from teslakit.plotting.extremes import Plot_ReturnPeriodValidation\n"
   ]
  },
  {
   "cell_type": "markdown",
   "metadata": {},
   "source": [
    "\n",
    "## Database and Site parameters"
   ]
  },
  {
   "cell_type": "code",
   "execution_count": 2,
   "metadata": {},
   "outputs": [],
   "source": [
    "# --------------------------------------\n",
    "# Teslakit database\n",
    "\n",
    "p_data = r'/Users/nico/Projects/TESLA-kit/TeslaKit/data'\n",
    "db = Database(p_data)\n",
    "\n",
    "# set site\n",
    "db.SetSite('ROI')\n"
   ]
  },
  {
   "cell_type": "code",
   "execution_count": 3,
   "metadata": {},
   "outputs": [
    {
     "name": "stdout",
     "output_type": "stream",
     "text": [
      "remove nan data found at target:\n",
      "         lat       lon  Hsig  Tm02  Dir  Dspr  TPsmoo\n",
      "case                                                 \n",
      "49    9.4165  167.4679   0.0   NaN  NaN   NaN     NaN\n"
     ]
    }
   ],
   "source": [
    "# input files: dataset, subset (MDA classification), and target (SWAN simulations output)\n",
    "\n",
    "# sea \n",
    "wvs_sea_dataset_sim = db.Load_NEARSHORE_SIM_sea()\n",
    "wvs_sea_dataset_hist = db.Load_NEARSHORE_HIST_sea()\n",
    "wvs_sea_subset = db.Load_NEARSHORE_MDA_sea()\n",
    "wvs_sea_target = db.Load_NEARSHORE_TARGET_sea()\n",
    "\n",
    "# swells \n",
    "wvs_swell_dataset_sim = db.Load_NEARSHORE_SIM_swell()\n",
    "wvs_swell_dataset_hist = db.Load_NEARSHORE_HIST_swell()\n",
    "wvs_swell_subset = db.Load_NEARSHORE_MDA_swell()\n",
    "wvs_swell_target = db.Load_NEARSHORE_TARGET_swell()\n",
    "\n",
    "# keep datasets n_sim column\n",
    "sea_n_sim = wvs_sea_dataset_sim['n_sim']\n",
    "swl_n_sim = wvs_swell_dataset_sim['n_sim']\n",
    "\n",
    "\n",
    "# remove nans (if any) from subset and target\n",
    "def fix_target_nans(subset, target):\n",
    "    'remove NaN data indexes from subset and target. RBF does not handle NaNs'\n",
    "    \n",
    "    r_nan = target.isnull().any(axis=1)  # find any row with nans\n",
    "\n",
    "    if r_nan.any():\n",
    "        # log\n",
    "        print('remove nan data found at target:')\n",
    "        print(target[r_nan])\n",
    "        \n",
    "        # clean data\n",
    "        target = target[~r_nan]\n",
    "        subset = subset[~r_nan]\n",
    "        \n",
    "    return subset, target\n",
    "\n",
    "wvs_sea_subset, wvs_sea_target = fix_target_nans(wvs_sea_subset, wvs_sea_target)\n",
    "wvs_swell_subset, wvs_swell_target = fix_target_nans(wvs_swell_subset, wvs_swell_target)\n",
    "\n",
    "\n",
    "# ensure dataset and subset have same variables and column order\n",
    "vns_ds = ['hs', 'tp', 'dir']\n",
    "\n",
    "wvs_sea_dataset_sim = wvs_sea_dataset_sim[vns_ds].values\n",
    "wvs_sea_dataset_hist = wvs_sea_dataset_hist[vns_ds].values\n",
    "wvs_sea_subset = wvs_sea_subset[vns_ds].values\n",
    "\n",
    "wvs_swell_dataset_sim = wvs_swell_dataset_sim[vns_ds].values\n",
    "wvs_swell_dataset_hist = wvs_swell_dataset_hist[vns_ds].values\n",
    "wvs_swell_subset = wvs_swell_subset[vns_ds].values\n",
    "\n",
    "\n",
    "# select target variables\n",
    "vns_tgt = ['Hsig', 'TPsmoo', 'Dir']\n",
    "\n",
    "wvs_sea_target = wvs_sea_target[vns_tgt].values\n",
    "wvs_swell_target = wvs_swell_target[vns_tgt].values\n"
   ]
  },
  {
   "cell_type": "code",
   "execution_count": 4,
   "metadata": {},
   "outputs": [],
   "source": [
    "# RBF settings\n",
    "\n",
    "# subset - scalar / directional indexes\n",
    "ix_scalar_subset = [0,1]      # scalar (hs, tp)\n",
    "ix_directional_subset = [2]   # directional (dir)\n",
    "\n",
    "# target - scalar / directional indexes\n",
    "ix_scalar_target = [0,1]      # scalar (Hsig, Tpsmoo, Dir)\n",
    "ix_directional_target = [2]   # directional (Dir)\n"
   ]
  },
  {
   "cell_type": "markdown",
   "metadata": {},
   "source": [
    "\n",
    "## RBF Reconstruct SEA Waves"
   ]
  },
  {
   "cell_type": "code",
   "execution_count": 5,
   "metadata": {},
   "outputs": [
    {
     "name": "stdout",
     "output_type": "stream",
     "text": [
      "ix_scalar: 0,  optimization: 47.94 | interpolation: 47.33\n",
      "ix_scalar: 1,  optimization: 85.43 | interpolation: 48.12\n",
      "ix_directional: 2,  optimization: 105.51 | interpolation: 100.57\n",
      "ix_scalar: 0,  optimization: 54.04 | interpolation: 8.04\n",
      "ix_scalar: 1,  optimization: 92.19 | interpolation: 7.85\n",
      "ix_directional: 2,  optimization: 110.01 | interpolation: 21.35\n"
     ]
    }
   ],
   "source": [
    "# --------------------------------------\n",
    "# RBF Interpolation\n",
    "\n",
    "\n",
    "# Simulated SEA waves\n",
    "sea_rec_sim = RBF_Reconstruction(\n",
    "    wvs_sea_subset, ix_scalar_subset, ix_directional_subset,\n",
    "    wvs_sea_target, ix_scalar_target, ix_directional_target,\n",
    "    wvs_sea_dataset_sim)\n",
    "df_sea_recon_sim = pd.DataFrame(data=sea_rec_sim, columns=vns_tgt)\n",
    "df_sea_recon_sim['n_sim'] = sea_n_sim  # keep n_sim value\n",
    "\n",
    "\n",
    "# Historical SEA waves\n",
    "sea_rec_hist = RBF_Reconstruction(\n",
    "    wvs_sea_subset, ix_scalar_subset, ix_directional_subset,\n",
    "    wvs_sea_target, ix_scalar_target, ix_directional_target,\n",
    "    wvs_sea_dataset_hist)\n",
    "df_sea_recon_hist = pd.DataFrame(data=sea_rec_hist, columns=vns_tgt)\n",
    "\n",
    "\n",
    "# store data\n",
    "db.Save_NEARSHORE_RECONSTRUCTION_SIM_sea(df_sea_recon_sim)\n",
    "db.Save_NEARSHORE_RECONSTRUCTION_HIST_sea(df_sea_recon_hist)\n"
   ]
  },
  {
   "cell_type": "markdown",
   "metadata": {},
   "source": [
    "\n",
    "## RBF Reconstruct SWELL Waves"
   ]
  },
  {
   "cell_type": "code",
   "execution_count": 7,
   "metadata": {},
   "outputs": [
    {
     "name": "stdout",
     "output_type": "stream",
     "text": [
      "ix_scalar: 0,  optimization: 48.51 | interpolation: 310.64\n",
      "ix_scalar: 1,  optimization: 139.96 | interpolation: 363.93\n",
      "ix_directional: 2,  optimization: 149.62 | interpolation: 729.73\n",
      "ix_scalar: 0,  optimization: 48.81 | interpolation: 29.58\n",
      "ix_scalar: 1,  optimization: 94.31 | interpolation: 30.07\n",
      "ix_directional: 2,  optimization: 97.98 | interpolation: 61.31\n"
     ]
    }
   ],
   "source": [
    "# --------------------------------------\n",
    "# RBF Interpolation\n",
    "\n",
    "\n",
    "# Simulated SWELL waves\n",
    "swl_rec_sim = RBF_Reconstruction(\n",
    "    wvs_swell_subset, ix_scalar_subset, ix_directional_subset,\n",
    "    wvs_swell_target, ix_scalar_target, ix_directional_target,\n",
    "    wvs_swell_dataset_sim)\n",
    "df_swl_recon_sim = pd.DataFrame(data=swl_rec_sim, columns=vns_tgt)\n",
    "df_swl_recon_sim['n_sim'] = swl_n_sim  # keep n_sim value\n",
    "\n",
    "\n",
    "# Historical SWELL waves\n",
    "swl_rec_hist = RBF_Reconstruction(\n",
    "    wvs_swell_subset, ix_scalar_subset, ix_directional_subset,\n",
    "    wvs_swell_target, ix_scalar_target, ix_directional_target,\n",
    "    wvs_swell_dataset_hist)\n",
    "df_swl_recon_hist = pd.DataFrame(data=swl_rec_hist, columns=vns_tgt)\n",
    "\n",
    "\n",
    "# store data\n",
    "db.Save_NEARSHORE_RECONSTRUCTION_SIM_swell(df_swl_recon_sim)\n",
    "db.Save_NEARSHORE_RECONSTRUCTION_HIST_swell(df_swl_recon_hist)\n"
   ]
  },
  {
   "cell_type": "markdown",
   "metadata": {},
   "source": [
    "## Methodology Validation: Buoy comparison"
   ]
  },
  {
   "cell_type": "code",
   "execution_count": 9,
   "metadata": {},
   "outputs": [],
   "source": [
    "# TODO: validate with AWAC + plot\n"
   ]
  },
  {
   "cell_type": "markdown",
   "metadata": {},
   "source": [
    "## Methodology Validation: Annual Maxima"
   ]
  },
  {
   "cell_type": "code",
   "execution_count": 12,
   "metadata": {},
   "outputs": [
    {
     "name": "stdout",
     "output_type": "stream",
     "text": [
      "            Hsig    TPsmoo         Dir  n_sim\n",
      "0       0.208115  2.429508  101.707861    NaN\n",
      "1       0.265490  2.606427   92.338007    0.0\n",
      "2       0.290903  2.989002  114.112774    NaN\n",
      "3       0.573906  5.413579  112.642724    NaN\n",
      "4       0.347916  3.074125  106.282561    NaN\n",
      "...          ...       ...         ...    ...\n",
      "389576  0.288512  2.783956  104.232569    NaN\n",
      "389577  0.216576  2.300218   83.985624    NaN\n",
      "389578  0.349989  2.931648   93.273763    3.0\n",
      "389579  0.669135  9.223054  108.896141    3.0\n",
      "389580  0.271511  2.646362   96.297690    3.0\n",
      "\n",
      "[389581 rows x 4 columns]\n"
     ]
    },
    {
     "ename": "SystemExit",
     "evalue": "",
     "output_type": "error",
     "traceback": [
      "An exception has occurred, use %tb to see the full traceback.\n",
      "\u001b[0;31mSystemExit\u001b[0m\n"
     ]
    }
   ],
   "source": [
    "# SEA\n",
    "\n",
    "print(df_sea_recon_sim)\n",
    "\n",
    "# TODO: add time para el plot\n",
    "# TODO: xr.from_dataframe() + n_sim index\n",
    "\n",
    "import sys; sys.exit()\n",
    "\n",
    "vns = ['Hsig', 'Tpsmo']\n",
    "for vn in vns:\n",
    "\n",
    "    # calculate Annual Maxima values for historical and simulated data\n",
    "    hist_A = WVS_hist[vn].groupby('time.year').max(dim='time')\n",
    "    sim_A = xr.concat([x[vn].groupby('time.year').max(dim='time') for x in l_WVS_sim_a], 'n_sim')\n",
    "\n",
    "    # Return Period historical vs. simulations\n",
    "    Plot_ReturnPeriodValidation(hist_A, sim_A);\n",
    "    "
   ]
  },
  {
   "cell_type": "code",
   "execution_count": null,
   "metadata": {},
   "outputs": [],
   "source": []
  }
 ],
 "metadata": {
  "kernelspec": {
   "display_name": "Python 3",
   "language": "python",
   "name": "python3"
  },
  "language_info": {
   "codemirror_mode": {
    "name": "ipython",
    "version": 3
   },
   "file_extension": ".py",
   "mimetype": "text/x-python",
   "name": "python",
   "nbconvert_exporter": "python",
   "pygments_lexer": "ipython3",
   "version": "3.7.2"
  }
 },
 "nbformat": 4,
 "nbformat_minor": 2
}
