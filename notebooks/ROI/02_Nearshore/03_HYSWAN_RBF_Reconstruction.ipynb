{
 "cells": [
  {
   "cell_type": "markdown",
   "metadata": {},
   "source": [
    "\n",
    "... ***CURRENTLY UNDER DEVELOPMENT*** ...\n"
   ]
  },
  {
   "cell_type": "markdown",
   "metadata": {},
   "source": [
    "## RBFs reconstruction of historical and synthetic data\n",
    "\n",
    "inputs required: \n",
    "  * Historical offshore waves\n",
    "  * Synthetic offshore waves - emulator output\n",
    "  * Sea and swell SWAN simulated  cases from ***Notebook 02_02***\n",
    "\n",
    "in this notebook:\n",
    "  * RBF reconstruction historical and simulated storms\n",
    "  * Generation of hourly nearshore waves with Intradaily Hydrographs\n",
    "  * Validation: syntethic and historical nearshore waves histograms\n"
   ]
  },
  {
   "cell_type": "markdown",
   "metadata": {},
   "source": [
    "\n",
    "### Workflow:\n",
    "\n",
    "<div>\n",
    "<img src=\"resources/nb02_03.png\" width=\"400px\">\n",
    "</div>\n",
    "\n"
   ]
  },
  {
   "cell_type": "code",
   "execution_count": 1,
   "metadata": {},
   "outputs": [],
   "source": [
    "#!/usr/bin/env python\n",
    "# -*- coding: utf-8 -*-\n",
    "\n",
    "# common\n",
    "import os\n",
    "import os.path as op\n",
    "\n",
    "# pip\n",
    "import numpy as np\n",
    "import pandas as pd\n",
    "import xarray as xr\n",
    "\n",
    "# DEV: override installed teslakit\n",
    "import sys\n",
    "sys.path.insert(0, op.join(os.path.abspath(''), '..', '..', '..'))\n",
    "\n",
    "# teslakit\n",
    "from teslakit.database import Database, hyswan_db\n",
    "from teslakit.rbf import RBF_Reconstruction, RBF_Validation\n",
    "from teslakit.waves import Aggregate_WavesFamilies, AWL, Intradaily_Hydrograph\n",
    "from teslakit.climate_emulator import Climate_Emulator\n",
    "from teslakit.util.time_operations import repair_times_hourly, add_max_storms_mask\n",
    "\n",
    "from teslakit.plotting.waves import Plot_Waves_Histogram_FitSim\n"
   ]
  },
  {
   "cell_type": "markdown",
   "metadata": {},
   "source": [
    "\n",
    "## Database and Site parameters"
   ]
  },
  {
   "cell_type": "code",
   "execution_count": 2,
   "metadata": {},
   "outputs": [],
   "source": [
    "# --------------------------------------\n",
    "# Teslakit database\n",
    "\n",
    "p_data = r'/Users/nico/Projects/TESLA-kit/TeslaKit/data'\n",
    "db = Database(p_data)\n",
    "\n",
    "# set site\n",
    "db.SetSite('ROI')\n",
    "\n",
    "\n",
    "# --------------------------------------\n",
    "# hyswan databases\n",
    "\n",
    "# historical\n",
    "db_hist = hyswan_db(db.paths.site.HYSWAN.hist)\n",
    "\n",
    "# simulation\n",
    "db_sim = hyswan_db(db.paths.site.HYSWAN.sim)\n"
   ]
  },
  {
   "cell_type": "code",
   "execution_count": 3,
   "metadata": {},
   "outputs": [],
   "source": [
    "# --------------------------------------\n",
    "# aux.\n",
    "\n",
    "def fix_target_nans(subset, target):\n",
    "    'remove NaN data indexes from subset and target. RBF does not handle NaNs'\n",
    "    \n",
    "    r_nan = target.isnull().any(axis=1)  # find any row with nans\n",
    "\n",
    "    if r_nan.any():\n",
    "        # log\n",
    "        print('remove nan data found at target:')\n",
    "        print(target[r_nan])\n",
    "        \n",
    "        # clean data\n",
    "        target = target[~r_nan]\n",
    "        subset = subset[~r_nan]\n",
    "        \n",
    "    return subset, target\n"
   ]
  },
  {
   "cell_type": "markdown",
   "metadata": {},
   "source": [
    "\n",
    "## HISTORICAL Waves Reconstruction"
   ]
  },
  {
   "cell_type": "code",
   "execution_count": 4,
   "metadata": {},
   "outputs": [],
   "source": [
    "# --------------------------------------\n",
    "# RBF Reconstruction data\n",
    "\n",
    "# historical sea\n",
    "wvs_sea_dataset = db_hist.Load('sea_dataset') \n",
    "wvs_sea_subset = db_hist.Load('sea_subset') \n",
    "wvs_sea_target = db_hist.Load('sea_target') \n",
    "\n",
    "# historical swells\n",
    "wvs_swl_dataset = db_hist.Load('swl_dataset') \n",
    "wvs_swl_subset = db_hist.Load('swl_subset') \n",
    "wvs_swl_target = db_hist.Load('swl_target') \n",
    "\n",
    "\n",
    "# solve Hs coefficient\n",
    "wvs_sea_target['Hsig'] = wvs_sea_target['Hsig'] * wvs_sea_subset['hs']\n",
    "wvs_swl_target['Hsig'] = wvs_swl_target['Hsig'] * wvs_swl_subset['hs']\n",
    "\n",
    "\n",
    "# remove nans (if any) from subset and target\n",
    "wvs_sea_subset, wvs_sea_target = fix_target_nans(wvs_sea_subset, wvs_sea_target)\n",
    "wvs_swl_subset, wvs_swl_target = fix_target_nans(wvs_swl_subset, wvs_swl_target)\n",
    "\n",
    "\n",
    "# ensure dataset and subset have same variables and column order\n",
    "vns_ds = ['hs', 'tp', 'dir']\n",
    "\n",
    "wvs_sea_dataset = wvs_sea_dataset[vns_ds].values\n",
    "wvs_sea_subset = wvs_sea_subset[vns_ds].values\n",
    "\n",
    "wvs_swl_dataset = wvs_swl_dataset[vns_ds].values\n",
    "wvs_swl_subset = wvs_swl_subset[vns_ds].values\n",
    "\n",
    "\n",
    "# select target variables\n",
    "vns_tgt = ['Hsig', 'TPsmoo', 'Dir']\n",
    "\n",
    "wvs_sea_target = wvs_sea_target[vns_tgt].values\n",
    "wvs_swl_target = wvs_swl_target[vns_tgt].values\n"
   ]
  },
  {
   "cell_type": "code",
   "execution_count": 5,
   "metadata": {},
   "outputs": [],
   "source": [
    "# --------------------------------------\n",
    "# RBF Reconstruction library\n",
    "\n",
    "# subset - scalar / directional indexes\n",
    "ix_scalar_subset = [0,1]      # scalar (hs, tp)\n",
    "ix_directional_subset = [2]   # directional (dir)\n",
    "\n",
    "# target - scalar / directional indexes\n",
    "ix_scalar_target = [0,1]      # scalar (Hsig, Tpsmoo, Dir)\n",
    "ix_directional_target = [2]   # directional (Dir)\n",
    "\n",
    "\n",
    "# RBF wrappers \n",
    "def RBF_Reconstruction_sea(dataset_input):\n",
    "    \n",
    "    return RBF_Reconstruction(\n",
    "    wvs_sea_subset, ix_scalar_subset, ix_directional_subset,\n",
    "    wvs_sea_target, ix_scalar_target, ix_directional_target,\n",
    "    dataset_input)\n",
    "\n",
    "def RBF_Reconstruction_swell(dataset_input):\n",
    "    \n",
    "    return RBF_Reconstruction(\n",
    "    wvs_swl_subset, ix_scalar_subset, ix_directional_subset,\n",
    "    wvs_swl_target, ix_scalar_target, ix_directional_target,\n",
    "    dataset_input)\n",
    "\n",
    "def RBF_Reconstruction_families(data):\n",
    "   \n",
    "    # sea\n",
    "    vs = ['sea_Hs', 'sea_Tp', 'sea_Dir']\n",
    "    data_sea = data[vs].dropna()\n",
    "    data_sea.drop(data_sea[(data_sea['sea_Dir'] >= 360)].index, inplace=True)  # fix sea_Dir >> 360 bug    \n",
    "    rec_sea = RBF_Reconstruction_sea(data_sea.values)\n",
    "    rec_sea = pd.DataFrame(data=rec_sea, columns=vs, index=data_sea.index)\n",
    "\n",
    "    # swell 1\n",
    "    vs = ['swell_1_Hs', 'swell_1_Tp', 'swell_1_Dir']\n",
    "    data_swl_1 = data[vs].dropna()\n",
    "    rec_swl_1 = RBF_Reconstruction_swell(data_swl_1.values)\n",
    "    rec_swl_1 = pd.DataFrame(data=rec_swl_1, columns=vs, index=data_swl_1.index)\n",
    "\n",
    "    # swell 2\n",
    "    vs = ['swell_2_Hs', 'swell_2_Tp', 'swell_2_Dir']\n",
    "    data_swl_2 = data[vs].dropna()\n",
    "    rec_swl_2 = RBF_Reconstruction_swell(data_swl_2.values)\n",
    "    rec_swl_2 = pd.DataFrame(data=rec_swl_2, columns=vs, index=data_swl_2.index)\n",
    "    \n",
    "    # join nearshore reconstructed data and parse to xarray.Dataset\n",
    "    rec_waves = pd.concat([rec_sea, rec_swl_1, rec_swl_2], axis=1)\n",
    "\n",
    "    # return pandas.dataframe\n",
    "    return rec_waves\n"
   ]
  },
  {
   "cell_type": "code",
   "execution_count": 6,
   "metadata": {},
   "outputs": [
    {
     "name": "stdout",
     "output_type": "stream",
     "text": [
      "ix_scalar: 0,  optimization: 0.30 | interpolation: 16.31\n",
      "ix_scalar: 1,  optimization: 0.76 | interpolation: 13.82\n",
      "ix_directional: 2,  optimization: 0.88 | interpolation: 28.10\n",
      "ix_scalar: 0,  optimization: 0.44 | interpolation: 27.61\n",
      "ix_scalar: 1,  optimization: 5.47 | interpolation: 24.12\n",
      "ix_directional: 2,  optimization: 0.80 | interpolation: 25.30\n",
      "ix_scalar: 0,  optimization: 0.44 | interpolation: 12.87\n",
      "ix_scalar: 1,  optimization: 0.38 | interpolation: 13.10\n",
      "ix_directional: 2,  optimization: 0.36 | interpolation: 30.45\n"
     ]
    }
   ],
   "source": [
    "# --------------------------------------\n",
    "# Load historical waves families\n",
    "\n",
    "WVS = db.Load_WAVES_hist()\n",
    "WVS = WVS.drop(['Hs', 'Tp', 'Dir', 'TC_category'])\n",
    "\n",
    "# Reconstruct waves by families\n",
    "WVS_rec = xr.Dataset.from_dataframe(RBF_Reconstruction_families(WVS.to_dataframe()))\n",
    "\n",
    "# aggregate nearshore variables (Tp from max. energy waves family)\n",
    "WVS_a = Aggregate_WavesFamilies(WVS_rec)\n",
    "WVS_rec = xr.merge([WVS_rec, WVS_a])\n",
    "\n",
    "# calculate nearshore AWL\n",
    "WVS_rec['AWL'] = AWL(WVS_rec['Hs'], WVS_rec['Tp'])\n",
    "\n",
    "# store historical hourly nearshore waves reconstruction\n",
    "db.Save_HIST_NEARSHORE(WVS_rec)\n",
    "\n",
    "WVS_HIST_rec = WVS_rec\n"
   ]
  },
  {
   "cell_type": "markdown",
   "metadata": {},
   "source": [
    "\n",
    "## SIMULATION Waves Reconstruction"
   ]
  },
  {
   "cell_type": "code",
   "execution_count": 7,
   "metadata": {},
   "outputs": [
    {
     "name": "stdout",
     "output_type": "stream",
     "text": [
      "remove nan data found at target:\n",
      "           lon     lat  Hsig  Tm02  Dir  Dspr  TPsmoo\n",
      "case                                                 \n",
      "15    167.4679  9.4165   0.0   NaN  NaN   NaN     NaN\n"
     ]
    }
   ],
   "source": [
    "# --------------------------------------\n",
    "# RBF Reconstruction data\n",
    "\n",
    "# historical sea\n",
    "wvs_sea_dataset = db_sim.Load('sea_dataset') \n",
    "wvs_sea_subset = db_sim.Load('sea_subset') \n",
    "wvs_sea_target = db_sim.Load('sea_target') \n",
    "\n",
    "# historical swells\n",
    "wvs_swl_dataset = db_sim.Load('swl_dataset') \n",
    "wvs_swl_subset = db_sim.Load('swl_subset') \n",
    "wvs_swl_target = db_sim.Load('swl_target') \n",
    "\n",
    "\n",
    "# solve Hs coefficient\n",
    "wvs_sea_target['Hsig'] = wvs_sea_target['Hsig'] * wvs_sea_subset['hs']\n",
    "wvs_swl_target['Hsig'] = wvs_swl_target['Hsig'] * wvs_swl_subset['hs']\n",
    "\n",
    "\n",
    "# remove nans (if any) from subset and target\n",
    "wvs_sea_subset, wvs_sea_target = fix_target_nans(wvs_sea_subset, wvs_sea_target)\n",
    "wvs_swl_subset, wvs_swl_target = fix_target_nans(wvs_swl_subset, wvs_swl_target)\n",
    "\n",
    "\n",
    "# ensure dataset and subset have same variables and column order\n",
    "vns_ds = ['hs', 'tp', 'dir']\n",
    "\n",
    "wvs_sea_dataset = wvs_sea_dataset[vns_ds].values\n",
    "wvs_sea_subset = wvs_sea_subset[vns_ds].values\n",
    "\n",
    "wvs_swl_dataset = wvs_swl_dataset[vns_ds].values\n",
    "wvs_swl_subset = wvs_swl_subset[vns_ds].values\n",
    "\n",
    "\n",
    "# select target variables\n",
    "vns_tgt = ['Hsig', 'TPsmoo', 'Dir']\n",
    "\n",
    "wvs_sea_target = wvs_sea_target[vns_tgt].values\n",
    "wvs_swl_target = wvs_swl_target[vns_tgt].values\n"
   ]
  },
  {
   "cell_type": "code",
   "execution_count": 8,
   "metadata": {},
   "outputs": [],
   "source": [
    "# --------------------------------------\n",
    "# RBF Reconstruction library\n",
    "\n",
    "# subset - scalar / directional indexes\n",
    "ix_scalar_subset = [0,1]      # scalar (hs, tp)\n",
    "ix_directional_subset = [2]   # directional (dir)\n",
    "\n",
    "# target - scalar / directional indexes\n",
    "ix_scalar_target = [0,1]      # scalar (Hsig, Tpsmoo, Dir)\n",
    "ix_directional_target = [2]   # directional (Dir)\n",
    "\n",
    "\n",
    "# RBF wrappers \n",
    "def RBF_Reconstruction_sea(dataset_input):\n",
    "    \n",
    "    return RBF_Reconstruction(\n",
    "    wvs_sea_subset, ix_scalar_subset, ix_directional_subset,\n",
    "    wvs_sea_target, ix_scalar_target, ix_directional_target,\n",
    "    dataset_input)\n",
    "\n",
    "def RBF_Reconstruction_swell(dataset_input):\n",
    "    \n",
    "    return RBF_Reconstruction(\n",
    "    wvs_swl_subset, ix_scalar_subset, ix_directional_subset,\n",
    "    wvs_swl_target, ix_scalar_target, ix_directional_target,\n",
    "    dataset_input)\n",
    "\n",
    "def RBF_Reconstruction_families(data):\n",
    "   \n",
    "    # sea\n",
    "    vs = ['sea_Hs', 'sea_Tp', 'sea_Dir']\n",
    "    data_sea = data[vs].dropna()\n",
    "    data_sea.drop(data_sea[(data_sea['sea_Dir'] >= 360)].index, inplace=True)  # fix sea_Dir >> 360 bug    \n",
    "    rec_sea = RBF_Reconstruction_sea(data_sea.values)\n",
    "    rec_sea = pd.DataFrame(data=rec_sea, columns=vs, index=data_sea.index)\n",
    "\n",
    "    # swell 1\n",
    "    vs = ['swell_1_Hs', 'swell_1_Tp', 'swell_1_Dir']\n",
    "    data_swl_1 = data[vs].dropna()\n",
    "    rec_swl_1 = RBF_Reconstruction_swell(data_swl_1.values)\n",
    "    rec_swl_1 = pd.DataFrame(data=rec_swl_1, columns=vs, index=data_swl_1.index)\n",
    "\n",
    "    # swell 2\n",
    "    vs = ['swell_2_Hs', 'swell_2_Tp', 'swell_2_Dir']\n",
    "    data_swl_2 = data[vs].dropna()\n",
    "    rec_swl_2 = RBF_Reconstruction_swell(data_swl_2.values)\n",
    "    rec_swl_2 = pd.DataFrame(data=rec_swl_2, columns=vs, index=data_swl_2.index)\n",
    "    \n",
    "    # join nearshore reconstructed data and parse to xarray.Dataset\n",
    "    rec_waves = pd.concat([rec_sea, rec_swl_1, rec_swl_2], axis=1)\n",
    "\n",
    "    # return pandas.dataframe\n",
    "    return rec_waves\n"
   ]
  },
  {
   "cell_type": "code",
   "execution_count": 10,
   "metadata": {},
   "outputs": [
    {
     "name": "stdout",
     "output_type": "stream",
     "text": [
      "ix_scalar: 0,  optimization: 0.39 | interpolation: 55.50\n",
      "ix_scalar: 1,  optimization: 0.88 | interpolation: 68.24\n",
      "ix_directional: 2,  optimization: 7.74 | interpolation: 110.08\n",
      "ix_scalar: 0,  optimization: 0.41 | interpolation: 119.38\n",
      "ix_scalar: 1,  optimization: 0.52 | interpolation: 105.62\n",
      "ix_directional: 2,  optimization: 0.26 | interpolation: 179.09\n",
      "ix_scalar: 0,  optimization: 0.20 | interpolation: 98.98\n",
      "ix_scalar: 1,  optimization: 0.24 | interpolation: 99.88\n",
      "ix_directional: 2,  optimization: 0.18 | interpolation: 200.14\n"
     ]
    }
   ],
   "source": [
    "# --------------------------------------\n",
    "# Load simulation waves families\n",
    "\n",
    "n_sims_DWTs = 10\n",
    "\n",
    "CE = Climate_Emulator(db.paths.site.EXTREMES.climate_emulator)\n",
    "CE.Load()\n",
    "\n",
    "WVS = CE.LoadSim_All()\n",
    "\n",
    "# Reconstruct waves by families\n",
    "WVS_rec = RBF_Reconstruction_families(WVS)\n",
    "WVS_rec['n_sim'] = WVS.n_sim\n",
    "WVS_rec['time'] = WVS.time\n",
    "\n",
    "WVS_SIM_rec = WVS_rec\n"
   ]
  },
  {
   "cell_type": "code",
   "execution_count": 11,
   "metadata": {},
   "outputs": [
    {
     "name": "stdout",
     "output_type": "stream",
     "text": [
      "simulation 0 processed.\n",
      "simulation 1 processed.\n",
      "simulation 2 processed.\n",
      "simulation 3 processed.\n",
      "simulation 4 processed.\n",
      "simulation 5 processed.\n",
      "simulation 6 processed.\n",
      "simulation 7 processed.\n",
      "simulation 8 processed.\n",
      "simulation 9 processed.\n"
     ]
    }
   ],
   "source": [
    "def waves_hourly(CE, WVS_SIM_rec, n_sim_ce=0):\n",
    "    '''\n",
    "    Generate nearshore hourly simulation output. \n",
    "    \n",
    "    - aggregate nearshore waves storms\n",
    "    - generate hourly hydrographs\n",
    "    - calculates AWL\n",
    "    \n",
    "    Stores simulation nearshore waves at teslakit site database\n",
    "    '''\n",
    "    \n",
    "    # iterate simulations\n",
    "    for n in range(n_sims_DWTs):\n",
    "        \n",
    "        # select simulation\n",
    "        WVS_SIM_rec_n = WVS_SIM_rec.loc[WVS_SIM_rec['n_sim'] == n]\n",
    "\n",
    "        # aggregate nearshore variables (Tp from max. energy waves family)\n",
    "        wvs_agr = Aggregate_WavesFamilies(WVS_SIM_rec_n)\n",
    "        \n",
    "        # Load TCs storm data from climate emulator\n",
    "        _, TCS_sim, _ = CE.LoadSim(n_sim = n)    \n",
    "        TCS_sim = TCS_sim.isel(n_sim = n_sim_ce).copy() \n",
    "        TCS_sim = TCS_sim.sel(time=wvs_agr.time)\n",
    "        \n",
    "        # calculate intradaily hourly hydrographs for simulated storms\n",
    "        wvs_h = Intradaily_Hydrograph(wvs_agr, TCS_sim)\n",
    "        \n",
    "        # calculate AWL\n",
    "        wvs_h['AWL'] = AWL(wvs_h.Hs, wvs_h.Tp)\n",
    "        \n",
    "        # store hourly simulation offshore data\n",
    "        db.Save_SIM_NEARSHORE(wvs_h, n)\n",
    "                \n",
    "        print('simulation {0} processed.'.format(n))\n",
    "\n",
    "# generate intradaily hydrographs\n",
    "waves_hourly(CE, WVS_rec)  \n"
   ]
  },
  {
   "cell_type": "markdown",
   "metadata": {},
   "source": [
    "\n",
    "## Methodology Validation: Historical - Simulation Waves Families Comparison"
   ]
  },
  {
   "cell_type": "code",
   "execution_count": 12,
   "metadata": {
    "scrolled": false
   },
   "outputs": [
    {
     "data": {
      "image/png": "[encoded data removed]",
      "text/plain": [
       "<Figure size 1141.66x705.6 with 9 Axes>"
      ]
     },
     "metadata": {
      "needs_background": "light"
     },
     "output_type": "display_data"
    }
   ],
   "source": [
    "# --------------------------------------\n",
    "# Compare waves families for reconstructed historical and simulated storms\n",
    "\n",
    "# get storms from historical reconstruction\n",
    "#time_storms = HIST_C_h.where(HIST_C_h['max_storms']==True, drop=True).time\n",
    "#WVS_HIST_rec_s = WVS_HIST_rec.sel(time=time_storms)\n",
    "\n",
    "# Select Simulation to plot storms\n",
    "n_sim = 0\n",
    "WVS_SIM_rec_n_s = WVS_SIM_rec.loc[WVS_SIM_rec['n_sim'] == n_sim]\n",
    "\n",
    "# Plot reconstructed nearshore waves parameters distribution \n",
    "Plot_Waves_Histogram_FitSim(WVS_HIST_rec, WVS_SIM_rec_n_s);\n"
   ]
  },
  {
   "cell_type": "code",
   "execution_count": null,
   "metadata": {},
   "outputs": [],
   "source": []
  }
 ],
 "metadata": {
  "kernelspec": {
   "display_name": "Python 3",
   "language": "python",
   "name": "python3"
  },
  "language_info": {
   "codemirror_mode": {
    "name": "ipython",
    "version": 3
   },
   "file_extension": ".py",
   "mimetype": "text/x-python",
   "name": "python",
   "nbconvert_exporter": "python",
   "pygments_lexer": "ipython3",
   "version": "3.7.2"
  }
 },
 "nbformat": 4,
 "nbformat_minor": 2
}
