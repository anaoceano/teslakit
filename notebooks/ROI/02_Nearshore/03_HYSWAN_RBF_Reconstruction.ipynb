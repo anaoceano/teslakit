{
 "cells": [
  {
   "cell_type": "markdown",
   "metadata": {},
   "source": [
    "\n",
    "... ***CURRENTLY UNDER DEVELOPMENT*** ...\n"
   ]
  },
  {
   "cell_type": "markdown",
   "metadata": {},
   "source": [
    "## RBFs reconstruction of historical and synthetic data\n",
    "\n",
    "inputs required: \n",
    "  * Historical offshore waves\n",
    "  * Synthetic offshore waves - emulator output\n",
    "  * Sea and swell SWAN simulated  cases from ***Notebook 02_02***\n",
    "\n",
    "in this notebook:\n",
    "  * RBF reconstruction historical and simulated storms\n",
    "  * Generation of hourly nearshore waves with Intradaily Hydrographs\n",
    "  * Validation: syntethic and historical nearshore waves histograms\n"
   ]
  },
  {
   "cell_type": "markdown",
   "metadata": {},
   "source": [
    "\n",
    "### Workflow:\n",
    "\n",
    "<div>\n",
    "<img src=\"resources/nb02_03.png\" width=\"400px\">\n",
    "</div>\n",
    "\n"
   ]
  },
  {
   "cell_type": "code",
   "execution_count": 1,
   "metadata": {},
   "outputs": [],
   "source": [
    "#!/usr/bin/env python\n",
    "# -*- coding: utf-8 -*-\n",
    "\n",
    "# common\n",
    "import os\n",
    "import os.path as op\n",
    "\n",
    "# pip\n",
    "import numpy as np\n",
    "import pandas as pd\n",
    "import xarray as xr\n",
    "\n",
    "# DEV: override installed teslakit\n",
    "import sys\n",
    "sys.path.insert(0, op.join(os.path.abspath(''), '..', '..', '..'))\n",
    "\n",
    "# teslakit\n",
    "from teslakit.database import Database\n",
    "from teslakit.rbf import RBF_Reconstruction, RBF_Validation\n",
    "from teslakit.waves import Aggregate_WavesFamilies, AWL, Intradaily_Hydrograph\n",
    "from teslakit.climate_emulator import Climate_Emulator\n",
    "\n",
    "from teslakit.plotting.waves import Plot_Waves_Histogram_FitSim\n"
   ]
  },
  {
   "cell_type": "markdown",
   "metadata": {},
   "source": [
    "\n",
    "## Database and Site parameters"
   ]
  },
  {
   "cell_type": "code",
   "execution_count": 2,
   "metadata": {},
   "outputs": [],
   "source": [
    "# --------------------------------------\n",
    "# Teslakit database\n",
    "\n",
    "p_data = r'/Users/nico/Projects/TESLA-kit/TeslaKit/data'\n",
    "db = Database(p_data)\n",
    "\n",
    "# set site\n",
    "db.SetSite('ROI')\n",
    "\n",
    "# Load Climate Emulator (storms data inside)\n",
    "CE = Climate_Emulator(db.paths.site.EXTREMES.climate_emulator)\n",
    "CE.Load()\n",
    "\n",
    "n_sims_DWTs = 10\n"
   ]
  },
  {
   "cell_type": "code",
   "execution_count": 3,
   "metadata": {},
   "outputs": [
    {
     "name": "stdout",
     "output_type": "stream",
     "text": [
      "remove nan data found at target:\n",
      "           lon     lat  Hsig  Tm02  Dir  Dspr  TPsmoo\n",
      "case                                                 \n",
      "50    167.4679  9.4165   0.0   NaN  NaN   NaN     NaN\n"
     ]
    }
   ],
   "source": [
    "# input files: dataset, subset (MDA classification), and target (SWAN simulations output)\n",
    "\n",
    "# sea \n",
    "wvs_sea_dataset_sim = db.Load_NEARSHORE_SIM_sea()\n",
    "wvs_sea_dataset_hist = db.Load_NEARSHORE_HIST_sea()\n",
    "wvs_sea_subset = db.Load_NEARSHORE_MDA_sea()\n",
    "wvs_sea_target = db.Load_NEARSHORE_TARGET_sea()\n",
    "\n",
    "# swells \n",
    "wvs_swell_dataset_sim = db.Load_NEARSHORE_SIM_swell()\n",
    "wvs_swell_dataset_hist = db.Load_NEARSHORE_HIST_swell()\n",
    "wvs_swell_subset = db.Load_NEARSHORE_MDA_swell()\n",
    "wvs_swell_target = db.Load_NEARSHORE_TARGET_swell()\n",
    "\n",
    "# keep datasets n_sim column\n",
    "sea_n_sim = wvs_sea_dataset_sim['n_sim']\n",
    "swl_n_sim = wvs_swell_dataset_sim['n_sim']\n",
    "\n",
    "\n",
    "# remove nans (if any) from subset and target\n",
    "def fix_target_nans(subset, target):\n",
    "    'remove NaN data indexes from subset and target. RBF does not handle NaNs'\n",
    "    \n",
    "    r_nan = target.isnull().any(axis=1)  # find any row with nans\n",
    "\n",
    "    if r_nan.any():\n",
    "        # log\n",
    "        print('remove nan data found at target:')\n",
    "        print(target[r_nan])\n",
    "        \n",
    "        # clean data\n",
    "        target = target[~r_nan]\n",
    "        subset = subset[~r_nan]\n",
    "        \n",
    "    return subset, target\n",
    "\n",
    "wvs_sea_subset, wvs_sea_target = fix_target_nans(wvs_sea_subset, wvs_sea_target)\n",
    "wvs_swell_subset, wvs_swell_target = fix_target_nans(wvs_swell_subset, wvs_swell_target)\n",
    "\n",
    "\n",
    "# ensure dataset and subset have same variables and column order\n",
    "vns_ds = ['hs', 'tp', 'dir']\n",
    "\n",
    "wvs_sea_dataset_sim = wvs_sea_dataset_sim[vns_ds].values\n",
    "wvs_sea_dataset_hist = wvs_sea_dataset_hist[vns_ds].values\n",
    "wvs_sea_subset = wvs_sea_subset[vns_ds].values\n",
    "\n",
    "wvs_swell_dataset_sim = wvs_swell_dataset_sim[vns_ds].values\n",
    "wvs_swell_dataset_hist = wvs_swell_dataset_hist[vns_ds].values\n",
    "wvs_swell_subset = wvs_swell_subset[vns_ds].values\n",
    "\n",
    "\n",
    "# select target variables\n",
    "vns_tgt = ['Hsig', 'TPsmoo', 'Dir']\n",
    "\n",
    "wvs_sea_target = wvs_sea_target[vns_tgt].values\n",
    "wvs_swell_target = wvs_swell_target[vns_tgt].values\n"
   ]
  },
  {
   "cell_type": "code",
   "execution_count": 4,
   "metadata": {},
   "outputs": [],
   "source": [
    "# RBF settings\n",
    "\n",
    "# subset - scalar / directional indexes\n",
    "ix_scalar_subset = [0,1]      # scalar (hs, tp)\n",
    "ix_directional_subset = [2]   # directional (dir)\n",
    "\n",
    "# target - scalar / directional indexes\n",
    "ix_scalar_target = [0,1]      # scalar (Hsig, Tpsmoo, Dir)\n",
    "ix_directional_target = [2]   # directional (Dir)\n",
    "\n",
    "\n",
    "# RBF wrappers \n",
    "def RBF_Reconstruction_sea(dataset_input):\n",
    "    \n",
    "    return RBF_Reconstruction(\n",
    "    wvs_sea_subset, ix_scalar_subset, ix_directional_subset,\n",
    "    wvs_sea_target, ix_scalar_target, ix_directional_target,\n",
    "    dataset_input)\n",
    "\n",
    "def RBF_Reconstruction_swell(dataset_input):\n",
    "    \n",
    "    return RBF_Reconstruction(\n",
    "    wvs_swell_subset, ix_scalar_subset, ix_directional_subset,\n",
    "    wvs_swell_target, ix_scalar_target, ix_directional_target,\n",
    "    dataset_input)\n",
    "\n",
    "def RBF_Reconstruction_families(data):\n",
    "   \n",
    "    # sea\n",
    "    vs = ['sea_Hs', 'sea_Tp', 'sea_Dir']\n",
    "    data_sea = data[vs].dropna()\n",
    "    data_sea.drop(data_sea[(data_sea['sea_Dir'] >= 360)].index, inplace=True)  # fix sea_Dir >> 360 bug    \n",
    "    rec_sea = RBF_Reconstruction_sea(data_sea.values)\n",
    "    rec_sea = pd.DataFrame(data=rec_sea, columns=vs, index=data_sea.index)\n",
    "\n",
    "    # swell 1\n",
    "    vs = ['swell_1_Hs', 'swell_1_Tp', 'swell_1_Dir']\n",
    "    data_swl_1 = data[vs].dropna()\n",
    "    rec_swl_1 = RBF_Reconstruction_swell(data_swl_1.values)\n",
    "    rec_swl_1 = pd.DataFrame(data=rec_swl_1, columns=vs, index=data_swl_1.index)\n",
    "\n",
    "    # swell 2\n",
    "    vs = ['swell_2_Hs', 'swell_2_Tp', 'swell_2_Dir']\n",
    "    data_swl_2 = data[vs].dropna()\n",
    "    rec_swl_2 = RBF_Reconstruction_swell(data_swl_2.values)\n",
    "    rec_swl_2 = pd.DataFrame(data=rec_swl_2, columns=vs, index=data_swl_2.index)\n",
    "    \n",
    "    # join nearshore reconstructed data and parse to xarray.Dataset\n",
    "    rec_waves = pd.concat([rec_sea, rec_swl_1, rec_swl_2], axis=1)\n",
    "\n",
    "    # return pandas.dataframe\n",
    "    return rec_waves\n",
    "     "
   ]
  },
  {
   "cell_type": "markdown",
   "metadata": {},
   "source": [
    "\n",
    "## RBF Reconstruct SEA Waves"
   ]
  },
  {
   "cell_type": "code",
   "execution_count": 5,
   "metadata": {},
   "outputs": [],
   "source": [
    "# --------------------------------------\n",
    "# RBF Interpolation\n",
    "\n",
    "# Simulated SEA waves\n",
    "#sea_rec_sim = RBF_Reconstruction_sea(wvs_sea_dataset_sim)\n",
    "#df_sea_recon_sim = pd.DataFrame(data=sea_rec_sim, columns=vns_tgt)\n",
    "#df_sea_recon_sim['n_sim'] = sea_n_sim  # keep n_sim value\n",
    "\n",
    "# Historical SEA waves\n",
    "#sea_rec_hist = RBF_Reconstruction_sea(wvs_sea_dataset_hist)\n",
    "#df_sea_recon_hist = pd.DataFrame(data=sea_rec_hist, columns=vns_tgt)\n",
    "\n",
    "# store data\n",
    "#db.Save_NEARSHORE_RECONSTRUCTION_SIM_sea(df_sea_recon_sim)\n",
    "#db.Save_NEARSHORE_RECONSTRUCTION_HIST_sea(df_sea_recon_hist)\n"
   ]
  },
  {
   "cell_type": "markdown",
   "metadata": {},
   "source": [
    "\n",
    "## RBF Reconstruct SWELL Waves"
   ]
  },
  {
   "cell_type": "code",
   "execution_count": 6,
   "metadata": {},
   "outputs": [],
   "source": [
    "# --------------------------------------\n",
    "# RBF Interpolation\n",
    "\n",
    "# Simulated SWELL waves\n",
    "#swl_rec_sim = RBF_Reconstruction_swell(wvs_swell_dataset_sim)\n",
    "#df_swl_recon_sim = pd.DataFrame(data=swl_rec_sim, columns=vns_tgt)\n",
    "#df_swl_recon_sim['n_sim'] = swl_n_sim  # keep n_sim value\n",
    "\n",
    "# Historical SWELL waves\n",
    "#swl_rec_hist = RBF_Reconstruction_swell(wvs_swell_dataset_hist)\n",
    "#df_swl_recon_hist = pd.DataFrame(data=swl_rec_hist, columns=vns_tgt)\n",
    "\n",
    "# store data\n",
    "#db.Save_NEARSHORE_RECONSTRUCTION_SIM_swell(df_swl_recon_sim)\n",
    "#db.Save_NEARSHORE_RECONSTRUCTION_HIST_swell(df_swl_recon_hist)\n"
   ]
  },
  {
   "cell_type": "markdown",
   "metadata": {},
   "source": [
    "\n",
    "## RBF Reconstruct Historical hourly data"
   ]
  },
  {
   "cell_type": "code",
   "execution_count": 7,
   "metadata": {
    "scrolled": false
   },
   "outputs": [
    {
     "name": "stdout",
     "output_type": "stream",
     "text": [
      "ix_scalar: 0,  optimization: 40.92 | interpolation: 20.76\n",
      "ix_scalar: 1,  optimization: 92.46 | interpolation: 16.59\n",
      "ix_directional: 2,  optimization: 99.71 | interpolation: 33.48\n",
      "ix_scalar: 0,  optimization: 38.83 | interpolation: 26.40\n",
      "ix_scalar: 1,  optimization: 79.25 | interpolation: 27.74\n",
      "ix_directional: 2,  optimization: 75.62 | interpolation: 53.09\n",
      "ix_scalar: 0,  optimization: 39.02 | interpolation: 29.53\n",
      "ix_scalar: 1,  optimization: 79.38 | interpolation: 32.98\n",
      "ix_directional: 2,  optimization: 74.93 | interpolation: 59.19\n"
     ]
    }
   ],
   "source": [
    "# Load hourly historical data\n",
    "HIST_C_h = db.Load_HIST_Complete_hourly()\n",
    "\n",
    "# Reconstruct waves by families\n",
    "WVS_HIST_rec = RBF_Reconstruction_families(HIST_C_h.to_dataframe())\n",
    "WVS_HIST_rec = xr.Dataset.from_dataframe(WVS_HIST_rec)\n",
    "\n",
    "# aggregate nearshore variables (Tp from max. energy waves family)\n",
    "WVS_a = Aggregate_WavesFamilies(WVS_HIST_rec, a_tp = 'quadratic')  # TODO: max energy\n",
    "WVS_HIST_rec = xr.merge([WVS_HIST_rec, WVS_a])\n",
    "\n",
    "# calculate nearshore AWL\n",
    "WVS_HIST_rec['AWL'] = AWL(WVS_HIST_rec.Hs, WVS_HIST_rec.Tp)\n",
    "\n",
    "# store historical hourly nearshore waves reconstruction\n",
    "db.Save_NEARSHORE_RECONSTRUCTION_HIST_hourly(WVS_HIST_rec)\n"
   ]
  },
  {
   "cell_type": "markdown",
   "metadata": {},
   "source": [
    "\n",
    "## RBF Reconstruct Simulation storms and generate hourly data"
   ]
  },
  {
   "cell_type": "code",
   "execution_count": 8,
   "metadata": {},
   "outputs": [
    {
     "name": "stdout",
     "output_type": "stream",
     "text": [
      "ix_scalar: 0,  optimization: 45.02 | interpolation: 52.70\n",
      "ix_scalar: 1,  optimization: 100.03 | interpolation: 54.66\n",
      "ix_directional: 2,  optimization: 131.58 | interpolation: 105.95\n",
      "ix_scalar: 0,  optimization: 45.83 | interpolation: 137.15\n",
      "ix_scalar: 1,  optimization: 93.62 | interpolation: 140.02\n",
      "ix_directional: 2,  optimization: 87.74 | interpolation: 270.21\n",
      "ix_scalar: 0,  optimization: 45.41 | interpolation: 148.26\n",
      "ix_scalar: 1,  optimization: 92.43 | interpolation: 154.73\n",
      "ix_directional: 2,  optimization: 89.10 | interpolation: 327.13\n"
     ]
    }
   ],
   "source": [
    "# load all climate emulator storms simulations\n",
    "WVS_SIM = CE.LoadSim_All()\n",
    "    \n",
    "# reconstruct waves by families\n",
    "WVS_SIM_rec = RBF_Reconstruction_families(WVS_SIM)\n",
    "WVS_SIM_rec['n_sim'] = WVS_SIM.n_sim\n",
    "WVS_SIM_rec['time'] = WVS_SIM.time\n"
   ]
  },
  {
   "cell_type": "code",
   "execution_count": 9,
   "metadata": {},
   "outputs": [
    {
     "name": "stdout",
     "output_type": "stream",
     "text": [
      "Intradaily Hydrograph SIM nº 0 done.\n",
      "Intradaily Hydrograph SIM nº 1 done.\n",
      "Intradaily Hydrograph SIM nº 2 done.\n",
      "Intradaily Hydrograph SIM nº 3 done.\n",
      "Intradaily Hydrograph SIM nº 4 done.\n",
      "Intradaily Hydrograph SIM nº 5 done.\n",
      "Intradaily Hydrograph SIM nº 6 done.\n",
      "Intradaily Hydrograph SIM nº 7 done.\n",
      "Intradaily Hydrograph SIM nº 8 done.\n",
      "Intradaily Hydrograph SIM nº 9 done.\n",
      "<xarray.Dataset>\n",
      "Dimensions:  (n_sim: 10, time: 8765833)\n",
      "Coordinates:\n",
      "  * time     (time) object 2000-01-01 2000-01-01T01:00:00 ... 3000-01-01\n",
      "Dimensions without coordinates: n_sim\n",
      "Data variables:\n",
      "    Hs       (n_sim, time) float64 0.8807 0.8807 0.8807 ... 0.9464 0.9388 0.9311\n",
      "    Tp       (n_sim, time) float64 10.72 10.72 10.72 10.72 ... 7.374 7.374 9.101\n",
      "    Dir      (n_sim, time) float64 8.391 8.391 8.391 8.391 ... 15.07 15.07 358.6\n",
      "    SS       (n_sim, time) float64 0.0 0.0 0.0 0.0 0.0 ... 0.0 0.0 0.0 0.0 0.0\n",
      "    AWL      (n_sim, time) float64 0.432 0.432 0.432 ... 0.3082 0.307 0.3773\n",
      "Attributes:\n",
      "    source:   teslakit_v0.9.1\n"
     ]
    }
   ],
   "source": [
    "def waves_hourly(CE, WVS_SIM_rec, n_sim_ce=0):\n",
    "    '''\n",
    "    Generate nearshore hourly simulation output. \n",
    "    \n",
    "    - aggregate nearshore waves storms\n",
    "    - generate hourly hydrographs\n",
    "    - calculates AWL\n",
    "    \n",
    "    return xarray.Dataset with dims: n_sim (DWTs-WVs), time (hourly)\n",
    "    '''\n",
    "    \n",
    "    # iterate simulations\n",
    "    ls_hy = []\n",
    "    for n in range(n_sims_DWTs):\n",
    "        \n",
    "        # select simulation\n",
    "        WVS_SIM_rec_n = WVS_SIM_rec.loc[WVS_SIM_rec['n_sim'] == n]\n",
    "\n",
    "        # aggregate nearshore variables (Tp from max. energy waves family)\n",
    "        wvs_agr = Aggregate_WavesFamilies(WVS_SIM_rec_n, a_tp = 'quadratic')  # TODO: max_energy\n",
    "        \n",
    "        # Load TCs storm data from climate emulator\n",
    "        _, TCS_sim, _ = CE.LoadSim(n_sim = n)    \n",
    "        TCS_sim = TCS_sim.isel(n_sim = n_sim_ce).copy()        \n",
    "        \n",
    "        # calculate intradaily hourly hydrographs for simulated storms\n",
    "        hy = Intradaily_Hydrograph(wvs_agr, TCS_sim)\n",
    "        \n",
    "        ls_hy.append(hy)\n",
    "        \n",
    "        print('Intradaily Hydrograph SIM nº {0} done.'.format(int(n)))\n",
    "\n",
    "        \n",
    "    # combine hourly simulations\n",
    "    hy = xr.concat(ls_hy, 'n_sim')\n",
    "\n",
    "    # calculate hourly Atmospheric Water Level\n",
    "    hy['AWL'] = AWL(hy.Hs, hy.Tp)\n",
    " \n",
    "    return hy\n",
    "\n",
    "\n",
    "# generate intradaily hydrographs\n",
    "WVS_SIM_rec_h = waves_hourly(CE, WVS_SIM_rec)  \n",
    "\n",
    "# store hourly nearshore waves data\n",
    "db.Save_NEARSHORE_RECONSTRUCTION_SIM_hourly(WVS_SIM_rec_h)\n",
    "\n",
    "print(WVS_SIM_rec_h)\n"
   ]
  },
  {
   "cell_type": "markdown",
   "metadata": {},
   "source": [
    "\n",
    "## Methodology Validation: Historical - Simulation Waves Families Comparison"
   ]
  },
  {
   "cell_type": "code",
   "execution_count": 10,
   "metadata": {
    "scrolled": false
   },
   "outputs": [
    {
     "data": {
      "image/png": "[encoded data removed]",
      "text/plain": [
       "<Figure size 1141.66x705.6 with 9 Axes>"
      ]
     },
     "metadata": {
      "needs_background": "light"
     },
     "output_type": "display_data"
    }
   ],
   "source": [
    "# --------------------------------------\n",
    "# Compare waves families for reconstructed historical and simulated storms\n",
    "\n",
    "# get storms from historical reconstruction\n",
    "time_storms = HIST_C_h.where(HIST_C_h['max_storms']==True, drop=True).time\n",
    "WVS_HIST_rec_s = WVS_HIST_rec.sel(time=time_storms)\n",
    "\n",
    "# Select Simulation to plot storms\n",
    "n_sim = 0\n",
    "WVS_SIM_rec_n_s = WVS_SIM_rec.loc[WVS_SIM_rec['n_sim'] == n_sim]\n",
    "\n",
    "# Plot reconstructed nearshore waves parameters distribution \n",
    "Plot_Waves_Histogram_FitSim(WVS_HIST_rec_s, WVS_SIM_rec_n_s);\n"
   ]
  },
  {
   "cell_type": "code",
   "execution_count": null,
   "metadata": {},
   "outputs": [],
   "source": []
  }
 ],
 "metadata": {
  "kernelspec": {
   "display_name": "Python 3",
   "language": "python",
   "name": "python3"
  },
  "language_info": {
   "codemirror_mode": {
    "name": "ipython",
    "version": 3
   },
   "file_extension": ".py",
   "mimetype": "text/x-python",
   "name": "python",
   "nbconvert_exporter": "python",
   "pygments_lexer": "ipython3",
   "version": "3.7.2"
  }
 },
 "nbformat": 4,
 "nbformat_minor": 2
}
