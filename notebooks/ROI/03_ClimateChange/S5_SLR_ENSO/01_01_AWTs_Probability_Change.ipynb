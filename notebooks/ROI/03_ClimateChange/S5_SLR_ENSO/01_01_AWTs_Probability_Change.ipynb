{
 "cells": [
  {
   "cell_type": "markdown",
   "metadata": {},
   "source": [
    "\n",
    "... ***CURRENTLY UNDER DEVELOPMENT*** ...\n"
   ]
  },
  {
   "cell_type": "markdown",
   "metadata": {},
   "source": [
    "## Obtain Anual Weather Types (AWT) for future climate conditions\n",
    "\n",
    "Generates future AWT time series and correspondent PCs\n",
    "\n",
    "inputs required: \n",
    "* Future probabilities of AWTs \n",
    "* Synthetic tri-variate annual PCs (APC1,APC2, and APC3)\n",
    "\n",
    "\n",
    "in this notebook:\n",
    "  * Obtain historical AWT transistion probability matrix\n",
    "  * Modify transistion probability matrix according to future probabilities\n",
    "  * Synthetic generation of AWT based on a first-order markov chain (i.e. generation of AWTs using the modified transistion probability matrix)\n",
    "  * Synthetic generation of tri-variate annual PCs (APC1,APC2, and APC3)\n",
    "\n"
   ]
  },
  {
   "cell_type": "code",
   "execution_count": 1,
   "metadata": {},
   "outputs": [],
   "source": [
    "#!/usr/bin/env python\n",
    "# -*- coding: utf-8 -*-\n",
    "\n",
    "# common\n",
    "import os\n",
    "import os.path as op\n",
    "import pickle\n",
    "from datetime import datetime\n",
    "\n",
    "# pip\n",
    "import xarray as xr\n",
    "import numpy as np\n",
    "np.set_printoptions(precision=4, suppress=True)\n",
    "\n",
    "# DEV: override installed teslakit\n",
    "import sys\n",
    "sys.path.insert(0, op.join(os.path.abspath(''), '..', '..', '..', '..'))\n",
    "\n",
    "# teslakit \n",
    "from teslakit.database import Database\n",
    "from teslakit.kma import ClusterProbabilities, ChangeProbabilities\n",
    "\n",
    "from teslakit.plotting.wts import Plot_Compare_Transitions\n",
    "\n",
    "from teslakit.io.aux_nc import StoreBugXdset\n",
    "from teslakit.util.time_operations import xds_reindex_daily, xds_reindex_monthly\n"
   ]
  },
  {
   "cell_type": "markdown",
   "metadata": {},
   "source": [
    "\n",
    "## Database and Site parameters"
   ]
  },
  {
   "cell_type": "code",
   "execution_count": 2,
   "metadata": {},
   "outputs": [],
   "source": [
    "# --------------------------------------\n",
    "# Teslakit database\n",
    "p_data = r'/Users/albacid/Projects/TeslaKit_projects'\n",
    "\n",
    "# offshore\n",
    "db = Database(p_data)\n",
    "db.SetSite('ROI')\n",
    "\n",
    "# climate change - S5\n",
    "db_S5 = Database(p_data)\n",
    "db_S5.SetSite('ROI_CC_S5')\n"
   ]
  },
  {
   "cell_type": "code",
   "execution_count": 3,
   "metadata": {},
   "outputs": [],
   "source": [
    "# --------------------------------------\n",
    "# load data and set parameters\n",
    "SST_AWTs = db.Load_SST_KMA()\n",
    "bmus_hist = SST_AWTs.bmus.values[:] + 1 # for plotting comparison\n",
    "\n",
    "# Load SST PCs123 random generated with Copulas\n",
    "PCs_fit, PCs_rnd = db.Load_SST_PCs_fit_rnd()\n",
    "\n",
    "# SST Predictor PCA parameters\n",
    "pca_year_ini = 1880\n",
    "pca_year_end = 2019\n",
    "pca_month_ini = 6\n",
    "pca_month_end = 5\n",
    "num_clusters = 6\n",
    "\n",
    "# New AWT probabilities (expected probabilities under rcp8.5)\n",
    "WT_probs_new = [17, 10, 16, 9, 23, 25] # must sum 100%\n",
    "WT_probs_new = [x/100 for x in WT_probs_new]\n",
    "\n",
    "# Simulation\n",
    "num_sims = 100\n",
    "y1_sim = 2000\n",
    "y2_sim = 3000\n"
   ]
  },
  {
   "cell_type": "markdown",
   "metadata": {},
   "source": [
    "## Present & Future AWT probabilities"
   ]
  },
  {
   "cell_type": "code",
   "execution_count": 4,
   "metadata": {},
   "outputs": [
    {
     "name": "stdout",
     "output_type": "stream",
     "text": [
      "current AWT probabilities\n",
      "[0.1286 0.2143 0.0929 0.1571 0.1786 0.2286]\n",
      "1.0\n",
      "future AWT probabilities\n",
      "[0.17, 0.1, 0.16, 0.09, 0.23, 0.25]\n",
      "1.0\n",
      "\n",
      "stable AWT probabilities from current transition probability matrix (markov=1)\n",
      "[0.1278 0.2147 0.0929 0.1535 0.1792 0.232 ]\n",
      "1.0\n"
     ]
    }
   ],
   "source": [
    "# Get probability of each AWT (just for info)\n",
    "set_values = np.arange(num_clusters) + 1\n",
    "WT_probs = ClusterProbabilities(bmus_hist, set_values)\n",
    "\n",
    "print('current AWT probabilities')\n",
    "print(WT_probs)\n",
    "print(np.sum(WT_probs)) \n",
    "\n",
    "print('future AWT probabilities')\n",
    "print(WT_probs_new)\n",
    "print(np.sum(WT_probs_new))\n",
    "print()\n",
    "\n",
    "\n",
    "# Get current transition probability matrix\n",
    "set_values = np.arange(num_clusters) + 1\n",
    "WT_trans_matrix = ChangeProbabilities(bmus_hist, set_values)[1]  # matriz probs cambio (markov 1)\n",
    "\n",
    "\n",
    "# Obtain stable AWTs probabilities from current transition probability matrix\n",
    "A = np.append(np.transpose(WT_trans_matrix)-np.identity(num_clusters), np.ones((1,num_clusters)), axis=0)\n",
    "b = np.append(np.zeros((num_clusters,1)),[[1]])\n",
    "WT_probs_stable = np.linalg.solve(np.transpose(A).dot(A), np.transpose(A).dot(b))\n",
    "\n",
    "print('stable AWT probabilities from current transition probability matrix (markov=1)')\n",
    "print(WT_probs_stable)\n",
    "print(np.sum(WT_probs_stable))\n"
   ]
  },
  {
   "cell_type": "markdown",
   "metadata": {},
   "source": [
    "## Modify transition probability matrix according to future AWT probs\n"
   ]
  },
  {
   "cell_type": "code",
   "execution_count": 5,
   "metadata": {},
   "outputs": [
    {
     "name": "stdout",
     "output_type": "stream",
     "text": [
      "[-0.1566 -0.6957  0.0563 -0.6686 -0.0903 -0.0418]\n",
      "\n",
      "[ 1.4494 -0.3033  1.1474 -0.5041  0.7998  0.    ]\n"
     ]
    }
   ],
   "source": [
    "\n",
    "# Obtain alfa and beta (parameters that modify each WT transition prob). Solves a linear matrix equation\n",
    "\n",
    "alfa_p = np.identity(num_clusters)\n",
    "beta_p = WT_trans_matrix\n",
    "\n",
    "alfa_q = np.zeros(np.shape(WT_trans_matrix))*np.nan\n",
    "for i in range(num_clusters):    \n",
    "    for j in range(num_clusters):\n",
    "        alfa_q[i,j] = beta_p[j][i]*WT_probs_new[j]\n",
    "\n",
    "        \n",
    "beta_q = np.zeros(np.shape(WT_trans_matrix))\n",
    "for i in range(num_clusters):\n",
    "    beta_q[i,i] = np.sum(alfa_q, axis=1)[i]\n",
    "\n",
    "    \n",
    "A = np.concatenate((alfa_p, beta_p), axis=1)\n",
    "B = np.concatenate((alfa_q, beta_q), axis=1)\n",
    "a = np.concatenate((A,B), axis=0)\n",
    "\n",
    "\n",
    "b = np.zeros((1,num_clusters*2))\n",
    "b = b[0] \n",
    "for i in range(num_clusters):\n",
    "    b[num_clusters+i] =  WT_probs_new[i]- beta_q[i][i]\n",
    "\n",
    "\n",
    "# solve \n",
    "alfa_beta = np.linalg.solve(a, b)\n",
    "alfa = alfa_beta[:num_clusters]\n",
    "beta = alfa_beta[num_clusters:]\n",
    "\n",
    "print(alfa)\n",
    "print()\n",
    "print(beta)\n"
   ]
  },
  {
   "cell_type": "code",
   "execution_count": 6,
   "metadata": {
    "scrolled": false
   },
   "outputs": [
    {
     "name": "stdout",
     "output_type": "stream",
     "text": [
      "transition probability matrix from historical bmus\n",
      "[[0.0556 0.2778 0.1111 0.1111 0.1111 0.3333]\n",
      " [0.2333 0.1667 0.1    0.     0.3667 0.1333]\n",
      " [0.     0.1667 0.0833 0.3333 0.0833 0.3333]\n",
      " [0.3182 0.3636 0.1818 0.     0.1364 0.    ]\n",
      " [0.     0.2    0.08   0.2    0.2    0.32  ]\n",
      " [0.0938 0.1562 0.0312 0.3125 0.0938 0.3125]]\n",
      "\n",
      "transition probability matrix modified acording to expected probs rcp8.5\n",
      "[[ 0.1274  0.15    0.2212  0.0377  0.1826  0.2811]\n",
      " [ 0.4092  0.0002  0.1452 -0.      0.4049  0.0406]\n",
      " [ 0.      0.1255  0.1836  0.1841  0.1547  0.3521]\n",
      " [ 0.5666  0.0102  0.2689 -0.      0.1543  0.    ]\n",
      " [ 0.      0.1213  0.1646  0.0811  0.3419  0.2911]\n",
      " [ 0.2257  0.1023  0.0658  0.1419  0.1648  0.2994]]\n",
      "\n"
     ]
    }
   ],
   "source": [
    "# modify transition probability matrix with obtained alfa & beta\n",
    "\n",
    "WT_trans_matrix_new = np.zeros(np.shape(WT_trans_matrix))*np.nan\n",
    "\n",
    "for i in range(num_clusters):\n",
    "    for j in range(num_clusters):\n",
    "        WT_trans_matrix_new[i][j] = WT_trans_matrix[i][j] * (1 + alfa[i] + beta[j])\n",
    "\n",
    "print('transition probability matrix from historical bmus')\n",
    "print(WT_trans_matrix)\n",
    "print()\n",
    "print('transition probability matrix modified acording to expected probs rcp8.5')\n",
    "print(WT_trans_matrix_new)\n",
    "print()\n"
   ]
  },
  {
   "cell_type": "code",
   "execution_count": 7,
   "metadata": {},
   "outputs": [
    {
     "name": "stdout",
     "output_type": "stream",
     "text": [
      "-------\n",
      "[0.17, 0.1, 0.16, 0.09, 0.23, 0.25]\n",
      "[0.17 0.1  0.16 0.09 0.23 0.25]\n",
      "\n"
     ]
    }
   ],
   "source": [
    "#---------------------\n",
    "# TODO: esto se borra\n",
    "\n",
    "# Check that the AWTs probabilites obtained from the modified transition prob matrix, are as expected\\n\",\n",
    "A = np.append(np.transpose(WT_trans_matrix_new)-np.identity(num_clusters), np.ones((1,num_clusters)), axis=0)\n",
    "b = np.append(np.zeros((num_clusters,1)),[[1]])\n",
    "WT_probs_new_stable = np.linalg.solve(np.transpose(A).dot(A), np.transpose(A).dot(b))\n",
    "    \n",
    "print('-------')\n",
    "print(WT_probs_new)\n",
    "print(WT_probs_new_stable)\n",
    "print()\n"
   ]
  },
  {
   "cell_type": "markdown",
   "metadata": {},
   "source": [
    "## Generate future bmus (markov = 1)\n"
   ]
  },
  {
   "cell_type": "code",
   "execution_count": 8,
   "metadata": {},
   "outputs": [
    {
     "name": "stdout",
     "output_type": "stream",
     "text": [
      "WT probs (mean) for synthetic simulations\n",
      "[0.169  0.1    0.159  0.0912 0.2325 0.2482]\n",
      "\n",
      "future AWT probabilities\n",
      "[0.17, 0.1, 0.16, 0.09, 0.23, 0.25]\n"
     ]
    }
   ],
   "source": [
    "time_sim = [datetime(y, pca_month_ini,1) for y in range(y1_sim-1, y2_sim+1)]\n",
    "\n",
    "\n",
    "# bmus generation\n",
    "bmus_sim = np.zeros((len(time_sim), num_sims), dtype=int) * np.nan\n",
    "\n",
    "c = 0 # contador\n",
    "for s in range(num_sims):\n",
    "    ind_row = bmus_hist[:1] -1  # first bmus state. from 0 to 5\n",
    "\n",
    "    while c < len(time_sim):\n",
    "        trans_prob_wt = np.cumsum(WT_trans_matrix_new[ind_row, :])\n",
    "        nrnd = np.random.rand()\n",
    "        ind_col = np.where(trans_prob_wt > nrnd)[0][0]\n",
    "\n",
    "        bmus_sim[c, s] = ind_col + 1\n",
    "\n",
    "        ind_row = ind_col\n",
    "        c += 1\n",
    "    c = 0\n",
    "  \n",
    "    \n",
    "# obtain AWTs probabilities of synthetic bmus for each sim\n",
    "WT_probs_sim = np.zeros((num_sims, num_clusters)) * np.nan\n",
    "\n",
    "for s in range(num_sims):\n",
    "    WT_probs_sim[s,:] = ClusterProbabilities(bmus_sim[:,s], set_values)\n",
    "\n",
    "\n",
    "# Obtain mean values of AWT probs from all simulations\n",
    "WT_probs_sim_mean = np.mean(WT_probs_sim, axis=0)\n",
    "print('WT probs (mean) for synthetic simulations')\n",
    "print(WT_probs_sim_mean)\n",
    "print()\n",
    "print('future AWT probabilities')\n",
    "print(WT_probs_new)\n"
   ]
  },
  {
   "cell_type": "code",
   "execution_count": 9,
   "metadata": {},
   "outputs": [],
   "source": [
    "# Save\n",
    "SST_AWTs_sim = xr.Dataset(\n",
    "    {\n",
    "        'evbmus_sims' : (('time','n_sim'), bmus_sim.astype(int)),\n",
    "    },\n",
    "    coords = {\n",
    "        'time' : time_sim,\n",
    "        'n_sim' : range(num_sims),\n",
    "    },\n",
    ")\n",
    "\n",
    "db_S5.Save_SST_AWT_sim(SST_AWTs_sim)\n"
   ]
  },
  {
   "cell_type": "code",
   "execution_count": 10,
   "metadata": {},
   "outputs": [
    {
     "data": {
      "image/png": "[encoded data removed]",
      "text/plain": [
       "<Figure size 1141.66x705.6 with 14 Axes>"
      ]
     },
     "metadata": {
      "needs_background": "light"
     },
     "output_type": "display_data"
    }
   ],
   "source": [
    "# Compare historical and simulation cluster probabilities transitions\n",
    "\n",
    "Plot_Compare_Transitions(num_clusters, bmus_hist, SST_AWTs_sim.evbmus_sims, sttl='Cluster Probabilities Transitions: All Simulations', show=True);\n",
    " "
   ]
  },
  {
   "cell_type": "code",
   "execution_count": 11,
   "metadata": {
    "scrolled": true
   },
   "outputs": [
    {
     "name": "stdout",
     "output_type": "stream",
     "text": [
      "<xarray.Dataset>\n",
      "Dimensions:     (n_sim: 100, time: 1002)\n",
      "Coordinates:\n",
      "  * time        (time) object 1999-06-01 2000-06-01 ... 2999-06-01 3000-06-01\n",
      "Dimensions without coordinates: n_sim\n",
      "Data variables:\n",
      "    PC1         (n_sim, time) float64 57.34 -26.88 49.36 ... 5.746 9.173 -4.359\n",
      "    PC2         (n_sim, time) float64 -17.05 -7.231 -5.957 ... 19.04 4.508\n",
      "    PC3         (n_sim, time) float64 -16.07 1.233 11.44 ... 0.01371 -9.099\n",
      "    evbmus_sim  (n_sim, time) int64 1 6 1 2 1 1 4 1 6 1 ... 6 4 1 6 1 2 1 2 3 4\n"
     ]
    }
   ],
   "source": [
    "# --------------------------------------\n",
    "# PCs generation\n",
    "\n",
    "vari = SST_AWTs.variance.values[:]\n",
    "\n",
    "# solve each ALR simulation\n",
    "l_PCs_sim = []\n",
    "for s in SST_AWTs_sim.n_sim:\n",
    "\n",
    "    evbmus_sim = SST_AWTs_sim.sel(n_sim=s).evbmus_sims.values[:]\n",
    "\n",
    "    # generate random PCs\n",
    "    pcs123_sim = np.empty((len(evbmus_sim),3)) * np.nan\n",
    "    for c, m in enumerate(evbmus_sim):\n",
    "        options = PCs_rnd['{0}'.format(int(m))]\n",
    "        r = np.random.randint(options.shape[0])\n",
    "        pcs123_sim[c,:] = options[r,:]\n",
    "        \n",
    "    # denormalize simulated PCs\n",
    "    PC1_sim = np.multiply(pcs123_sim[:,0], np.sqrt(vari[0]))\n",
    "    PC2_sim = np.multiply(pcs123_sim[:,1], np.sqrt(vari[1]))\n",
    "    PC3_sim = np.multiply(pcs123_sim[:,2], np.sqrt(vari[2]))\n",
    "\n",
    "    # append simulated PCs\n",
    "    l_PCs_sim.append(\n",
    "        xr.Dataset(\n",
    "            {\n",
    "                'PC1'  : (('time',), PC1_sim),\n",
    "                'PC2'  : (('time',), PC2_sim),\n",
    "                'PC3'  : (('time',), PC3_sim),\n",
    "                'evbmus_sim' : (('time',), evbmus_sim),\n",
    "            },\n",
    "            {'time' : time_sim}\n",
    "        )\n",
    "    )\n",
    "\n",
    "# concatenate simulations\n",
    "SST_PCs_sim = xr.concat(l_PCs_sim, 'n_sim')\n",
    "print(SST_PCs_sim)\n",
    "\n",
    "# store simulated PCs\n",
    "db_S5.Save_SST_PCs_sim(SST_PCs_sim)\n"
   ]
  },
  {
   "cell_type": "code",
   "execution_count": null,
   "metadata": {},
   "outputs": [],
   "source": []
  }
 ],
 "metadata": {
  "kernelspec": {
   "display_name": "Python 3",
   "language": "python",
   "name": "python3"
  },
  "language_info": {
   "codemirror_mode": {
    "name": "ipython",
    "version": 3
   },
   "file_extension": ".py",
   "mimetype": "text/x-python",
   "name": "python",
   "nbconvert_exporter": "python",
   "pygments_lexer": "ipython3",
   "version": "3.7.2"
  }
 },
 "nbformat": 4,
 "nbformat_minor": 2
}
