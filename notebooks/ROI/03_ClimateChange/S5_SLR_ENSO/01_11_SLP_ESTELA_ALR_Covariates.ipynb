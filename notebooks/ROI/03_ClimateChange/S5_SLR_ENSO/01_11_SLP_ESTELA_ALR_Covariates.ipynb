{
 "cells": [
  {
   "cell_type": "markdown",
   "metadata": {},
   "source": [
    "\n",
    "... ***CURRENTLY UNDER DEVELOPMENT*** ...\n"
   ]
  },
  {
   "cell_type": "code",
   "execution_count": null,
   "metadata": {},
   "outputs": [],
   "source": [
    "#!/usr/bin/env python\n",
    "# -*- coding: utf-8 -*-\n",
    "\n",
    "# common\n",
    "import os\n",
    "import os.path as op\n",
    "\n",
    "# pip\n",
    "import numpy as np\n",
    "import xarray as xr\n",
    "import shutil\n",
    "\n",
    "# DEV: override installed teslakit\n",
    "import sys\n",
    "sys.path.insert(0, op.join(os.path.abspath(''), '..', '..','..', '..'))\n",
    "\n",
    "# teslakit \n",
    "from teslakit.alr import ALR_WRP\n",
    "from teslakit.util.time_operations import xds_reindex_daily, xds_common_dates_daily\n",
    "\n",
    "from teslakit.plotting.estela import Plot_DWTs_Probs\n",
    "from teslakit.plotting.wts import Plot_Probs_WT_WT, Plot_Probs_WT_WT_anomaly\n",
    "\n",
    "from teslakit.io.aux_nc import StoreBugXdset\n"
   ]
  },
  {
   "cell_type": "markdown",
   "metadata": {},
   "source": [
    "\n",
    "## Database and Site parameters"
   ]
  },
  {
   "cell_type": "code",
   "execution_count": null,
   "metadata": {},
   "outputs": [],
   "source": [
    "# Teslakit database\n",
    "\n",
    "site ='ROI'\n",
    "p_data = r'/Users/albacid/Projects/TeslaKit_projects/sites/' + site + '/'\n",
    "\n",
    "p_outputs = p_data + 'ClimateChange_SLR_ENSO/'\n",
    "\n",
    "\n",
    "# TODO: copy alr_w folder \n",
    "shutil.copytree(p_data + 'ESTELA/alr_w/', p_outputs + 'ESTELA/alr_w/') \n"
   ]
  },
  {
   "cell_type": "code",
   "execution_count": null,
   "metadata": {},
   "outputs": [],
   "source": [
    "# --------------------------------------\n",
    "# load data and set parameters\n",
    "\n",
    "KMA_fit = xr.open_dataset(p_data + 'ESTELA/pred_SLP/kma.nc') # Historical bmus. ESTELA + TCs Predictor (daily)\n",
    "MJO_sim_all = xr.open_dataset(p_data + 'MJO/MJO_sim.nc')        # MJO simulation (daily)\n",
    "PCs_sim_all = xr.open_dataset(p_outputs + 'SST/CC_SST_PCs_sim_d.nc')     # SST PCs simulation (daily)\n",
    "\n",
    "# ALR fit parameters\n",
    "alr_num_clusters = 42\n",
    "alr_markov_order = 1\n",
    "alr_seasonality = [2, 4]\n",
    "\n",
    "# ALR simulation\n",
    "num_sims = 10 # one simulation for each simulated MJO, SST \n"
   ]
  },
  {
   "cell_type": "code",
   "execution_count": null,
   "metadata": {},
   "outputs": [],
   "source": [
    "# --------------------------------------\n",
    "# Data used to FIT ALR model and preprocess: \n",
    "\n",
    "# KMA: bmus (daily) (use sorted_bmus_storms, add 1 to get 1-42 bmus set)\n",
    "BMUS_fit = xr.Dataset(\n",
    "    {\n",
    "        'bmus':(('time',), KMA_fit['sorted_bmus_storms'].values[:] + 1),\n",
    "    },\n",
    "    coords = {'time': KMA_fit.time.values[:]}\n",
    ")\n",
    "\n"
   ]
  },
  {
   "cell_type": "markdown",
   "metadata": {},
   "source": [
    "\n",
    "## ESTELA Predictor - Autoregressive Logistic Regression Simulation"
   ]
  },
  {
   "cell_type": "code",
   "execution_count": null,
   "metadata": {},
   "outputs": [],
   "source": [
    "# --------------------------------------\n",
    "# Prepare Covariates for ALR simulations\n",
    "\n",
    "# simulation dates\n",
    "d_sim = xds_common_dates_daily([MJO_sim_all, PCs_sim_all])\n",
    "\n",
    "# join covariates for all MJO, PCs simulations\n",
    "l_cov_sims = []\n",
    "for i in MJO_sim_all.n_sim: \n",
    "\n",
    "    # select simulation\n",
    "    MJO_sim = MJO_sim_all.sel(n_sim=i)\n",
    "    PCs_sim = PCs_sim_all.sel(n_sim=i)\n",
    "\n",
    "    # PCs covar \n",
    "    cov_PCs = PCs_sim.sel(time = slice(d_sim[0], d_sim[-1]))\n",
    "    cov_1 = cov_PCs.PC1.values.reshape(-1,1)\n",
    "    cov_2 = cov_PCs.PC2.values.reshape(-1,1)\n",
    "    cov_3 = cov_PCs.PC3.values.reshape(-1,1)\n",
    "\n",
    "    # MJO covars\n",
    "    cov_MJO = MJO_sim.sel(time = slice(d_sim[0], d_sim[-1]))\n",
    "    cov_4 = cov_MJO.rmm1.values.reshape(-1,1)\n",
    "    cov_5 = cov_MJO.rmm2.values.reshape(-1,1)\n",
    "\n",
    "    # join covars (do not normalize simulation covariates)\n",
    "    cov_T_sim = np.hstack((cov_1, cov_2, cov_3, cov_4, cov_5))\n",
    "    cov_sim = xr.Dataset(\n",
    "        {\n",
    "            'cov_values': (('time','n_covariates'), cov_T_sim),\n",
    "            'cov_names': (('n_covariates',), ['PC1','PC2','PC3','MJO1','MJO2']),\n",
    "        },\n",
    "        coords = {'time': d_sim}\n",
    "    )\n",
    "    l_cov_sims.append(cov_sim)\n",
    "\n",
    "# use \"n_sim\" name to join covariates (ALR.Simulate() will recognize it)\n",
    "cov_sims = xr.concat(l_cov_sims, dim='n_sim')\n",
    "cov_sims = cov_sims.squeeze()\n",
    "\n",
    "print(cov_sims)\n"
   ]
  },
  {
   "cell_type": "code",
   "execution_count": null,
   "metadata": {},
   "outputs": [],
   "source": [
    "# --------------------------------------\n",
    "# Autoregressive Logistic Regression\n",
    "\n",
    "# ALR wrapper\n",
    "ALRW = ALR_WRP(p_outputs + 'ESTELA/alr_w/')\n",
    "\n",
    "ALRW.LoadModel()\n",
    "ALRW.LoadBmus_Fit()\n"
   ]
  },
  {
   "cell_type": "code",
   "execution_count": null,
   "metadata": {},
   "outputs": [],
   "source": [
    "# --------------------------------------\n",
    "# Autoregressive Logistic Regression - simulate \n",
    "\n",
    "# launch simulation\n",
    "#xds_alr = ALRW.Simulate(num_sims, d_sim, cov_sims)\n",
    "\n",
    "# Store Daily Weather Types\n",
    "#DWT_sim = xds_alr.evbmus_sims.to_dataset()\n",
    "#StoreBugXdset(DWT_sim, p_outputs + 'ESTELA/CC_DWT_sim.nc')\n",
    "\n",
    "DWT_sim = xr.open_dataset(p_outputs + 'ESTELA/CC_DWT_sim.nc')\n",
    "print(DWT_sim)\n"
   ]
  },
  {
   "cell_type": "code",
   "execution_count": null,
   "metadata": {
    "scrolled": false
   },
   "outputs": [],
   "source": [
    "# show sim report\n",
    "ALRW.Report_Sim(py_month_ini=6);\n"
   ]
  },
  {
   "cell_type": "code",
   "execution_count": null,
   "metadata": {
    "scrolled": false
   },
   "outputs": [],
   "source": [
    "# Plot Simulated DWTs probabilities (with TCs DWTs)\n",
    "\n",
    "bmus_sim = DWT_sim.isel(n_sim=0).evbmus_sims.values[:]\n",
    "dbmus_sim = DWT_sim.time.values[:]\n",
    "\n",
    "Plot_DWTs_Probs(bmus_sim, dbmus_sim, alr_num_clusters);\n"
   ]
  },
  {
   "cell_type": "code",
   "execution_count": null,
   "metadata": {},
   "outputs": [],
   "source": [
    "# Plot AWTs/DWTs Probabilities \n",
    "\n",
    "xds_AWT = xr.open_dataset(p_outputs + 'SST/CC_SST_AWT_sim.nc')\n",
    "\n",
    "# clusters to plot (no TCs)\n",
    "n_clusters_AWT = 6\n",
    "n_clusters_DWT = 42\n",
    "n_sim = 0  # simulation to plot\n",
    "\n",
    "\n",
    "# AWT simulated - evbmus_sims -1 \n",
    "xds_AWT = xr.Dataset(\n",
    "    {'bmus': (('time',), xds_AWT.evbmus_sims.isel(n_sim=n_sim)-1)},\n",
    "    coords = {'time': xds_AWT.time.values[:]}\n",
    ")\n",
    "\n",
    "# DWT simulated - evbmus_sims -1\n",
    "xds_DWT = xr.Dataset(\n",
    "    {'bmus': (('time',), DWT_sim.evbmus_sims.isel(n_sim=n_sim)-1)},\n",
    "    coords = {'time': DWT_sim.time.values[:]}\n",
    ")\n",
    "\n",
    "# reindex AWT to daily dates (year pad to days)\n",
    "xds_AWT = xds_reindex_daily(xds_AWT)\n",
    "\n",
    "# get common dates\n",
    "dc = xds_common_dates_daily([xds_AWT, xds_DWT])\n",
    "xds_DWT = xds_DWT.sel(time=slice(dc[0], dc[-1]))\n",
    "xds_AWT = xds_AWT.sel(time=slice(dc[0], dc[-1]))\n",
    "\n",
    "\n",
    "# Plot AWTs/DWTs sim - simulated\n",
    "AWT_bmus = xds_AWT.bmus.values[:]\n",
    "DWT_bmus = xds_DWT.bmus.values[:]\n",
    "\n",
    "Plot_Probs_WT_WT(\n",
    "    AWT_bmus, DWT_bmus, n_clusters_AWT, n_clusters_DWT,\n",
    "    wt_colors=True, ttl = 'DWTs Probabilities by AWTs - Simulation'\n",
    ");\n",
    "\n",
    "\n",
    "Plot_Probs_WT_WT_anomaly(\n",
    "    AWT_bmus, DWT_bmus, n_clusters_AWT, n_clusters_DWT,\n",
    "    wt_colors=True, ttl = 'DWTs Probabilities by AWTs - anomalies Simulation'\n",
    ");\n"
   ]
  },
  {
   "cell_type": "code",
   "execution_count": null,
   "metadata": {},
   "outputs": [],
   "source": []
  }
 ],
 "metadata": {
  "kernelspec": {
   "display_name": "Python 3",
   "language": "python",
   "name": "python3"
  },
  "language_info": {
   "codemirror_mode": {
    "name": "ipython",
    "version": 3
   },
   "file_extension": ".py",
   "mimetype": "text/x-python",
   "name": "python",
   "nbconvert_exporter": "python",
   "pygments_lexer": "ipython3",
   "version": "3.7.2"
  }
 },
 "nbformat": 4,
 "nbformat_minor": 2
}
