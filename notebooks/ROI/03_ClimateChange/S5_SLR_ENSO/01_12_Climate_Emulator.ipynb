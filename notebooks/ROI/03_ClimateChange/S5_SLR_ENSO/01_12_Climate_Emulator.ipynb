{
 "cells": [
  {
   "cell_type": "markdown",
   "metadata": {},
   "source": [
    "\n",
    "... ***CURRENTLY UNDER DEVELOPMENT*** ...\n"
   ]
  },
  {
   "cell_type": "markdown",
   "metadata": {},
   "source": [
    "## Obtain synthetic waves and water level timeseries under a climate change scenario (future TCs occurrence probability)\n",
    "\n",
    "inputs required: \n",
    "  * Historical DWTs (for plotting)\n",
    "  * Historical wave families (for plotting)\n",
    "  * Synthetic DWTs climate change\n",
    "  * Historical intradaily hydrograph parameters  \n",
    "  * TCs waves\n",
    "  \n",
    "in this notebook:\n",
    "  * Generate synthetic time series of wave conditions   \n",
    "  * Validate the synthetic waves by means of mean distributions\n",
    "  * \n",
    "  <span style='color:Red'> TODO: ¿¿Compare the synthetic waves by means of mean distributions **(with and without climate change)**??. ¿¿ QUEDAN IGUALES PRACTICAMETNE ?? </span>\n"
   ]
  },
  {
   "cell_type": "code",
   "execution_count": 1,
   "metadata": {},
   "outputs": [],
   "source": [
    "#!/usr/bin/env python\n",
    "# -*- coding: utf-8 -*-\n",
    "\n",
    "# common\n",
    "import os\n",
    "import os.path as op\n",
    "import shutil\n",
    "\n",
    "\n",
    "# pip\n",
    "import numpy as np\n",
    "import xarray as xr\n",
    "np.set_printoptions(precision=3)\n",
    "from datetime import datetime\n",
    "import matplotlib.pyplot as plt\n",
    "\n",
    "# DEV: override installed teslakit\n",
    "import sys\n",
    "sys.path.insert(0, op.join(os.path.abspath(''), '..', '..', '..', '..'))\n",
    "\n",
    "# teslakit\n",
    "from teslakit.database import Database\n",
    "from teslakit.climate_emulator import Climate_Emulator\n",
    "\n",
    "from teslakit.plotting.waves import Plot_Waves_Histogram_FitSim\n",
    "from teslakit.plotting.climate_change import Plot_RCP_ocurrence\n"
   ]
  },
  {
   "cell_type": "markdown",
   "metadata": {},
   "source": [
    "\n",
    "## Database and Site parameters"
   ]
  },
  {
   "cell_type": "code",
   "execution_count": 2,
   "metadata": {},
   "outputs": [],
   "source": [
    "# --------------------------------------\n",
    "# Teslakit database\n",
    "\n",
    "p_data = r'/Users/albacid/Projects/TeslaKit_projects'\n",
    "\n",
    "# offshore\n",
    "db = Database(p_data)\n",
    "db.SetSite('ROI')\n",
    "\n",
    "# climate change - S5\n",
    "db_S5 = Database(p_data)\n",
    "db_S5.SetSite('ROI_CC_S5')\n",
    "\n",
    "\n",
    "# climate emulator simulation modified path\n",
    "p_S5_CE_sims = op.join(db_S5.paths.site.EXTREMES.climate_emulator, 'Simulations')\n"
   ]
  },
  {
   "cell_type": "code",
   "execution_count": 3,
   "metadata": {
    "scrolled": false
   },
   "outputs": [],
   "source": [
    "# --------------------------------------\n",
    "# Load data for plotting (waves partitions and families, KMA, DWT)\n",
    "\n",
    "WVS = db.Load_WAVES_hist()      # Historical gow waves point\n",
    "KMA = db.Load_ESTELA_KMA()      # ESTELA predictor KMA\n",
    "\n",
    "# prepare KMA data \n",
    "DWTs_fit = xr.Dataset(\n",
    "    {\n",
    "        'bmus'       : ('time', KMA['sorted_bmus_storms'].values[:] + 1),\n",
    "        'cenEOFs'    : (('n_clusters', 'n_features',), KMA['cenEOFs'].values[:]),\n",
    "    },\n",
    "    coords = {'time' : KMA['time'].values[:]}\n",
    ")\n",
    "\n",
    "# Waves and KMA bmus data share time dimension\n",
    "WVS_fit = WVS.sel(time = DWTs_fit.time)\n",
    "\n",
    "\n",
    "# --------------------------------------\n",
    "# Load data for climate emulator simulation climate change: ESTELA DWT and TCs (MU, TAU) \n",
    "\n",
    "DWTs_sim = db_S5.Load_ESTELA_DWT_sim() # DWTs climate change\n",
    "\n",
    "TCs_params = db.Load_TCs_r2_sim_params()    # TCs parameters (copula generated) \n",
    "TCs_RBFs = db.Load_TCs_sim_r2_rbf_output()  # TCs numerical_IH-RBFs_interpolation output\n",
    "\n",
    "TCs_probs =  db.Load_TCs_probs_synth()      # TCs synthetic probabilities\n",
    "TCs_pchange = TCs_probs['category_change_cumsum'].values[:]\n",
    "\n",
    "l_mutau_wt = db.Load_MU_TAU_hydrograms()   # MU - TAU intradaily hidrographs for each DWT\n",
    "MU_WT = np.array([x.MU.values[:] for x in l_mutau_wt])  # MU and TAU numpy arrays\n",
    "TAU_WT = np.array([x.TAU.values[:] for x in l_mutau_wt])\n",
    "\n"
   ]
  },
  {
   "cell_type": "code",
   "execution_count": 4,
   "metadata": {},
   "outputs": [],
   "source": [
    "# TODO developer\n",
    "DWTs_sim = DWTs_sim.isel(n_sim=slice(0, 10))\n"
   ]
  },
  {
   "cell_type": "markdown",
   "metadata": {},
   "source": [
    "\n",
    "## Climate Emulator - Simulation"
   ]
  },
  {
   "cell_type": "code",
   "execution_count": 5,
   "metadata": {},
   "outputs": [
    {
     "name": "stdout",
     "output_type": "stream",
     "text": [
      "- Sim: 1 -\n"
     ]
    },
    {
     "name": "stderr",
     "output_type": "stream",
     "text": [
      "C.E: Sim. Waves: 100%|██████████| 113875/113875 [44:32<00:00, 42.60it/s] \n",
      "C.E: Sim. TCs  : 100%|██████████| 113875/113875 [00:03<00:00, 28501.98it/s]\n"
     ]
    },
    {
     "name": "stdout",
     "output_type": "stream",
     "text": [
      "- Sim: 2 -\n"
     ]
    },
    {
     "name": "stderr",
     "output_type": "stream",
     "text": [
      "C.E: Sim. Waves: 100%|██████████| 113970/113970 [43:16<00:00, 43.90it/s] \n",
      "C.E: Sim. TCs  : 100%|██████████| 113970/113970 [00:03<00:00, 29558.06it/s]\n"
     ]
    },
    {
     "name": "stdout",
     "output_type": "stream",
     "text": [
      "- Sim: 3 -\n"
     ]
    },
    {
     "name": "stderr",
     "output_type": "stream",
     "text": [
      "C.E: Sim. Waves: 100%|██████████| 113764/113764 [40:41<00:00, 46.60it/s] \n",
      "C.E: Sim. TCs  : 100%|██████████| 113764/113764 [00:03<00:00, 28547.28it/s]\n"
     ]
    },
    {
     "name": "stdout",
     "output_type": "stream",
     "text": [
      "- Sim: 4 -\n"
     ]
    },
    {
     "name": "stderr",
     "output_type": "stream",
     "text": [
      "C.E: Sim. Waves: 100%|██████████| 114351/114351 [39:38<00:00, 48.08it/s] \n",
      "C.E: Sim. TCs  : 100%|██████████| 114351/114351 [00:04<00:00, 28536.86it/s]\n"
     ]
    },
    {
     "name": "stdout",
     "output_type": "stream",
     "text": [
      "- Sim: 5 -\n"
     ]
    },
    {
     "name": "stderr",
     "output_type": "stream",
     "text": [
      "C.E: Sim. Waves: 100%|██████████| 113676/113676 [45:35<00:00, 41.56it/s] \n",
      "C.E: Sim. TCs  : 100%|██████████| 113676/113676 [00:03<00:00, 28475.10it/s]\n"
     ]
    },
    {
     "name": "stdout",
     "output_type": "stream",
     "text": [
      "- Sim: 6 -\n"
     ]
    },
    {
     "name": "stderr",
     "output_type": "stream",
     "text": [
      "C.E: Sim. Waves: 100%|██████████| 114004/114004 [39:25<00:00, 48.19it/s] \n",
      "C.E: Sim. TCs  : 100%|██████████| 114004/114004 [00:04<00:00, 28375.55it/s]\n"
     ]
    },
    {
     "name": "stdout",
     "output_type": "stream",
     "text": [
      "- Sim: 7 -\n"
     ]
    },
    {
     "name": "stderr",
     "output_type": "stream",
     "text": [
      "C.E: Sim. Waves: 100%|██████████| 114335/114335 [39:31<00:00, 48.21it/s] \n",
      "C.E: Sim. TCs  : 100%|██████████| 114335/114335 [00:04<00:00, 28179.95it/s]\n"
     ]
    },
    {
     "name": "stdout",
     "output_type": "stream",
     "text": [
      "- Sim: 8 -\n"
     ]
    },
    {
     "name": "stderr",
     "output_type": "stream",
     "text": [
      "C.E: Sim. Waves: 100%|██████████| 114339/114339 [39:48<00:00, 47.88it/s] \n",
      "C.E: Sim. TCs  : 100%|██████████| 114339/114339 [00:04<00:00, 28351.94it/s]\n"
     ]
    },
    {
     "name": "stdout",
     "output_type": "stream",
     "text": [
      "- Sim: 9 -\n"
     ]
    },
    {
     "name": "stderr",
     "output_type": "stream",
     "text": [
      "C.E: Sim. Waves: 100%|██████████| 114142/114142 [39:46<00:00, 47.83it/s] \n",
      "C.E: Sim. TCs  : 100%|██████████| 114142/114142 [00:04<00:00, 28045.28it/s]\n"
     ]
    },
    {
     "name": "stdout",
     "output_type": "stream",
     "text": [
      "- Sim: 10 -\n"
     ]
    },
    {
     "name": "stderr",
     "output_type": "stream",
     "text": [
      "C.E: Sim. Waves: 100%|██████████| 114136/114136 [1:14:41<00:00, 25.47it/s]   \n",
      "C.E: Sim. TCs  : 100%|██████████| 114136/114136 [00:04<00:00, 27861.38it/s]\n"
     ]
    }
   ],
   "source": [
    "# --------------------------------------\n",
    "# Climate Emulator extremes model fitting\n",
    "\n",
    "# Load Climate Emulator\n",
    "CE = Climate_Emulator(db.paths.site.EXTREMES.climate_emulator)\n",
    "CE.Load()\n",
    "\n",
    "# set a new path for S5 simulations\n",
    "CE.Set_Simulation_Folder(p_S5_CE_sims, copy_WAVES_noTCs = False)  # climate change waves (no TCs) not simulated, DWTs have changed\n",
    "\n",
    "# --------------------------------------\n",
    "#  Climate Emulator simulation\n",
    "\n",
    "# each DWT series will generate a different set of waves\n",
    "for n in DWTs_sim.n_sim:\n",
    "    print('- Sim: {0} -'.format(int(n)+1))\n",
    "    \n",
    "    # Select DWTs simulation\n",
    "    DWTs = DWTs_sim.sel(n_sim=n)\n",
    "    \n",
    "    # Simulate waves\n",
    "    n_ce = 1  # (one CE sim. for each DWT sim.)\n",
    "    WVS_sim = CE.Simulate_Waves(DWTs, n_ce, filters={'hs':True, 'tp':True, 'ws':True})\n",
    "\n",
    "    # Simulate TCs and update simulated waves\n",
    "    TCs_sim, WVS_upd = CE.Simulate_TCs(DWTs, WVS_sim, TCs_params, TCs_RBFs, TCs_pchange, MU_WT, TAU_WT)\n",
    "    \n",
    "    # store simulation data\n",
    "    CE.SaveSim(WVS_sim, TCs_sim, WVS_upd, int(n))\n",
    "    "
   ]
  },
  {
   "cell_type": "code",
   "execution_count": 3,
   "metadata": {},
   "outputs": [
    {
     "data": {
      "image/png": "[encoded data removed]",
      "text/plain": [
       "<Figure size 1141.66x705.6 with 9 Axes>"
      ]
     },
     "metadata": {
      "needs_background": "light"
     },
     "output_type": "display_data"
    },
    {
     "name": "stdout",
     "output_type": "stream",
     "text": [
      "(array([  26684,   42213,   45437,  185198,  233242,  351560,  378676,\n",
      "        411421,  417047,  476750,  479158,  565045,  590894,  647319,\n",
      "        698844,  732084,  748873,  841648,  923111,  931296,  984020,\n",
      "       1049392, 1054589, 1057451, 1072409, 1074241]),)\n",
      "(array([  31621,  106246,  133810,  178998,  231618,  373368,  410387,\n",
      "        428157,  428444,  467189,  471912,  491211,  552450,  582826,\n",
      "        669410,  786048,  806258,  811092,  832651,  840420,  867409,\n",
      "        899653,  977567, 1013137, 1019853, 1022112, 1049568]),)\n"
     ]
    },
    {
     "ename": "SystemExit",
     "evalue": "",
     "output_type": "error",
     "traceback": [
      "An exception has occurred, use %tb to see the full traceback.\n",
      "\u001b[0;31mSystemExit\u001b[0m\n"
     ]
    }
   ],
   "source": [
    "# --------------------------------------\n",
    "# Plot all Simulations \n",
    "n_sim_CE = 0    # switch WAVES Simulation (generated from CE Sim.)\n",
    "\n",
    "\n",
    "# Load Climate Emulator\n",
    "CE = Climate_Emulator(db.paths.site.EXTREMES.climate_emulator)\n",
    "\n",
    "WVS_upd_all_sims = CE.LoadSim_All(n_sim_ce = n_sim_CE)\n",
    "WVS_upd_all_sims = WVS_upd_all_sims.to_xarray()\n",
    "\n",
    "\n",
    "# Load Climate Emulator climate change\n",
    "CE.Set_Simulation_Folder(p_S5_CE_sims)\n",
    "\n",
    "WVS_upd_all_sims_CC = CE.LoadSim_All(n_sim_ce = n_sim_CE)\n",
    "WVS_upd_all_sims_CC = WVS_upd_all_sims_CC.to_xarray()\n",
    "\n",
    "\n",
    "# Plot simulated waves parameters distribution \n",
    "Plot_Waves_Histogram_FitSim(WVS_upd_all_sims, WVS_upd_all_sims_CC);\n",
    "\n",
    "\n",
    "# TODO: en las simulaciones (con y sin cambio climatico), sea_DIR da direcciones >360\n",
    "\n",
    "# TODO: change legend\n",
    "    # historical --> simulation\n",
    "    # simulation --> simulation climate change\n",
    "\n",
    "# TODO: no hay apenas diferencias... como lo pintamos?\n",
    "\n",
    "# TODO: aplicar este cambio al resto de escenarios\n",
    "\n",
    "print(np.where(WVS_upd_all_sims.sea_Dir.values>360))\n",
    "print(np.where(WVS_upd_all_sims_CC.sea_Dir.values>360))\n",
    "\n"
   ]
  },
  {
   "cell_type": "code",
   "execution_count": null,
   "metadata": {},
   "outputs": [],
   "source": []
  }
 ],
 "metadata": {
  "kernelspec": {
   "display_name": "Python 3",
   "language": "python",
   "name": "python3"
  },
  "language_info": {
   "codemirror_mode": {
    "name": "ipython",
    "version": 3
   },
   "file_extension": ".py",
   "mimetype": "text/x-python",
   "name": "python",
   "nbconvert_exporter": "python",
   "pygments_lexer": "ipython3",
   "version": "3.7.2"
  }
 },
 "nbformat": 4,
 "nbformat_minor": 2
}
