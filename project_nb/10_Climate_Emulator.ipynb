{
 "cells": [
  {
   "cell_type": "code",
   "execution_count": 1,
   "metadata": {
    "scrolled": false
   },
   "outputs": [],
   "source": [
    "#!/usr/bin/env python\n",
    "# -*- coding: utf-8 -*-\n",
    "\n",
    "# common\n",
    "import os\n",
    "import os.path as op\n",
    "import ast\n",
    "import pickle\n",
    "import sys\n",
    "sys.path.insert(0, op.dirname(os.getcwd()))\n",
    "\n",
    "# pip\n",
    "import numpy as np\n",
    "import xarray as xr\n",
    "from datetime import datetime\n",
    "import matplotlib.pyplot as plt\n",
    "\n",
    "# tk \n",
    "from teslakit.project_site import Site\n",
    "from teslakit.io.matlab import ReadGowMat\n",
    "from teslakit.estela import Predictor\n",
    "from teslakit.climate_emulator import Climate_Emulator\n",
    "\n",
    "\n",
    "# --------------------------------------\n",
    "# Site paths and parameters\n",
    "site = Site('KWAJALEIN_TEST')\n",
    "\n",
    "DB = site.pc.DB                        # common database\n",
    "ST = site.pc.site                      # site database\n",
    "PR = site.params                       # site parameters\n",
    "\n",
    "# input files\n",
    "p_wvs_parts = ST.WAVES.partitions_p1            # wave partitions (hs, tp)\n",
    "p_wvs_fams_noTCs = ST.WAVES.families_notcs      # wave families (TCs removed)\n",
    "p_kma_estela = op.join(ST.ESTELA.pred_slp, 'kma.nc')        # estela slp predictor KMA\n",
    "p_wvs_fams_TCs_c = ST.WAVES.families_tcs_categ  # waves families at TCs time window by categories (folder)\n",
    "\n",
    "p_dwt_sim = ST.ESTELA.sim_dwt                   # daily weather types simulated with ALR\n",
    "\n",
    "# TCs simulation input files\n",
    "p_sim_r2_params = ST.TCs.sim_r2_params          # TCs parameters (copula generated) \n",
    "p_sim_r2_RBF_output = ST.TCs.sim_r2_rbf_output  # TCs numerical_IH-RBFs_interpolation output\n",
    "p_probs_synth = ST.TCs.probs_synth              # synthetic TCs probabilities\n",
    "p_mutau_wt = ST.ESTELA.hydrog_mutau             # intradaily WTs mu,tau data folder\n",
    "\n",
    "\n",
    "# climate emulator folder\n",
    "p_ce = ST.EXTREMES.climate_emulator  \n"
   ]
  },
  {
   "cell_type": "code",
   "execution_count": 2,
   "metadata": {
    "scrolled": false
   },
   "outputs": [
    {
     "name": "stdout",
     "output_type": "stream",
     "text": [
      "[61.1158     63.64       64.9341     ... 62.96787554 61.87508608\n",
      " 62.58904021]\n"
     ]
    }
   ],
   "source": [
    "# --------------------------------------\n",
    "# Load data for climate emulator fitting\n",
    "\n",
    "# original wave partitions (hourly data)\n",
    "xds_WVS_pts = ReadGowMat(p_wvs_parts)\n",
    "\n",
    "# wave families (sea, swl1, swl2) without TCs\n",
    "xds_WVS_fam = xr.open_dataset(p_wvs_fams_noTCs)\n",
    "\n",
    "# ESTELA predictor KMA\n",
    "xds_KMA = xr.open_dataset(p_kma_estela)\n",
    "\n",
    "\n",
    "# Load DWTs sims data for climate emulator simulation\n",
    "xds_DWT = xr.open_dataset(p_dwt_sim)\n",
    "\n",
    "# Load TCs-window waves-families data by category\\n\",\n",
    "d_WT_TCs_wvs = {}\n",
    "for k in range(6):\n",
    "    p_s = op.join(p_wvs_fams_TCs_c, 'waves_fams_cat{0}.nc'.format(k))\n",
    "    d_WT_TCs_wvs['{0}'.format(k)] = xr.open_dataset(p_s)\n",
    "\n",
    "\n",
    "\n",
    "\n",
    "# --------------------------------------\n",
    "#  MATLAB TEST DATA    # TODO: delete\n",
    "\n",
    "from teslakit.io.matlab import ReadMatfile\n",
    "from teslakit.custom_dateutils import datevec2datetime as d2d\n",
    "from teslakit.custom_dateutils import DateConverter_Mat2Py as dmp\n",
    "\n",
    "# load test KMA (bmus, time, number of clusters, cenEOFs)\n",
    "p_test_mat = '/Users/nico/Projects/TESLA-kit/source/data/tests/ClimateEmulator/Nico_Montecarlo/'\n",
    "dmatf = ReadMatfile(op.join(p_test_mat, 'bmus_testearpython.mat'))\n",
    "xds_KMA = xr.Dataset(\n",
    "    {\n",
    "        'bmus':('time', dmatf['KMA']['bmus']),\n",
    "        'cenEOFs':(('n_clusters','n_features',), dmatf['KMA']['cenEOFs']),\n",
    "    },\n",
    "    coords = {'time':np.array(d2d(dmatf['KMA']['Dates']))}\n",
    ")\n",
    "\n",
    "# DWTs (Daily Weather Types simulated using ALR)\n",
    "p_DWTs = op.join(p_test_mat, 'DWT_1000years_mjo_awt_v2.mat')\n",
    "dm_DWTs = ReadMatfile(p_DWTs)\n",
    "xds_DWT = xr.Dataset(\n",
    "    {\n",
    "        'evbmus_sims':(('time','n_sim'), dm_DWTs['bmusim'].T),\n",
    "    },\n",
    ")\n",
    "\n",
    "# get WTs37,42 from matlab file\n",
    "p_WTTCs = op.join(p_test_mat, 'KWA_waves_2PART_TCs_nan.mat')\n",
    "dm_WTTCs = ReadMatfile(p_WTTCs)\n",
    "\n",
    "# Load TCs-window waves-families data by category\n",
    "d_WTTCs = {}\n",
    "for i in range(6):\n",
    "\n",
    "    k = 'wt{0}'.format(i+1+36)\n",
    "    sd = dm_WTTCs[k]\n",
    "\n",
    "    d_WTTCs['{0}'.format(i+1+36)] = xr.Dataset(\n",
    "        {\n",
    "            'sea_Hs':(('time',), sd['seaHs']),\n",
    "            'sea_Dir':(('time',), sd['seaDir']),\n",
    "            'sea_Tp':(('time',), sd['seaTp']),\n",
    "            'swell_1_Hs':(('time',), sd['swl1Hs']),\n",
    "            'swell_1_Dir':(('time',), sd['swl1Dir']),\n",
    "            'swell_1_Tp':(('time',), sd['swl1Tp']),\n",
    "            'swell_2_Hs':(('time',), sd['swl2Hs']),\n",
    "            'swell_2_Dir':(('time',), sd['swl2Dir']),\n",
    "            'swell_2_Tp':(('time',), sd['swl2Tp']),\n",
    "        }\n",
    "    )\n",
    "\n"
   ]
  },
  {
   "cell_type": "code",
   "execution_count": 3,
   "metadata": {},
   "outputs": [],
   "source": [
    "\n",
    "# TODO: remove. Reducing DWT size for testing\n",
    "xds_DWT = xds_DWT.isel(time=slice(0,1000))\n"
   ]
  },
  {
   "cell_type": "code",
   "execution_count": 4,
   "metadata": {},
   "outputs": [
    {
     "ename": "SystemExit",
     "evalue": "",
     "output_type": "error",
     "traceback": [
      "An exception has occurred, use %tb to see the full traceback.\n",
      "\u001b[0;31mSystemExit\u001b[0m\n"
     ]
    }
   ],
   "source": [
    "# --------------------------------------\n",
    "# Climate Emulator extremes model fitting\n",
    "\n",
    "# climate emulator object\n",
    "CE = Climate_Emulator(p_ce)\n",
    "\n",
    "# Waves and KMA bmus data share time dimension\n",
    "xds_WVS_fam = xds_WVS_fam.sel(time=xds_KMA.time)\n",
    "xds_WVS_pts = xds_WVS_pts.sel(time=xds_KMA.time)\n",
    "\n",
    "# Fit extremes model\n",
    "CE.FitExtremes(xds_KMA, xds_WVS_pts, xds_WVS_fam)\n"
   ]
  },
  {
   "cell_type": "code",
   "execution_count": null,
   "metadata": {
    "scrolled": false
   },
   "outputs": [],
   "source": [
    "# Fit report figures\n",
    "CE = Climate_Emulator(p_ce)\n",
    "CE.Load()\n",
    "CE.Report_Fit()\n"
   ]
  },
  {
   "cell_type": "code",
   "execution_count": null,
   "metadata": {
    "scrolled": false
   },
   "outputs": [],
   "source": [
    "# --------------------------------------\n",
    "#  Climate Emulator simulation (NO TCs)\n",
    "\n",
    "# climate emulator object\n",
    "CE = Climate_Emulator(p_ce)\n",
    "CE.Load()\n",
    "\n",
    "# Simulate waves\n",
    "ls_wvs_sim = CE.Simulate_Waves(xds_DWT, d_WTTCs)\n"
   ]
  },
  {
   "cell_type": "code",
   "execution_count": null,
   "metadata": {
    "scrolled": false
   },
   "outputs": [],
   "source": [
    "# --------------------------------------\n",
    "# Load data (needed to simulate WITH TCs)\n",
    "\n",
    "# TCs simulated with numerical and RBFs (parameters and num/RBF output)\n",
    "xds_TCs_params = xr.open_dataset(p_sim_r2_params)\n",
    "xds_TCs_RBFs = xr.open_dataset(p_sim_r2_RBF_output)\n",
    "\n",
    "# Synth. TCs probabilitie changues\n",
    "xds_probs_TCs = xr.open_dataset(p_probs_synth)\n",
    "pchange_TCs = xds_probs_TCs['category_change_cumsum'].values[:]\n",
    "\n",
    "# MU - TAU intradaily hidrographs for each WWT\n",
    "l_mutau_ncs = sorted(\n",
    "    [op.join(p_mutau_wt, pf) for pf in os.listdir(p_mutau_wt) if pf.endswith('.nc')]\n",
    ")\n",
    "xdsets_mutau_wt = [xr.open_dataset(x) for x in l_mutau_ncs]\n",
    "\n",
    "# get only MU and TAU numpy arrays\n",
    "MU_WT = np.array([x.MU.values[:] for x in xdsets_mutau_wt])\n",
    "TAU_WT = np.array([x.TAU.values[:] for x in xdsets_mutau_wt])\n",
    "\n",
    "\n",
    "# --------------------------------------\n",
    "#  TODO LOAD MATLAB TEST DATA\n",
    "#p_mutaumat = op.join(p_test_mat, 'MU_TAU_36WT.mat')\n",
    "#dm_MUTAU = ReadMatfile(p_mutaumat)\n",
    "#print(dm_MUTAU)"
   ]
  },
  {
   "cell_type": "code",
   "execution_count": null,
   "metadata": {
    "scrolled": false
   },
   "outputs": [],
   "source": [
    "# --------------------------------------\n",
    "#  Climate Emulator simulation (TCs)\n",
    "\n",
    "# climate emulator object\n",
    "CE = Climate_Emulator(p_ce)\n",
    "CE.Load()\n",
    "\n",
    "# Simulate TCs and update simulated waves\n",
    "ls_tcs_sim, ls_wvs_sim = CE.Simulate_TCs(xds_DWT, d_WTTCs, xds_TCs_params, xds_TCs_RBFs, pchange_TCs, MU_WT, TAU_WT)\n"
   ]
  },
  {
   "cell_type": "code",
   "execution_count": null,
   "metadata": {},
   "outputs": [],
   "source": []
  }
 ],
 "metadata": {
  "kernelspec": {
   "display_name": "teslakit3",
   "language": "python",
   "name": "teslakit3"
  },
  "language_info": {
   "codemirror_mode": {
    "name": "ipython",
    "version": 3
   },
   "file_extension": ".py",
   "mimetype": "text/x-python",
   "name": "python",
   "nbconvert_exporter": "python",
   "pygments_lexer": "ipython3",
   "version": "3.7.2"
  }
 },
 "nbformat": 4,
 "nbformat_minor": 2
}
